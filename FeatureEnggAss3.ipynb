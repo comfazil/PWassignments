{
 "cells": [
  {
   "cell_type": "markdown",
   "id": "7b8dc350-4cec-47db-b6ec-3a4983ad8c0c",
   "metadata": {},
   "source": [
    "## Q1. What is data encoding? How is it useful in data science?\n"
   ]
  },
  {
   "cell_type": "markdown",
   "id": "110d3cc5-a34a-4b10-a74d-1dbf003ff7fb",
   "metadata": {},
   "source": [
    "Data encoding is the process of converting data from one form to another to make it suitable for processing, storage, and transmission. In data science, data encoding is useful for transforming categorical data into numerical data so that machine learning algorithms can process it."
   ]
  },
  {
   "cell_type": "markdown",
   "id": "d233825c-5401-4851-9ffd-d9d759644989",
   "metadata": {},
   "source": [
    "## Q2. What is nominal encoding? Provide an example of how you would use it in a real-world scenario.\n"
   ]
  },
  {
   "cell_type": "markdown",
   "id": "240280f8-766b-458f-9aae-9a3a40692636",
   "metadata": {},
   "source": [
    " Nominal encoding is a technique used to convert categorical data into numerical data by assigning a unique number to each category. For example, suppose you have a dataset containing information about students, including their grade levels (freshman, sophomore, junior, senior). In that case, you can use nominal encoding to assign a number to each grade level (e.g., freshman=1, sophomore=2, junior=3, senior=4)."
   ]
  },
  {
   "cell_type": "markdown",
   "id": "ce1f3382-850e-4a57-83ea-b1eeb9a7e197",
   "metadata": {},
   "source": [
    "## Q3. In what situations is nominal encoding preferred over one-hot encoding? Provide a practical example."
   ]
  },
  {
   "cell_type": "markdown",
   "id": "3ba0b834-c284-4f47-9c79-464ce2b64749",
   "metadata": {},
   "source": [
    "Nominal encoding is preferred over one-hot encoding when the number of categories in the data is large, and the data is sparse. In practical scenarios, nominal encoding can be used for categorical data with several categories that occur infrequently. For example, suppose you have a dataset containing information about customers, including their occupation. In that case, nominal encoding can be used to assign a unique number to each occupation."
   ]
  },
  {
   "cell_type": "markdown",
   "id": "3aefab6a-4bac-45a4-97a9-953baad6e8ce",
   "metadata": {},
   "source": [
    "## Q4. Suppose you have a dataset containing categorical data with 5 unique values. Which encoding technique would you use to transform this data into a format suitable for machine learning algorithms? Explain why you made this choice.\n"
   ]
  },
  {
   "cell_type": "markdown",
   "id": "a21301ea-3b5e-4da0-a59e-90ba8fcc2d75",
   "metadata": {},
   "source": [
    "Suppose the dataset contains categorical data with 5 unique values; in that case, I would use nominal encoding to transform the data into a numerical format suitable for machine learning algorithms. This is because nominal encoding is useful for encoding data with a small number of categories, and it allows the data to be processed by machine learning algorithms.\n",
    "\n"
   ]
  },
  {
   "cell_type": "markdown",
   "id": "c4de028c-309e-4a34-bfbb-8c6ebd4b80c3",
   "metadata": {},
   "source": [
    "## Q5. In a machine learning project, you have a dataset with 1000 rows and 5 columns. Two of the columns are categorical, and the remaining three columns are numerical. If you were to use nominal encoding to transform the categorical data, how many new columns would be created? Show your calculations.\n"
   ]
  },
  {
   "cell_type": "markdown",
   "id": "6d903cda-0b88-4e58-b2a2-0febb7120880",
   "metadata": {},
   "source": [
    " If nominal encoding is used to transform the two categorical columns, a new column will be created for each unique value in the categorical columns. Therefore, if there are 5 unique values in the categorical column, there will be 5 new columns created. Therefore, in this scenario, 10 new columns will be created.\n",
    "\n",
    "Calculation:\n",
    "- Number of unique values in categorical columns = 2\n",
    "- Number of unique values in the first categorical column = 5\n",
    "- Number of unique values in the second categorical column = 3\n",
    "- Total number of new columns created = Number of unique values in the first categorical column + Number of unique values in the second categorical column = 5 + 3 = 8\n",
    "- Therefore, there will be 8 new columns created.\n"
   ]
  },
  {
   "cell_type": "markdown",
   "id": "95ef096e-b10a-410a-96ff-4a1b26ab4ba9",
   "metadata": {},
   "source": [
    "## Q6. You are working with a dataset containing information about different types of animals, including their species, habitat, and diet. Which encoding technique would you use to transform the categorical data into a format suitable for machine learning algorithms? Justify your answer."
   ]
  },
  {
   "cell_type": "markdown",
   "id": "ec59cab2-eece-4cb4-a3d3-38bf58277aa5",
   "metadata": {},
   "source": [
    " I would use one-hot encoding to transform the categorical data into a format suitable for machine learning algorithms because it is useful for encoding categorical data with multiple categories, which is often the case with animal species, habitat, and diet.\n"
   ]
  },
  {
   "cell_type": "markdown",
   "id": "379a9ea2-bf13-4c32-9d59-e5cac1d0f048",
   "metadata": {},
   "source": [
    "## Q7.You are working on a project that involves predicting customer churn for a telecommunications company. You have a dataset with 5 features, including the customer's gender, age, contract type, monthly charges, and tenure. Which encoding technique(s) would you use to transform the categorical data into numerical data? Provide a step-by-step explanation of how you would implement the encoding."
   ]
  },
  {
   "cell_type": "markdown",
   "id": "198538fc-edd3-4ee6-9113-6ed2e015df30",
   "metadata": {},
   "source": [
    " To transform the categorical data into numerical data, I would use a combination of nominal encoding and one-hot encoding. I would use nominal encoding for the gender and contract type columns since they have only a few categories. For the age column, I would use numerical encoding since it is already in numerical format. Finally, I would use one-hot encoding for the monthly charges column since it can have a large number of categories. The step-by-step process would be:\n",
    "\n",
    "- Use nominal encoding to transform the gender and contract type columns.\n",
    "- Use numerical encoding for the age column.\n",
    "Use one-hot encoding for the monthly charges column.\n",
    "Concatenate all the encoded columns to create the final dataset suitable for machine learning algorithms."
   ]
  }
 ],
 "metadata": {
  "kernelspec": {
   "display_name": "Python 3 (ipykernel)",
   "language": "python",
   "name": "python3"
  },
  "language_info": {
   "codemirror_mode": {
    "name": "ipython",
    "version": 3
   },
   "file_extension": ".py",
   "mimetype": "text/x-python",
   "name": "python",
   "nbconvert_exporter": "python",
   "pygments_lexer": "ipython3",
   "version": "3.10.8"
  }
 },
 "nbformat": 4,
 "nbformat_minor": 5
}
