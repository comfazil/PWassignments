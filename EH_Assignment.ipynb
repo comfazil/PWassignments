{
 "cells": [
  {
   "cell_type": "markdown",
   "id": "f7e1032f-112e-44b2-a773-37d2f3bf054c",
   "metadata": {},
   "source": [
    "# Q1. What is an Exception in python? Write the difference between Exceptions and syntax errors."
   ]
  },
  {
   "cell_type": "markdown",
   "id": "72829805-816d-42c1-aac5-079337773ef3",
   "metadata": {},
   "source": [
    "## Ans : An error is an issue in a program that prevents the program from completing its task. In comparison, an exception is a condition that interrupts the normal flow of the program. Both errors and exceptions are a type of runtime error, which means they occur during the execution of a program."
   ]
  },
  {
   "cell_type": "markdown",
   "id": "54bc2c64-f02b-455c-a310-5a39c13b5523",
   "metadata": {},
   "source": [
    "# Q.2 What happens when an exception is not handeled? Explain with an example."
   ]
  },
  {
   "cell_type": "markdown",
   "id": "453099d8-a6c5-4b7a-b855-b4eae984f51f",
   "metadata": {},
   "source": [
    "## Ans : If an exception is not handeled then a runtime error will occur and it will stop the execution of program, and an error message will be printed on the screen."
   ]
  },
  {
   "cell_type": "markdown",
   "id": "88179e53-32ff-4647-9c64-d44edab46cdd",
   "metadata": {},
   "source": [
    "## Example :"
   ]
  },
  {
   "cell_type": "code",
   "execution_count": 1,
   "id": "2870a4e1-7cf0-4b55-8cbd-f509e0f9d148",
   "metadata": {},
   "outputs": [
    {
     "ename": "ZeroDivisionError",
     "evalue": "division by zero",
     "output_type": "error",
     "traceback": [
      "\u001b[0;31m---------------------------------------------------------------------------\u001b[0m",
      "\u001b[0;31mZeroDivisionError\u001b[0m                         Traceback (most recent call last)",
      "Cell \u001b[0;32mIn[1], line 2\u001b[0m\n\u001b[1;32m      1\u001b[0m x \u001b[38;5;241m=\u001b[39m \u001b[38;5;241m10\u001b[39m\n\u001b[0;32m----> 2\u001b[0m \u001b[43mx\u001b[49m\u001b[38;5;241;43m/\u001b[39;49m\u001b[38;5;241;43m0\u001b[39;49m\n",
      "\u001b[0;31mZeroDivisionError\u001b[0m: division by zero"
     ]
    }
   ],
   "source": [
    "x = 10\n",
    "x/0"
   ]
  },
  {
   "cell_type": "markdown",
   "id": "e19a654a-4ce7-4525-83a1-5fd2d192e447",
   "metadata": {},
   "source": [
    "# Q.3 Which Python statements are used to catch and handle exceptions? Explain with an example."
   ]
  },
  {
   "cell_type": "markdown",
   "id": "ffa034ad-6c17-4033-abc7-8fd28879c301",
   "metadata": {},
   "source": [
    "## Ans : Satatements used to handle exceptions :\n",
    "## 1. try  2. except  3. else   4. raise   5. finally   \n"
   ]
  },
  {
   "cell_type": "markdown",
   "id": "54759203-184b-4e0a-9f3d-b2bb1c40335f",
   "metadata": {},
   "source": [
    "## Mainly try and except statements are used to catch and handle the exceptions.\n",
    "1. try :\n",
    "    - This block tries to execute the code written in it.\n",
    "    - Statements that can raise an error are kept inside       the try block.\n",
    "\n",
    "\n",
    "2. except :\n",
    "\t- Statements that handle the exception are kept in         the except block.\n",
    "    - If the code fom the try block raises an error the         flow of execution transfers to the except block and       it handles the error.\n",
    "\n",
    "    "
   ]
  },
  {
   "cell_type": "markdown",
   "id": "8c391d88-c29c-4520-96e1-7ea334a5f11c",
   "metadata": {},
   "source": [
    "Example"
   ]
  },
  {
   "cell_type": "code",
   "execution_count": 4,
   "id": "e991b9f1-9582-40e5-950c-11902dc5e266",
   "metadata": {},
   "outputs": [
    {
     "name": "stdout",
     "output_type": "stream",
     "text": [
      "division by zero\n"
     ]
    }
   ],
   "source": [
    "try :\n",
    "    55/0\n",
    "except ZeroDivisionError as e:\n",
    "    print(e)"
   ]
  },
  {
   "cell_type": "markdown",
   "id": "ccb81aee-86f9-4303-a35e-686daa30375f",
   "metadata": {},
   "source": [
    "# Q.4 Exaplin with an Example:   \n",
    "##    a. try and else\n",
    "##    b. finally\n",
    "##    c. raise"
   ]
  },
  {
   "cell_type": "markdown",
   "id": "f9fc29e8-9aef-4567-a8f0-ec41bc11226c",
   "metadata": {},
   "source": [
    "## Ans :  a. try and else : If a try block does not raise an exception the else block gets executed. Else block is written after the except block."
   ]
  },
  {
   "cell_type": "code",
   "execution_count": 9,
   "id": "b7983c00-ff00-44a6-99e6-b7f6cda5244e",
   "metadata": {},
   "outputs": [
    {
     "name": "stdout",
     "output_type": "stream",
     "text": [
      "Else block executed\n"
     ]
    }
   ],
   "source": [
    "import logging\n",
    "logging.basicConfig(filename= 'exception.log', level = logging.INFO )\n",
    "try :\n",
    "    10/5\n",
    "    \n",
    "except ZeroDivisionError as e:\n",
    "    print(e)\n",
    "\n",
    "else :\n",
    "    logging.info(\"Else block executed successfully\")\n",
    "    print(\"Else block executed\")"
   ]
  },
  {
   "cell_type": "markdown",
   "id": "76ba9792-3c74-4615-8612-2ad2561a76e4",
   "metadata": {},
   "source": [
    "## b.finally : Statements which are executed in any condition wether the program raises an error or not doesn't matter are written in finally block."
   ]
  },
  {
   "cell_type": "code",
   "execution_count": 10,
   "id": "9a9acc0d-d465-4324-a9e7-a7148169d6e2",
   "metadata": {},
   "outputs": [],
   "source": [
    "try :\n",
    "    10/5\n",
    "    \n",
    "except ZeroDivisionError as e:\n",
    "    print(e)\n",
    "\n",
    "finally :\n",
    "    logging.info(\"Finally block executed\")"
   ]
  },
  {
   "cell_type": "markdown",
   "id": "352cf0eb-b016-4c05-8ea8-69673df97d59",
   "metadata": {},
   "source": [
    "## c. raise : The raise statement allows the programmer to force a specific exception to occur. The sole argument in raise indicates the exception to be raised."
   ]
  },
  {
   "cell_type": "code",
   "execution_count": 23,
   "id": "66f81d6e-88a4-41f2-9de3-a0549e2818f7",
   "metadata": {},
   "outputs": [
    {
     "name": "stdout",
     "output_type": "stream",
     "text": [
      "An exception flew by!\n"
     ]
    },
    {
     "ename": "NameError",
     "evalue": "HiThere",
     "output_type": "error",
     "traceback": [
      "\u001b[0;31m---------------------------------------------------------------------------\u001b[0m",
      "\u001b[0;31mNameError\u001b[0m                                 Traceback (most recent call last)",
      "Cell \u001b[0;32mIn[23], line 2\u001b[0m\n\u001b[1;32m      1\u001b[0m \u001b[38;5;28;01mtry\u001b[39;00m:\n\u001b[0;32m----> 2\u001b[0m     \u001b[38;5;28;01mraise\u001b[39;00m \u001b[38;5;167;01mNameError\u001b[39;00m(\u001b[38;5;124m'\u001b[39m\u001b[38;5;124mHiThere\u001b[39m\u001b[38;5;124m'\u001b[39m)\n\u001b[1;32m      3\u001b[0m \u001b[38;5;28;01mexcept\u001b[39;00m \u001b[38;5;167;01mNameError\u001b[39;00m:\n\u001b[1;32m      4\u001b[0m     \u001b[38;5;28mprint\u001b[39m(\u001b[38;5;124m'\u001b[39m\u001b[38;5;124mAn exception flew by!\u001b[39m\u001b[38;5;124m'\u001b[39m)\n",
      "\u001b[0;31mNameError\u001b[0m: HiThere"
     ]
    }
   ],
   "source": [
    "try:\n",
    "    raise NameError('HiThere')\n",
    "except NameError:\n",
    "    print('An exception flew by!')\n",
    "    raise"
   ]
  },
  {
   "cell_type": "markdown",
   "id": "81e1c05f-2c6f-4428-8336-4d065e71ced7",
   "metadata": {},
   "source": [
    "# Q.5 What are custom exceptions in Python? Why do we need custom exceptions? Exaplain with an example."
   ]
  },
  {
   "cell_type": "markdown",
   "id": "901c63d3-cc8c-4eaf-a6be-d707f7672cef",
   "metadata": {},
   "source": [
    "## Ans : In Python, we can create our own exceptions that are derived classes of the Exception class. Creating our own Exception is known as custom exception or user-defined exception. Basically, Python custom exceptions are used to customize the exception according to user need. We need Custom exceptions because there are limited pre-defined exceptions in Python. So, if we want to create an exception we can define it by the method of custom exceptions. Below is an example."
   ]
  },
  {
   "cell_type": "markdown",
   "id": "634a16de-3f30-4c35-afa8-fb61072072ff",
   "metadata": {},
   "source": [
    "Example :"
   ]
  },
  {
   "cell_type": "code",
   "execution_count": 3,
   "id": "7627d24f-f4b0-4cda-a359-664ad29485b0",
   "metadata": {},
   "outputs": [
    {
     "name": "stdin",
     "output_type": "stream",
     "text": [
      "Enter a number:  8\n"
     ]
    },
    {
     "name": "stdout",
     "output_type": "stream",
     "text": [
      "Exception occurred: Invalid Age\n"
     ]
    }
   ],
   "source": [
    "# define Python user-defined exceptions\n",
    "class InvalidAgeException(Exception):\n",
    "    \"Raised when the input value is less than 18\"\n",
    "    pass\n",
    "\n",
    "try:\n",
    "    input_num = int(input(\"Enter a number: \"))\n",
    "    if input_num < 18:\n",
    "        raise InvalidAgeException\n",
    "    else:\n",
    "        print(\"Eligible to Vote\")\n",
    "        \n",
    "except InvalidAgeException:\n",
    "    print(\"Exception occurred: Invalid Age\")"
   ]
  },
  {
   "cell_type": "markdown",
   "id": "7b2c30ea-1627-4ad8-a36a-08c1dab9227e",
   "metadata": {},
   "source": [
    "# Q.6 Create a custom exception class. Use this class to handle an exception."
   ]
  },
  {
   "cell_type": "code",
   "execution_count": 16,
   "id": "d7aa9aec-7d38-4847-bea7-98abcbf92935",
   "metadata": {},
   "outputs": [
    {
     "name": "stdout",
     "output_type": "stream",
     "text": [
      "CustomException Occured..!!\n"
     ]
    }
   ],
   "source": [
    "class CustomException(Exception):\n",
    "    \"Custom Exception executed..!!\"\n",
    "    pass\n",
    "\n",
    "try:\n",
    "    num = 'fazil'\n",
    "    if type(num) == str :\n",
    "        raise CustomException\n",
    "\n",
    "except CustomException:\n",
    "    print(\"CustomException Occured..!!\")\n",
    "    "
   ]
  },
  {
   "cell_type": "code",
   "execution_count": null,
   "id": "89af20ec-6f80-41ae-8ae8-e79ab6f4f9d7",
   "metadata": {},
   "outputs": [],
   "source": []
  }
 ],
 "metadata": {
  "kernelspec": {
   "display_name": "Python 3 (ipykernel)",
   "language": "python",
   "name": "python3"
  },
  "language_info": {
   "codemirror_mode": {
    "name": "ipython",
    "version": 3
   },
   "file_extension": ".py",
   "mimetype": "text/x-python",
   "name": "python",
   "nbconvert_exporter": "python",
   "pygments_lexer": "ipython3",
   "version": "3.10.8"
  }
 },
 "nbformat": 4,
 "nbformat_minor": 5
}
