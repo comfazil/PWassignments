{
 "cells": [
  {
   "cell_type": "markdown",
   "id": "aa20cb01-2f93-4bbc-a345-3b357988ced1",
   "metadata": {},
   "source": [
    "## Q1. What is anomaly detection and what is its purpose?\n"
   ]
  },
  {
   "cell_type": "markdown",
   "id": "d2b3efd4-b5d9-4c98-9dda-237354a59143",
   "metadata": {},
   "source": [
    "Anomaly detection is a process of identifying patterns in data that deviate from the expected behavior or normal patterns. Its purpose is to detect rare and unusual events or behaviors that may be indicative of anomalies, errors, fraud, or other significant events that require attention."
   ]
  },
  {
   "cell_type": "markdown",
   "id": "a5836a03-0e29-45c9-85d4-b85e662066a3",
   "metadata": {},
   "source": [
    "## Q2. What are the key challenges in anomaly detection?\n"
   ]
  },
  {
   "cell_type": "markdown",
   "id": "ab05a5de-e528-431c-866f-bd0fc2d52eb2",
   "metadata": {},
   "source": [
    "The key challenges in anomaly detection include determining what constitutes normal behavior, dealing with imbalanced datasets where anomalies are rare, dealing with high-dimensional datasets, and selecting appropriate algorithms and parameters for a given problem."
   ]
  },
  {
   "cell_type": "markdown",
   "id": "02553e1f-1c2c-40d5-9ad6-94f2f409f775",
   "metadata": {},
   "source": [
    "## Q3. How does unsupervised anomaly detection differ from supervised anomaly detection?\n"
   ]
  },
  {
   "cell_type": "markdown",
   "id": "0222c2af-2a23-4ca1-832b-4f05a15b551d",
   "metadata": {},
   "source": [
    "Unsupervised anomaly detection methods do not rely on labeled data and aim to detect anomalies in an unsupervised manner, while supervised anomaly detection methods require labeled data and aim to learn a model that can classify data points as normal or anomalous.\n",
    "\n"
   ]
  },
  {
   "cell_type": "markdown",
   "id": "29fc23b5-4d0a-455c-b6d8-4f4c26475c0c",
   "metadata": {},
   "source": [
    "## Q4. What are the main categories of anomaly detection algorithms?\n"
   ]
  },
  {
   "cell_type": "markdown",
   "id": "4281f0aa-dd4c-4ff6-968f-6389186e5e0e",
   "metadata": {},
   "source": [
    "The main categories of anomaly detection algorithms are statistical methods, distance-based methods, density-based methods, model-based methods, and spectral methods."
   ]
  },
  {
   "cell_type": "markdown",
   "id": "33e1baac-30f7-459e-add2-5c59c6d9cc82",
   "metadata": {},
   "source": [
    "## Q5. What are the main assumptions made by distance-based anomaly detection methods?\n"
   ]
  },
  {
   "cell_type": "markdown",
   "id": "2535da3e-88eb-4ddb-81cb-e9b756f5a136",
   "metadata": {},
   "source": [
    "Distance-based anomaly detection methods assume that anomalous data points are far from normal points in the feature space. These methods compute the distances between data points and use statistical measures such as mean and standard deviation to identify anomalies."
   ]
  },
  {
   "cell_type": "markdown",
   "id": "c1cf98fc-2457-4090-b700-f0e8fd73923e",
   "metadata": {},
   "source": [
    "## Q6. How does the LOF algorithm compute anomaly scores?\n"
   ]
  },
  {
   "cell_type": "markdown",
   "id": "ffcdbcaf-a4af-4f38-8c24-d6a4b6222208",
   "metadata": {},
   "source": [
    "The LOF algorithm computes anomaly scores by comparing the local density of a data point to the local densities of its k-nearest neighbors. The anomaly score is the ratio of the average density of the k-nearest neighbors to the density of the data point itself.\n",
    "\n"
   ]
  },
  {
   "cell_type": "markdown",
   "id": "915b2c2f-d428-4e47-8cca-b2e810336a7a",
   "metadata": {},
   "source": [
    "## Q7. What are the key parameters of the Isolation Forest algorithm?\n"
   ]
  },
  {
   "cell_type": "markdown",
   "id": "12161e91-4a53-45d5-9181-b9f6843a62f5",
   "metadata": {},
   "source": [
    " The key parameters of the Isolation Forest algorithm are the number of trees in the forest and the maximum depth of each tree. The number of trees controls the randomness and robustness of the algorithm, while the maximum depth controls the trade-off between accuracy and computational complexity.\n",
    "\n"
   ]
  },
  {
   "cell_type": "markdown",
   "id": "c2a57e54-7826-4f21-8f6b-d860eb0b2c70",
   "metadata": {},
   "source": [
    "## Q8. If a data point has only 2 neighbours of the same class within a radius of 0.5, what is its anomaly score using KNN with K=10?\n"
   ]
  },
  {
   "cell_type": "markdown",
   "id": "b29dc66c-9674-44ed-b908-7751b048ff90",
   "metadata": {},
   "source": [
    "The anomaly score using KNN with K=10 would be 0.8, which is calculated as (2/10)/(10*0.2) where 2 is the number of neighbors of the same class, 10 is the total number of neighbors, and 0.2 is the expected fraction of neighbors of the same class.\n",
    "\n"
   ]
  },
  {
   "cell_type": "markdown",
   "id": "fc392f91-40ec-451b-aa91-92e67291bc22",
   "metadata": {},
   "source": [
    "## Q9. Using the Isolation Forest algorithm with 100 trees and a dataset of 3000 data points, what is the anomaly score for a data point that has an average path length of 5.0 compared to the average path length of the trees?"
   ]
  },
  {
   "cell_type": "markdown",
   "id": "2149be40-b522-44b6-8808-409e98a44860",
   "metadata": {},
   "source": [
    " The anomaly score using the Isolation Forest algorithm would be (1/3000)*2^(5.0/-0.301), which is calculated as the average path length of the data point in the forest normalized by the expected average path length for a normal point."
   ]
  },
  {
   "cell_type": "code",
   "execution_count": null,
   "id": "e9e1a89a-f0c3-4680-ab2c-b4f64f9223db",
   "metadata": {},
   "outputs": [],
   "source": []
  }
 ],
 "metadata": {
  "kernelspec": {
   "display_name": "Python 3 (ipykernel)",
   "language": "python",
   "name": "python3"
  },
  "language_info": {
   "codemirror_mode": {
    "name": "ipython",
    "version": 3
   },
   "file_extension": ".py",
   "mimetype": "text/x-python",
   "name": "python",
   "nbconvert_exporter": "python",
   "pygments_lexer": "ipython3",
   "version": "3.10.8"
  }
 },
 "nbformat": 4,
 "nbformat_minor": 5
}
