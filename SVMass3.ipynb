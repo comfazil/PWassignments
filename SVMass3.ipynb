{
 "cells": [
  {
   "cell_type": "markdown",
   "id": "dae33c40-be5f-471e-bb79-54b93cf8e81a",
   "metadata": {},
   "source": [
    "## Q1. In order to predict house price based on several characteristics, such as location, square footage, number of bedrooms, etc., you are developing an SVM regression model. Which regression metric in this situation would be the best to employ?"
   ]
  },
  {
   "cell_type": "markdown",
   "id": "205f581e-a7a3-4133-b6ff-718f45c8e113",
   "metadata": {},
   "source": [
    "When predicting house prices based on several characteristics, mean squared error (MSE) would be a good regression metric to employ for an SVM regression model. MSE measures the average squared difference between the predicted and actual values, which is useful in assessing the accuracy of the model's predictions. Additionally, it penalizes large errors more than small errors, making it a good choice for predicting house prices where the cost of larger errors could be significant."
   ]
  },
  {
   "cell_type": "markdown",
   "id": "0ea846af-6b3f-43e4-847b-9562e2424e32",
   "metadata": {},
   "source": [
    "## Q2. You have built an SVM regression model and are trying to decide between using MSE or R-squared as your evaluation metric. Which metric would be more appropriate if your goal is to predict the actual price of a house as accurately as possible?\n"
   ]
  },
  {
   "cell_type": "markdown",
   "id": "a0360fa8-c03e-46da-96c8-310a12ff4e7e",
   "metadata": {},
   "source": [
    " If the goal is to predict the actual price of a house as accurately as possible, MSE (Mean Squared Error) would be the more appropriate evaluation metric. MSE measures the average of the squared differences between the predicted and actual values, which gives a good idea of how well the model is fitting the data. The lower the MSE, the better the model is at predicting the actual prices of houses."
   ]
  },
  {
   "cell_type": "markdown",
   "id": "abc7478a-d606-4ec5-a5a0-3ad461f6ff4e",
   "metadata": {},
   "source": [
    "## Q3. You have a dataset with a significant number of outliers and are trying to select an appropriate regression metric to use with your SVM model. Which metric would be the most appropriate in this scenario?"
   ]
  },
  {
   "cell_type": "markdown",
   "id": "b6fa3662-93fc-4f2e-a0e4-b3be694ee948",
   "metadata": {},
   "source": [
    " If the dataset contains a significant number of outliers, then Mean Absolute Error (MAE) would be the most appropriate regression metric to use with the SVM model. This is because MAE is less sensitive to outliers than other metrics such as MSE or RMSE (Root Mean Squared Error). Since MAE measures the average absolute differences between the predicted and actual values, it is less affected by extreme values in the data."
   ]
  },
  {
   "cell_type": "markdown",
   "id": "1f0d2507-c1f4-4a2e-910e-ae9645b7c10f",
   "metadata": {},
   "source": [
    "## Q4. You have built an SVM regression model using a polynomial kernel and are trying to select the best metric to evaluate its performance. You have calculated both MSE and RMSE and found that both values are very close. Which metric should you choose to use in this case?\n"
   ]
  },
  {
   "cell_type": "markdown",
   "id": "46fdff45-75da-4d87-b818-4950c1b28591",
   "metadata": {},
   "source": [
    "If MSE and RMSE are both very close, it is generally recommended to use RMSE as the evaluation metric in this case. This is because RMSE takes the square root of the MSE, which makes it more interpretable as it is in the same units as the target variable. However, in some cases where there are extreme values in the data, it may be more appropriate to use MSE as it is less affected by outliers."
   ]
  },
  {
   "cell_type": "markdown",
   "id": "4805f454-3070-4bae-93d8-46cafcdce20e",
   "metadata": {},
   "source": [
    "## Q5. You are comparing the performance of different SVM regression models using different kernels (linear, polynomial, and RBF) and are trying to select the best evaluation metric. Which metric would be most appropriate if your goal is to measure how well the model explains the variance in the target variable?"
   ]
  },
  {
   "cell_type": "markdown",
   "id": "4f348790-7015-4998-b36c-c1adb12f4382",
   "metadata": {},
   "source": [
    " If the goal is to measure how well the model explains the variance in the target variable, R-squared would be the most appropriate evaluation metric. R-squared measures the proportion of the variance in the target variable that is explained by the model. The closer the R-squared value is to 1, the better the model is at explaining the variance in the target variable. However, it is important to note that R-squared is not always the best metric to use as it can be influenced by the number of predictors in the model and may not be a good measure of predictive accuracy. In some cases, other metrics such as Mean Squared Error (MSE) or Root Mean Squared Error (RMSE) may be more appropriate."
   ]
  },
  {
   "cell_type": "code",
   "execution_count": null,
   "id": "488e8102-2199-4af4-9b42-a15a3f633f63",
   "metadata": {},
   "outputs": [],
   "source": []
  }
 ],
 "metadata": {
  "kernelspec": {
   "display_name": "Python 3 (ipykernel)",
   "language": "python",
   "name": "python3"
  },
  "language_info": {
   "codemirror_mode": {
    "name": "ipython",
    "version": 3
   },
   "file_extension": ".py",
   "mimetype": "text/x-python",
   "name": "python",
   "nbconvert_exporter": "python",
   "pygments_lexer": "ipython3",
   "version": "3.10.8"
  }
 },
 "nbformat": 4,
 "nbformat_minor": 5
}
