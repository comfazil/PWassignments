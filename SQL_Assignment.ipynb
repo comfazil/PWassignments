{
 "cells": [
  {
   "cell_type": "markdown",
   "id": "0382c6ea-ed82-4814-b7d2-829eb47cdfec",
   "metadata": {},
   "source": [
    "## Q.1 What is a database? Differentiate between SQL and NoSQL databases."
   ]
  },
  {
   "cell_type": "markdown",
   "id": "50acf1da-bff3-4fd3-bfb5-ae61cc9f7f7a",
   "metadata": {},
   "source": [
    "A database is an organized collection of data that can be stored, accessed, and manipulated easily. SQL and NoSQL are two different types of database management systems that differ in their structure, storage etc.\n",
    "\n",
    "- SQL Databases follow a structured data model, where data is stored in tabular format. While NOSQL databases follow an unstructured data model, where data is oraganized in a felxible document or key-value format.\n",
    "\n",
    "- SQL databases have a fixed schema, which defines the structure of the database and the types of data that can be stored in it. In contrast, NoSQL databases do not have a fixed schema, and the structure of the database can be changed as needed.\n",
    "\n",
    "- SQL databases can only store textual data, whereas NOSQL databases can store images, audio, video files also."
   ]
  },
  {
   "cell_type": "markdown",
   "id": "2bfdd6b3-5f77-46a3-b84e-d60732f41797",
   "metadata": {},
   "source": [
    "## Q2. What is DDL? Explain why CREATE, DROP, ALTER, and TRUNCATE are used with an example."
   ]
  },
  {
   "cell_type": "markdown",
   "id": "8cb1a99e-2418-49f7-838b-a42f8a07637b",
   "metadata": {},
   "source": [
    "DDL stands for Data Definition Language, which is a set of SQL commands used to create, modify, and delete database objects such as tables, indexes, and constraints.\n",
    "\n",
    "- CREATE : used to create a new database object, such as a table or index. \n",
    "\tex :Q3. What is DML? Explain INSERT, UPDATE, and DELETE with an example.\n",
    "\tCREATE TABLE customers (\n",
    "    id INT PRIMARY KEY,\n",
    "    name VARCHAR(50),\n",
    "    email VARCHAR(100));\n",
    "    \n",
    "- DROP : used to delete an existing database object, such as a table or index.\n",
    "\tex :\n",
    "    DROP table customers;\n",
    "    \n",
    "- ALTER : used to modify an existing database object, such as a table or index.\n",
    "\tex :\n",
    "    ALTER TABLE customers ADD phone VARCHAR(20);\n",
    "\n",
    "- TRUNCATE :used to delete all the data from an existing table, but keeps the structure of the table intact.\n",
    "\tex :\n",
    "    TRUNCATE TABLE customers;\n",
    "\n",
    "\n",
    "\t\t"
   ]
  },
  {
   "cell_type": "markdown",
   "id": "470c1f2d-6fb6-48c5-bf2a-e552f1af5725",
   "metadata": {},
   "source": [
    "## Q3. What is DML? Explain INSERT, UPDATE, and DELETE with an example."
   ]
  },
  {
   "cell_type": "markdown",
   "id": "b052b2f8-5df3-4716-bcf1-3b7ed4f22d67",
   "metadata": {},
   "source": [
    "DML stands for Data Manipulation Language, which is a set of SQL commands used to manipulate data stored in a database. \n",
    "\n",
    "- INSERT : used to insert new data into a table.\n",
    "\tex : \n",
    "    INSERT INTO customers (id, name, email) VALUES (1, 'Shreya Deshmukh', 'shreya@example.com');\n",
    "\n",
    "- UPDATE : used to update existing data in a table.\n",
    "\tex :\n",
    "    UPDATE customers SET email='johndoe123@example.com' WHERE id=1;\n",
    "\n",
    "- DELETE : used to delete data from a table.\n",
    "\tEX :\n",
    "    DELETE FROM customers WHERE id=1;\n",
    "\n"
   ]
  },
  {
   "cell_type": "markdown",
   "id": "72374e85-a640-4070-85b6-f61510eae882",
   "metadata": {},
   "source": [
    "## Q4. What is DQL? Explain SELECT with an example."
   ]
  },
  {
   "cell_type": "markdown",
   "id": "b42ed37f-710f-4428-805e-c047b0a92345",
   "metadata": {},
   "source": [
    "DQL stands for Data Query Language, which is a set of SQL commands used to retrieve data from a database. The most common DQL command is SELECT, which is used to select data from one or more tables in a database.\n",
    "\n",
    "For example,\n",
    "[SELECT * from employees;] will return all the rows and colums present in the table."
   ]
  },
  {
   "cell_type": "markdown",
   "id": "f2504746-b680-4813-815e-f9c1bfe61352",
   "metadata": {},
   "source": [
    "## Q5. Explain Primary Key and Foreign Key."
   ]
  },
  {
   "cell_type": "markdown",
   "id": "e945314e-2329-4df8-8625-53319cc24601",
   "metadata": {},
   "source": [
    "In a relational database, a primary key and a foreign key are used to establish relationships between tables.\n",
    "\n",
    "Primary Key: A primary key is a column or a combination of columns that uniquely identifies each row in a table. It is used to enforce data integrity by ensuring that each row in the table is unique and can be identified without ambiguity. Typically, a primary key is defined on a column or set of columns that contain unique values.\n",
    "\n",
    "Foreign Key: A foreign key is a column or a combination of columns in one table that refers to the primary key of another table. It is used to establish relationships between tables, which allows us to retrieve related data from multiple tables using JOINs.\n"
   ]
  },
  {
   "cell_type": "markdown",
   "id": "6146e738-055a-4169-8457-303f105ca636",
   "metadata": {},
   "source": [
    "## Q6. Write a python code to connect MySQL to python. Explain the cursor() and execute() method."
   ]
  },
  {
   "cell_type": "code",
   "execution_count": null,
   "id": "d56614af-7e70-4045-b4d2-dbc0579b6db5",
   "metadata": {},
   "outputs": [],
   "source": [
    "# Python code to connect with MySQL\n",
    "import mysql.connector\n",
    "mydb = mysql.connector.connect(\n",
    "  host=\"localhost\",\n",
    "  user=\"abc\",\n",
    "  password=\"password\"\n",
    ")\n",
    "print(mydb)\n",
    "mycursor = mydb.cursor()\n",
    "mycursor.execute(\"SHOW DATABASES\")\n",
    "for x in mycursor:\n",
    "  print(x)"
   ]
  },
  {
   "cell_type": "markdown",
   "id": "5b2a4d31-eae0-497b-8f67-d53510f91dbd",
   "metadata": {},
   "source": [
    "cursor(): The cursor() method is used to create a cursor object, which is used to execute SQL statements and fetch data from the database. \n",
    "\n",
    "execute() :  The execute() method is used to execute an SQL statement using the cursor object. The SQL statement is passed as a parameter to the execute() method."
   ]
  },
  {
   "cell_type": "markdown",
   "id": "347b7e0c-e130-4370-8b9f-c30ef2fead1f",
   "metadata": {},
   "source": [
    "## Q7. Give the order of execution of SQL clauses in an SQL query."
   ]
  },
  {
   "cell_type": "markdown",
   "id": "6473bcbe-6715-4354-9cc6-3e53255f35db",
   "metadata": {},
   "source": [
    "1. SELECT\n",
    "2. FROM\n",
    "3. WHERE\n",
    "4. GROUP BY\n",
    "5. HAVING\n",
    "6. OREDER BY\n",
    "7. LIMIT"
   ]
  },
  {
   "cell_type": "code",
   "execution_count": null,
   "id": "d3bcc09a-51f0-4fe1-b8b9-40cc3ff23b43",
   "metadata": {},
   "outputs": [],
   "source": []
  }
 ],
 "metadata": {
  "kernelspec": {
   "display_name": "Python 3 (ipykernel)",
   "language": "python",
   "name": "python3"
  },
  "language_info": {
   "codemirror_mode": {
    "name": "ipython",
    "version": 3
   },
   "file_extension": ".py",
   "mimetype": "text/x-python",
   "name": "python",
   "nbconvert_exporter": "python",
   "pygments_lexer": "ipython3",
   "version": "3.10.8"
  }
 },
 "nbformat": 4,
 "nbformat_minor": 5
}
