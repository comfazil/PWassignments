{
 "cells": [
  {
   "cell_type": "markdown",
   "id": "949a2e1f-ca7c-4121-a16b-09c66b60c20e",
   "metadata": {},
   "source": [
    "## Q1. Pearson correlation coefficient is a measure of the linear relationship between two variables. Suppose you have collected data on the amount of time students spend studying for an exam and their final exam scores. Calculate the Pearson correlation coefficient between these two variables and interpret the result.\n"
   ]
  },
  {
   "cell_type": "code",
   "execution_count": 1,
   "id": "6e2865f6-cf7d-41e2-9a1c-4c12a438580e",
   "metadata": {},
   "outputs": [
    {
     "name": "stdout",
     "output_type": "stream",
     "text": [
      "Pearson correlation coefficient: 1.0\n",
      "There is a positive linear relationship between study time and exam scores.\n"
     ]
    }
   ],
   "source": [
    "import scipy.stats\n",
    "\n",
    "# Sample data on study time and exam scores\n",
    "study_time = [5, 10, 15, 20, 25]  # hours\n",
    "exam_scores = [60, 70, 80, 90, 100]\n",
    "\n",
    "# Calculate Pearson correlation coefficient\n",
    "pearson_corr, _ = scipy.stats.pearsonr(study_time, exam_scores)\n",
    "\n",
    "# Interpret the result\n",
    "print(\"Pearson correlation coefficient:\", pearson_corr)\n",
    "if pearson_corr > 0:\n",
    "    print(\"There is a positive linear relationship between study time and exam scores.\")\n",
    "elif pearson_corr < 0:\n",
    "    print(\"There is a negative linear relationship between study time and exam scores.\")\n",
    "else:\n",
    "    print(\"There is no linear relationship between study time and exam scores.\")\n"
   ]
  },
  {
   "cell_type": "markdown",
   "id": "e354404a-d358-4a99-b12a-27e34df496cd",
   "metadata": {},
   "source": [
    "## Q2. Spearman's rank correlation is a measure of the monotonic relationship between two variables. Suppose you have collected data on the amount of sleep individuals get each night and their overall job satisfaction level on a scale of 1 to 10. Calculate the Spearman's rank correlation between these two variables and interpret the result.\n"
   ]
  },
  {
   "cell_type": "code",
   "execution_count": 2,
   "id": "40b3354d-3da8-4753-9578-c0d9ee7695bf",
   "metadata": {},
   "outputs": [
    {
     "name": "stdout",
     "output_type": "stream",
     "text": [
      "Spearman's rank correlation coefficient: 1.0\n",
      "There is a positive monotonic relationship between sleep hours and job satisfaction.\n"
     ]
    }
   ],
   "source": [
    "import scipy.stats\n",
    "\n",
    "# Sample data on sleep hours and job satisfaction levels\n",
    "sleep_hours = [7, 8, 6, 5, 6]  # hours\n",
    "job_satisfaction = [8, 9, 7, 6, 7]  # on a scale of 1 to 10\n",
    "\n",
    "# Calculate Spearman's rank correlation coefficient\n",
    "spearman_corr, _ = scipy.stats.spearmanr(sleep_hours, job_satisfaction)\n",
    "\n",
    "# Interpret the result\n",
    "print(\"Spearman's rank correlation coefficient:\", spearman_corr)\n",
    "if spearman_corr > 0:\n",
    "    print(\"There is a positive monotonic relationship between sleep hours and job satisfaction.\")\n",
    "elif spearman_corr < 0:\n",
    "    print(\"There is a negative monotonic relationship between sleep hours and job satisfaction.\")\n",
    "else:\n",
    "    print(\"There is no monotonic relationship between sleep hours and job satisfaction.\")\n"
   ]
  },
  {
   "cell_type": "markdown",
   "id": "51db0cc9-7e1f-43c6-b4c1-24776c8985c1",
   "metadata": {
    "tags": []
   },
   "source": [
    "## Q3. Suppose you are conducting a study to examine the relationship between the number of hours of exercise per week and body mass index (BMI) in a sample of adults. You collected data on both variables for 50 participants. Calculate the Pearson correlation coefficient and the Spearman's rank correlation between these two variables and compare the results."
   ]
  },
  {
   "cell_type": "code",
   "execution_count": 3,
   "id": "905a88af-2fb5-4e76-bf92-f15bf4af9403",
   "metadata": {},
   "outputs": [
    {
     "name": "stdout",
     "output_type": "stream",
     "text": [
      "Pearson correlation coefficient: 1.0\n",
      "Spearman's rank correlation coefficient: 0.9999999999999999\n"
     ]
    }
   ],
   "source": [
    "import scipy.stats\n",
    "\n",
    "# Sample data on exercise hours and BMI\n",
    "exercise_hours = [3, 4, 5, 6, 7]  # hours per week\n",
    "bmi = [22, 24, 26, 28, 30]\n",
    "\n",
    "# Calculate Pearson correlation coefficient\n",
    "pearson_corr, _ = scipy.stats.pearsonr(exercise_hours, bmi)\n",
    "\n",
    "# Calculate Spearman's rank correlation coefficient\n",
    "spearman_corr, _ = scipy.stats.spearmanr(exercise_hours, bmi)\n",
    "\n",
    "# Compare the results\n",
    "print(\"Pearson correlation coefficient:\", pearson_corr)\n",
    "print(\"Spearman's rank correlation coefficient:\", spearman_corr)\n"
   ]
  },
  {
   "cell_type": "markdown",
   "id": "bc1a0bb0-cf84-4526-879b-09fff6a88a93",
   "metadata": {},
   "source": [
    "## Q4. A researcher is interested in examining the relationship between the number of hours individuals spend watching television per day and their level of physical activity. The researcher collected data on both variables from a sample of 50 participants. Calculate the Pearson correlation coefficient between these two variables."
   ]
  },
  {
   "cell_type": "code",
   "execution_count": 4,
   "id": "82714ce2-4fc5-4b93-a3fb-4476503f270a",
   "metadata": {},
   "outputs": [
    {
     "name": "stdout",
     "output_type": "stream",
     "text": [
      "Pearson correlation coefficient between TV hours and physical activity level: -0.19066735177992775\n"
     ]
    }
   ],
   "source": [
    "import scipy.stats\n",
    "import numpy as np\n",
    "\n",
    "# Sample data on TV hours and physical activity level\n",
    "tv_hours = np.random.randint(0, 5, size=50)  # hours per day (generated randomly)\n",
    "physical_activity = np.random.randint(1, 11, size=50)  # physical activity level (generated randomly)\n",
    "\n",
    "# Calculate Pearson correlation coefficient\n",
    "pearson_corr, _ = scipy.stats.pearsonr(tv_hours, physical_activity)\n",
    "\n",
    "# Interpret the result\n",
    "print(\"Pearson correlation coefficient between TV hours and physical activity level:\", pearson_corr)\n"
   ]
  },
  {
   "cell_type": "markdown",
   "id": "93372eb2-6307-473d-9e32-9b38371ca676",
   "metadata": {},
   "source": [
    "## Q5. A survey was conducted to examine the relationship between age and preference for a particular brand of soft drink. The survey results are shown below:\n",
    "\n",
    "\n",
    "    Age      Soft Drink Preference\n",
    "    \n",
    "    25         Coke\n",
    "    42         Pepsi\n",
    "    37         Mountain Dew\n",
    "    19         Coke\n",
    "    31         Pepsi\n",
    "    28         Coke\n"
   ]
  },
  {
   "cell_type": "code",
   "execution_count": 5,
   "id": "4849fe32-8016-42fe-9f9c-a3517bb83557",
   "metadata": {},
   "outputs": [
    {
     "name": "stdout",
     "output_type": "stream",
     "text": [
      "Covariance matrix:\n",
      "[[68.66666667  5.13333333]\n",
      " [ 5.13333333  0.66666667]]\n"
     ]
    }
   ],
   "source": [
    "import numpy as np\n",
    "\n",
    "# Sample data on age and soft drink preference\n",
    "age = np.array([25, 42, 37, 19, 31, 28])\n",
    "soft_drink_preference = np.array([1, 2, 3, 1, 2, 1])  # encoded numerical values for soft drink preference\n",
    "\n",
    "# Calculate covariance matrix\n",
    "covariance_matrix = np.cov(age, soft_drink_preference)\n",
    "\n",
    "# Interpret the results\n",
    "print(\"Covariance matrix:\")\n",
    "print(covariance_matrix)\n"
   ]
  },
  {
   "cell_type": "markdown",
   "id": "2d8ef50d-0c83-49d6-9f0b-30dbc6f07571",
   "metadata": {},
   "source": [
    "## Q6. A company is interested in examining the relationship between the number of sales calls made per day and the number of sales made per week. The company collected data on both variables from a sample of 30 sales representatives. Calculate the Pearson correlation coefficient between these two variables. "
   ]
  },
  {
   "cell_type": "code",
   "execution_count": null,
   "id": "2c9281a8-b925-4ce7-a337-9c0eb3685062",
   "metadata": {},
   "outputs": [],
   "source": []
  }
 ],
 "metadata": {
  "kernelspec": {
   "display_name": "Python 3 (ipykernel)",
   "language": "python",
   "name": "python3"
  },
  "language_info": {
   "codemirror_mode": {
    "name": "ipython",
    "version": 3
   },
   "file_extension": ".py",
   "mimetype": "text/x-python",
   "name": "python",
   "nbconvert_exporter": "python",
   "pygments_lexer": "ipython3",
   "version": "3.10.8"
  }
 },
 "nbformat": 4,
 "nbformat_minor": 5
}
