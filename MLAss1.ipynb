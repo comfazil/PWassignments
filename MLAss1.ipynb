{
 "cells": [
  {
   "cell_type": "markdown",
   "id": "f94dd3d6-5bdf-4fd9-b231-e5dea36fee3f",
   "metadata": {},
   "source": [
    "## Q1- Explain the following with an example\n",
    "\t- Artificial Intelligence\n",
    "    - Machine Learning\n",
    "\t- Deep Learning"
   ]
  },
  {
   "cell_type": "markdown",
   "id": "2284161c-77f6-4788-bb6f-5a6d1341ac47",
   "metadata": {},
   "source": [
    "Artificial Intelligence (AI)\n",
    "\n",
    "AI is the simulation of human intelligence processes by machines, especially computer systems. It involves the development of algorithms and models that enable machines to learn from data and improve their performance on tasks.\n",
    "\n",
    "\n",
    "\n",
    "Machine Learning (ML)\n",
    "\n",
    "ML is a subset of AI that involves training algorithms to learn from data and make predictions or decisions based on that learning.\n",
    "\n",
    "\n",
    "\n",
    "Deep Learning (DL)\n",
    "\n",
    "DL is a subset of ML that involves training deep neural networks to learn from large amounts of data.\n",
    "\n"
   ]
  },
  {
   "cell_type": "markdown",
   "id": "9ee9e428-cc55-4c75-95f8-c7523aeb5a8f",
   "metadata": {},
   "source": [
    "## Q2- What is supervised learning? List some examples of supervised learning.\n"
   ]
  },
  {
   "cell_type": "markdown",
   "id": "c658e2c2-302e-4b4f-b233-ca30cf7e8175",
   "metadata": {},
   "source": [
    "Supervised learning involves training an algorithm using labeled data, where the correct output is provided for each input. Some examples of supervised learning include image classification, speech recognition, and predicting stock prices.\n",
    "\n"
   ]
  },
  {
   "cell_type": "markdown",
   "id": "058a851d-b791-401b-9009-d3fb51c48f60",
   "metadata": {},
   "source": [
    "## Q3- What is unsupervised learning? List some examples of unsupervised learning."
   ]
  },
  {
   "cell_type": "markdown",
   "id": "3c97d339-6036-44b9-bad9-7e8e54cbf757",
   "metadata": {},
   "source": [
    "Unsupervised learning involves training an algorithm on unlabeled data, where the algorithm must find patterns or structure in the data on its own. Some examples of unsupervised learning include clustering, anomaly detection, and dimensionality reduction."
   ]
  },
  {
   "cell_type": "markdown",
   "id": "17f20c13-5f57-46ef-922a-15c7b8ef8784",
   "metadata": {},
   "source": [
    "## Q4- What is the difference between AI, ML, DL, and DS?\n"
   ]
  },
  {
   "cell_type": "markdown",
   "id": "56cb640b-e721-422c-a38c-99401e3abf81",
   "metadata": {},
   "source": [
    "AI is the broad field that encompasses all aspects of simulating human intelligence in machines. ML is a subset of AI that involves training algorithms to learn from data. DL is a subset of ML that involves training deep neural networks. DS (Data Science) is a field that involves extracting insights from data using statistical and computational techniques."
   ]
  },
  {
   "cell_type": "markdown",
   "id": "ff4a4544-bb0b-4b91-878b-a5f34150d6c4",
   "metadata": {},
   "source": [
    "## Q5- What are the main differences between supervised, unsupervised, and semi-supervised learning?"
   ]
  },
  {
   "cell_type": "markdown",
   "id": "b99641c5-a843-42da-8133-a552822b1179",
   "metadata": {},
   "source": [
    "Supervised learning involves training an algorithm using labeled data, unsupervised learning involves training on unlabeled data, and semi-supervised learning involves training on a combination of labeled and unlabeled data. The main difference between the three is the type of data used for training."
   ]
  },
  {
   "cell_type": "markdown",
   "id": "926a1616-fba1-4a90-a078-ca5e31c07141",
   "metadata": {},
   "source": [
    "## Q6- What is train, test and validation split? Explain the importance of each term."
   ]
  },
  {
   "cell_type": "markdown",
   "id": "7066aabb-8e86-459a-adb3-9f139afd290b",
   "metadata": {},
   "source": [
    "The train-test-validation split is a common practice in machine learning where the available data is split into three subsets: the training set, used to train the model; the validation set, used to tune the model's hyperparameters; and the test set, used to evaluate the model's performance on unseen data. This split is important to prevent overfitting to the training data and ensure the model's generalization performance."
   ]
  },
  {
   "cell_type": "markdown",
   "id": "99113278-da32-4c09-a4c6-0280b08cb6d1",
   "metadata": {},
   "source": [
    "## Q7- How can unsupervised learning be used in anomaly detection?"
   ]
  },
  {
   "cell_type": "markdown",
   "id": "246a4525-cd46-44d8-98a1-8796118aca6b",
   "metadata": {},
   "source": [
    "Unsupervised learning can be used for anomaly detection by training an algorithm on normal data and using it to identify data points that deviate from the norm."
   ]
  },
  {
   "cell_type": "markdown",
   "id": "14c9fc0a-84c0-472f-8172-764c8c9fbbf4",
   "metadata": {},
   "source": [
    "## Q8- List down some commonly used supervised learning algorithms and unsupervised learning algorithms."
   ]
  },
  {
   "cell_type": "markdown",
   "id": "f0d7ab2f-004c-4edf-b73d-e106618e841b",
   "metadata": {},
   "source": [
    "Some commonly used supervised learning algorithms include linear regression, logistic regression, decision trees, and support vector machines. Some commonly used unsupervised learning algorithms include k-means clustering, hierarchical clustering, and principal component analysis (PCA)."
   ]
  }
 ],
 "metadata": {
  "kernelspec": {
   "display_name": "Python 3 (ipykernel)",
   "language": "python",
   "name": "python3"
  },
  "language_info": {
   "codemirror_mode": {
    "name": "ipython",
    "version": 3
   },
   "file_extension": ".py",
   "mimetype": "text/x-python",
   "name": "python",
   "nbconvert_exporter": "python",
   "pygments_lexer": "ipython3",
   "version": "3.10.8"
  }
 },
 "nbformat": 4,
 "nbformat_minor": 5
}
