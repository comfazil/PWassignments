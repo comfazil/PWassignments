{
 "cells": [
  {
   "cell_type": "code",
   "execution_count": null,
   "id": "7cf7ea19-9f97-4c64-bd9c-f28b7bd0482e",
   "metadata": {},
   "outputs": [],
   "source": [
    "#Q.1\n",
    "class vehicle:\n",
    "    def __init__(self, name_of_vehicle, max_speed, average_of_vehicle):\n",
    "        self.name_of_vehicle = name_of_vehicle\n",
    "        self.max_speed = max_speed\n",
    "        self.average_of_vehicle = average_of_vehicle"
   ]
  },
  {
   "cell_type": "code",
   "execution_count": null,
   "id": "65440dc4-bf05-471d-90d4-cb0022e5fcaa",
   "metadata": {},
   "outputs": [],
   "source": [
    "#Q.2\n",
    "class car(vehicle):\n",
    "    def seating_capacity(self, capacity):\n",
    "        self.capacity = capacity\n",
    "        return self.name_of_vehicle, capacity"
   ]
  },
  {
   "cell_type": "code",
   "execution_count": 38,
   "id": "18ad082b-5d8c-496d-989c-d049bde021ca",
   "metadata": {},
   "outputs": [],
   "source": [
    "car_obj = car('Toyota',130,30)"
   ]
  },
  {
   "cell_type": "code",
   "execution_count": 39,
   "id": "c1d510bd-0ced-4256-84f9-f491c87451e3",
   "metadata": {},
   "outputs": [
    {
     "data": {
      "text/plain": [
       "('Toyota', 6)"
      ]
     },
     "execution_count": 39,
     "metadata": {},
     "output_type": "execute_result"
    }
   ],
   "source": [
    "car_obj.seating_capacity(6)"
   ]
  },
  {
   "cell_type": "code",
   "execution_count": null,
   "id": "1a2dcb26-34cf-479d-99b1-57f263b76308",
   "metadata": {},
   "outputs": [],
   "source": []
  },
  {
   "cell_type": "markdown",
   "id": "26acc3c8-82f0-438c-b4c2-8d92f920da4f",
   "metadata": {},
   "source": [
    "# Q.3 : What is multiple inheritance? Write a python code to demonstrate multiple inheritance.\n",
    "\n",
    "## Ans : When a child class is given the access of multiple class as in inheritance, this is called as Multiple Inheritance. In other words, If a two or more classes have the same child class, that child class can access the properties of all the parent class is called as Multiple Inheritance. \n",
    "     \n"
   ]
  },
  {
   "cell_type": "markdown",
   "id": "757bf95f-2ce0-499c-84ae-08b08b245c71",
   "metadata": {},
   "source": [
    "#Example"
   ]
  },
  {
   "cell_type": "code",
   "execution_count": 41,
   "id": "9a5e1114-0511-40c4-bc75-d4d6dcfa80be",
   "metadata": {},
   "outputs": [],
   "source": [
    "class papa:\n",
    "    def test1(self):\n",
    "        return \"Papa\"\n",
    "    \n",
    "class mamma :\n",
    "    def test2(self):\n",
    "        return 'Mummy'\n",
    "\n",
    "class baccha(papa, mamma):\n",
    "    pass"
   ]
  },
  {
   "cell_type": "code",
   "execution_count": 42,
   "id": "d1427c91-2d7a-4ed4-afe4-be0775bdb397",
   "metadata": {},
   "outputs": [],
   "source": [
    "obj_baccha = baccha()"
   ]
  },
  {
   "cell_type": "code",
   "execution_count": 45,
   "id": "5560df5a-1777-4167-aa73-5409110b9f81",
   "metadata": {},
   "outputs": [
    {
     "data": {
      "text/plain": [
       "'Papa'"
      ]
     },
     "execution_count": 45,
     "metadata": {},
     "output_type": "execute_result"
    }
   ],
   "source": [
    "obj_baccha.test1()"
   ]
  },
  {
   "cell_type": "code",
   "execution_count": 46,
   "id": "0534846e-9c8f-49ca-bfcd-6a71f3a1765e",
   "metadata": {},
   "outputs": [
    {
     "data": {
      "text/plain": [
       "'Mummy'"
      ]
     },
     "execution_count": 46,
     "metadata": {},
     "output_type": "execute_result"
    }
   ],
   "source": [
    "obj_baccha.test2()"
   ]
  },
  {
   "cell_type": "markdown",
   "id": "c86491ea-5c11-4a03-a03a-8d0f9a442cec",
   "metadata": {},
   "source": [
    "# Q4. What are getter and setter in python? Create a class and create a getter and a setter method in this class."
   ]
  },
  {
   "cell_type": "markdown",
   "id": "1064bd80-2c1f-40f8-a4b1-4b4566d9cfdc",
   "metadata": {},
   "source": [
    "- Getters and setters in python are basicaly used to acheive encapsulation.\n",
    "- We use getters and setters to add validation logic around getting and setting a value.\n",
    "- to avoid direct access of a class field."
   ]
  },
  {
   "cell_type": "markdown",
   "id": "cf9ce46e-52f4-4cca-b7f1-ddd9967b10d0",
   "metadata": {},
   "source": [
    "# Example"
   ]
  },
  {
   "cell_type": "code",
   "execution_count": 10,
   "id": "31d5d79f-5e94-4826-b684-f80d173c5166",
   "metadata": {},
   "outputs": [
    {
     "name": "stdout",
     "output_type": "stream",
     "text": [
      "setter method called\n",
      "getter method called\n",
      "19\n"
     ]
    }
   ],
   "source": [
    "class Sample:\n",
    "     def __init__(self):\n",
    "          self._age = 0\n",
    "       #getter function by using property as a decorator\n",
    "     @property\n",
    "     def age(self):\n",
    "         print(\"getter method called\")\n",
    "         return self._age\n",
    "       \n",
    "       \n",
    "     @age.setter\n",
    "     def age(self, a):\n",
    "         if(a < 18):\n",
    "            raise ValueError(\"Sorry you age is below eligibility criteria\")\n",
    "         print(\"setter method called\")\n",
    "         self._age = a\n",
    "  \n",
    "mark = Sample()\n",
    "  \n",
    "mark.age = 19\n",
    "  \n",
    "print(mark.age)\n"
   ]
  },
  {
   "cell_type": "markdown",
   "id": "411eb9c4-be14-4aba-985c-ab705661d292",
   "metadata": {},
   "source": [
    "# Q5.What is method overriding in python? Write a python code to demonstrate method overriding."
   ]
  },
  {
   "cell_type": "markdown",
   "id": "460725c5-8446-4e4b-85e8-db690d01a680",
   "metadata": {},
   "source": [
    "# Method Overriding :\n",
    "\t- Method Overriding simply means a method with same name and same parameters but implemented in two different classes including the concept of inheritance.\n",
    "    - If a child class and the parent class both have the same function with the same parameters and return type then it is said to be function overriding.\n",
    "    - The overridden function will be of parent class and the overriding function will be of child class."
   ]
  },
  {
   "cell_type": "markdown",
   "id": "7149ea39-ff3d-4714-8a30-bd1ba5d2fcdd",
   "metadata": {},
   "source": [
    "# Example"
   ]
  },
  {
   "cell_type": "code",
   "execution_count": 13,
   "id": "78071a3c-0967-405e-b250-580d05c6f2ed",
   "metadata": {},
   "outputs": [
    {
     "name": "stdout",
     "output_type": "stream",
     "text": [
      "Inside Parent\n",
      "Inside Child\n"
     ]
    }
   ],
   "source": [
    "class Parent():\n",
    "      \n",
    "\n",
    "    def __init__(self):\n",
    "        self.value = \"Inside Parent\"\n",
    "          \n",
    "\n",
    "    def show(self):\n",
    "        print(self.value)\n",
    "          \n",
    "\n",
    "class Child(Parent):\n",
    "      \n",
    "\n",
    "    def __init__(self):\n",
    "        self.value = \"Inside Child\"\n",
    "          \n",
    "\n",
    "    def show(self):\n",
    "        print(self.value)\n",
    "          \n",
    "        \n",
    "obj1 = Parent()\n",
    "obj2 = Child()\n",
    "  \n",
    "obj1.show()\n",
    "obj2.show()"
   ]
  },
  {
   "cell_type": "code",
   "execution_count": null,
   "id": "9bddd07d-64d6-4820-825c-d358b7b88e43",
   "metadata": {},
   "outputs": [],
   "source": []
  }
 ],
 "metadata": {
  "kernelspec": {
   "display_name": "Python 3 (ipykernel)",
   "language": "python",
   "name": "python3"
  },
  "language_info": {
   "codemirror_mode": {
    "name": "ipython",
    "version": 3
   },
   "file_extension": ".py",
   "mimetype": "text/x-python",
   "name": "python",
   "nbconvert_exporter": "python",
   "pygments_lexer": "ipython3",
   "version": "3.10.8"
  },
  "toc-showmarkdowntxt": false,
  "toc-showtags": false
 },
 "nbformat": 4,
 "nbformat_minor": 5
}
