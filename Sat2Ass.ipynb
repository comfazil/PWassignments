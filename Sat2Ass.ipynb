{
 "cells": [
  {
   "cell_type": "markdown",
   "id": "314ea374-7350-494b-9e78-fc554194af98",
   "metadata": {},
   "source": [
    "## Q1. What is the Probability density function?"
   ]
  },
  {
   "cell_type": "markdown",
   "id": "7a9974de-12e5-4af0-9f88-c9c8c868a48b",
   "metadata": {},
   "source": [
    "The Probability density function (PDF) is a function that describes the relative likelihood for a continuous random variable to take on a given value. It is a measure of the probability distribution of a random variable and provides a way to calculate the probability that a value will fall within a particular range."
   ]
  },
  {
   "cell_type": "markdown",
   "id": "ae1817e0-6a8f-4e8d-9ebf-bad66bcf3202",
   "metadata": {},
   "source": [
    "## Q2. What are the types of Probability distribution?"
   ]
  },
  {
   "cell_type": "markdown",
   "id": "a7f6e97f-3b45-4e9f-8a37-13daae3dadd6",
   "metadata": {},
   "source": [
    " - Normal distribution\n",
    " - Binomial distribution\n",
    " - Poisson distribution\n",
    " - Exponential distribution\n",
    " - Uniform distribution\n",
    " - Gamma distribution\n",
    " - Beta distribution\n",
    " - Chi-Square distribution"
   ]
  },
  {
   "cell_type": "markdown",
   "id": "077601da-544b-4ecf-8f36-5cb480de19e3",
   "metadata": {},
   "source": [
    "## Q3. Write a Python function to calculate the probability density function of a normal distribution with given mean and standard deviation at a given point."
   ]
  },
  {
   "cell_type": "code",
   "execution_count": 2,
   "id": "eefee2eb-fb33-4395-9078-7fd4409e6c83",
   "metadata": {},
   "outputs": [],
   "source": [
    "import math\n",
    "\n",
    "def normal_pdf(x, mean, std_dev):\n",
    "  \n",
    "    exponent = -((x - mean) ** 2) / (2 * std_dev ** 2)\n",
    "    coefficient = 1 / (std_dev * math.sqrt(2 * math.pi))\n",
    "    return coefficient * math.exp(exponent)\n"
   ]
  },
  {
   "cell_type": "markdown",
   "id": "f2831c37-5688-42ce-8728-9ee157dfc566",
   "metadata": {},
   "source": [
    "##  Q4. What are the properties of Binomial distribution? Give two examples of events where binomial distribution can be applied."
   ]
  },
  {
   "cell_type": "markdown",
   "id": "fc58e228-dbad-4005-ad00-a7924a60b6d8",
   "metadata": {},
   "source": [
    " - The probability of success (p) is constant for each trial.\n",
    " - The trials are independent of each other.\n",
    " - There are only two possible outcomes for each trial.\n",
    " - The number of trials (n) is fixed.\n",
    "- The distribution is discrete.\n",
    "\n",
    "Two examples of events where binomial distribution can be applied are:\n",
    "\n",
    "- Tossing a coin and counting the number of heads.\n",
    "- Testing a batch of products and counting the number that meets the required specifications."
   ]
  },
  {
   "cell_type": "markdown",
   "id": "41bed8eb-9b66-453d-81d3-3e08484f4e81",
   "metadata": {},
   "source": [
    "## Q5. Generate a random sample of size 1000 from a binomial distribution with probability of success 0.4 and plot a histogram of the results using matplotlib."
   ]
  },
  {
   "cell_type": "code",
   "execution_count": 3,
   "id": "0428ddff-f1b6-4995-9cdf-c18d340162db",
   "metadata": {},
   "outputs": [
    {
     "data": {
      "image/png": "[encoded data removed]",
      "text/plain": [
       "<Figure size 640x480 with 1 Axes>"
      ]
     },
     "metadata": {},
     "output_type": "display_data"
    }
   ],
   "source": [
    "import numpy as np\n",
    "import matplotlib.pyplot as plt\n",
    "\n",
    "n = 1000\n",
    "p = 0.4\n",
    "sample = np.random.binomial(n, p, size=1000)\n",
    "plt.hist(sample, bins=50)\n",
    "plt.show()\n"
   ]
  },
  {
   "cell_type": "markdown",
   "id": "fbbda628-7b5b-49d7-bdd4-8be4132a5d91",
   "metadata": {},
   "source": [
    "## Q6. Write a Python function to calculate the cumulative distribution function of a Poisson distribution with given mean at a given point."
   ]
  },
  {
   "cell_type": "code",
   "execution_count": 5,
   "id": "dc7ef9cc-ac37-4ed6-9945-625ab613ac42",
   "metadata": {},
   "outputs": [],
   "source": [
    "import math\n",
    "\n",
    "def poisson_cdf(x, mean):\n",
    " \n",
    "    cdf = 0\n",
    "    for i in range(x+1):\n",
    "        cdf += math.exp(-mean) * (mean ** i) / math.factorial(i)\n",
    "    return cdf\n"
   ]
  },
  {
   "cell_type": "markdown",
   "id": "294fe756-7549-4f50-9349-a82d4bdb24e6",
   "metadata": {},
   "source": [
    "## Q7. How Binomial distribution different from Poisson distribution?"
   ]
  },
  {
   "cell_type": "markdown",
   "id": "b9eb7f5f-89a8-458b-8486-c0b3b218dce7",
   "metadata": {},
   "source": [
    " - In binomial distribution, the number of trials is fixed, while in Poisson distribution, it is not fixed.\n",
    " - Binomial distribution deals with discrete events, while Poisson distribution deals with continuous events.\n",
    " - Binomial distribution deals with events that have only two possible outcomes, while Poisson distribution deals with events that can have multiple outcomes.\n",
    " - Binomial distribution requires a fixed probability of success for each trial, while Poisson distribution does not require this.\n"
   ]
  },
  {
   "cell_type": "markdown",
   "id": "0b4c4e1f-fb97-4f23-b920-f0842290ae80",
   "metadata": {},
   "source": [
    "## Q8. Generate a random sample of size 1000 from a Poisson distribution with mean 5 and calculate the sample mean and variance."
   ]
  },
  {
   "cell_type": "code",
   "execution_count": 6,
   "id": "1a4be6e4-6167-473d-8397-499ad58c5115",
   "metadata": {},
   "outputs": [
    {
     "name": "stdout",
     "output_type": "stream",
     "text": [
      "Sample Mean: 4.948\n",
      "Sample Variance: 5.075296000000001\n"
     ]
    }
   ],
   "source": [
    "import numpy as np\n",
    "\n",
    "mean = 5\n",
    "sample = np.random.poisson(mean, size=1000)\n",
    "sample_mean = np.mean(sample)\n",
    "sample_var = np.var(sample)\n",
    "print(\"Sample Mean:\", sample_mean)\n",
    "print(\"Sample Variance:\", sample_var)\n"
   ]
  },
  {
   "cell_type": "markdown",
   "id": "93a04d5b-c34d-4799-ad54-65f1bee777a4",
   "metadata": {},
   "source": [
    "## Q9. How mean and variance are related in Binomial distribution and Poisson distribution?\n"
   ]
  },
  {
   "cell_type": "markdown",
   "id": "aeaaf328-9492-4414-b72a-4c22c97213e9",
   "metadata": {},
   "source": [
    "In binomial distribution, the mean is equal to the product of the number of trials and the probability of success, while the variance is equal to the product of the number of trials, the probability of failure, and the probability of success.\n",
    "In Poisson distribution, the mean is equal to the variance.\n"
   ]
  },
  {
   "cell_type": "markdown",
   "id": "6e390eb7-4413-4932-ad4d-12be96aa4e25",
   "metadata": {},
   "source": [
    "## Q10. In normal distribution with respect to mean position, where does the least frequent data appear?"
   ]
  },
  {
   "cell_type": "markdown",
   "id": "7a3cc384-26d3-4311-8a86-20576da0a6a6",
   "metadata": {},
   "source": [
    " In normal distribution, the least frequent data appear at the tails, where the probability density is low. Specifically, the least frequent data appear at a distance of more than two standard deviations from the mean, where the probability density is less than 5%."
   ]
  },
  {
   "cell_type": "code",
   "execution_count": null,
   "id": "c4e2d87c-9bc2-4e3d-95e3-b18510fabe34",
   "metadata": {},
   "outputs": [],
   "source": []
  }
 ],
 "metadata": {
  "kernelspec": {
   "display_name": "Python 3 (ipykernel)",
   "language": "python",
   "name": "python3"
  },
  "language_info": {
   "codemirror_mode": {
    "name": "ipython",
    "version": 3
   },
   "file_extension": ".py",
   "mimetype": "text/x-python",
   "name": "python",
   "nbconvert_exporter": "python",
   "pygments_lexer": "ipython3",
   "version": "3.10.8"
  }
 },
 "nbformat": 4,
 "nbformat_minor": 5
}
