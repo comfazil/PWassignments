{
 "cells": [
  {
   "cell_type": "markdown",
   "id": "d0b927ec-cc48-4910-ad8b-3a555825c4bd",
   "metadata": {},
   "source": [
    "## Q1. What is the difference between Ordinal Encoding and Label encoding? Provide an example of when you might choose one over the other."
   ]
  },
  {
   "cell_type": "markdown",
   "id": "a04b4024-fee4-4f4d-b6fb-13e204bacfd3",
   "metadata": {},
   "source": [
    "The difference between Ordinal Encoding and Label Encoding is that Ordinal Encoding assigns integer values to categories based on their ordinal relationship, whereas Label Encoding assigns unique integer values to categories without considering their ordinal relationship.\n",
    "\n",
    "For example, let's consider a dataset with a \"Size\" column with three categories: \"Small,\" \"Medium,\" and \"Large.\" With Ordinal Encoding, these categories could be encoded as 0, 1, and 2 respectively, based on their ordinal relationship. However, with Label Encoding, these categories could be encoded as 0, 1, and 2 randomly, without considering their ordinal relationship.\n",
    "\n",
    "You might choose Ordinal Encoding when the categories have a meaningful ordinal relationship, such as when dealing with rankings or levels. For example, in a dataset with education levels (\"High School,\" \"Bachelor's,\" \"Master's,\" \"PhD\"), where the levels have a clear ordinal relationship, Ordinal Encoding could be used. On the other hand, you might choose Label Encoding when the categories do not have any meaningful ordinal relationship and need to be encoded as distinct categories."
   ]
  },
  {
   "cell_type": "markdown",
   "id": "eedc9f5a-9914-4887-a3c9-ba97774d3e60",
   "metadata": {},
   "source": [
    "## Q2. Explain how Target Guided Ordinal Encoding works and provide an example of when you might use it in a machine learning project.\n"
   ]
  },
  {
   "cell_type": "markdown",
   "id": "0e6e7412-6f65-45b1-bac2-42dd41cc1681",
   "metadata": {},
   "source": [
    "Target Guided Ordinal Encoding is a technique where the categories of a categorical variable are encoded based on the mean of the target variable for each category. This technique can be used when the target variable is a binary or multi-class variable and there is a correlation between the categorical variable and the target variable.\n",
    "\n",
    "For example, let's consider a binary classification problem where the target variable is \"Churn\" (0 or 1), indicating whether a customer has churned or not. We have a categorical variable \"City\" with categories \"New York,\" \"Los Angeles,\" and \"Chicago.\" We can use Target Guided Ordinal Encoding to encode these categories based on the mean of the \"Churn\" variable for each city category. The encoding could be as follows:\n",
    "\n",
    "New York: 0.25\n",
    "Los Angeles: 0.10\n",
    "Chicago: 0.05\n",
    "\n",
    "The encoded values are based on the mean of the \"Churn\" variable for each city category. Higher mean values would indicate a higher likelihood of churn, and lower mean values would indicate a lower likelihood of churn. This encoding can capture the correlation between the city and churn, and can potentially improve the performance of the machine learning model."
   ]
  },
  {
   "cell_type": "markdown",
   "id": "e29830a8-f644-40c0-848a-5919319802f7",
   "metadata": {},
   "source": [
    "## Q3. Define covariance and explain why it is important in statistical analysis. How is covariance calculated?\n"
   ]
  },
  {
   "cell_type": "markdown",
   "id": "14cccc31-6e9e-4da5-8e7c-78c6693fcbd8",
   "metadata": {},
   "source": [
    "Covariance is a measure of the extent to which two variables change together. It indicates the direction and strength of the linear relationship between two variables. A positive covariance indicates that the variables tend to increase or decrease together, while a negative covariance indicates that one variable tends to increase when the other decreases, and vice versa. Covariance is important in statistical analysis because it helps in understanding the relationship between two variables and can be used to identify patterns and trends in data.\n",
    "\n",
    "Covariance is calculated using the following formula:\n",
    "\n",
    "- cov(X, Y) = Σ[(xi - μx) * (yi - μy)] / (n - 1)\n",
    "\n",
    "where X and Y are the two variables for which covariance is being calculated, xi and yi are the individual data points of X and Y respectively, μx and μy are the means of X and Y respectively, and n is the number of data points."
   ]
  },
  {
   "cell_type": "markdown",
   "id": "12e6dd49-4ac5-44e5-9e20-b20164526153",
   "metadata": {},
   "source": [
    "## Q4. For a dataset with the following categorical variables: Color (red, green, blue), Size (small, medium,large) and Material (wood, metal, plastic), perform label encoding using Python's scikit-learn library.Show your code and explain the output."
   ]
  },
  {
   "cell_type": "code",
   "execution_count": 1,
   "id": "5adaac78-31a6-4869-a88e-812eac204d76",
   "metadata": {},
   "outputs": [
    {
     "data": {
      "text/plain": [
       "['wood', 'metal', 'plastic']"
      ]
     },
     "execution_count": 1,
     "metadata": {},
     "output_type": "execute_result"
    }
   ],
   "source": [
    "from sklearn.preprocessing import LabelEncoder\n",
    "\n",
    "# Define the categorical variables\n",
    "color = ['red', 'green', 'blue']\n",
    "size = ['small', 'medium', 'large']\n",
    "material = ['wood', 'metal', 'plastic']\n",
    "\n",
    "# Initialize LabelEncoder\n",
    "encoder = LabelEncoder()\n",
    "\n",
    "# Perform label encoding\n",
    "color_encoded = encoder.fit_transform(color)\n",
    "size_encoded = encoder.fit_transform(size)\n",
    "material\n"
   ]
  },
  {
   "cell_type": "markdown",
   "id": "e500fe02-e257-44bf-95d4-bfc2224ed97b",
   "metadata": {},
   "source": [
    "## Q5. Calculate the covariance matrix for the following variables in a dataset: Age, Income, and Education level. Interpret the results."
   ]
  },
  {
   "cell_type": "code",
   "execution_count": 2,
   "id": "1dafbdf2-462e-480d-945e-cfdf77ce5a01",
   "metadata": {},
   "outputs": [
    {
     "name": "stdout",
     "output_type": "stream",
     "text": [
      "Covariance Matrix:\n",
      "[[6.25e+01 1.25e+05 1.25e+01]\n",
      " [1.25e+05 2.50e+08 2.50e+04]\n",
      " [1.25e+01 2.50e+04 2.50e+00]]\n"
     ]
    }
   ],
   "source": [
    "import numpy as np\n",
    "\n",
    "# Create a sample dataset with Age, Income, and Education level\n",
    "age = np.array([25, 30, 35, 40, 45])  # Age values\n",
    "income = np.array([50000, 60000, 70000, 80000, 90000])  # Income values\n",
    "education_level = np.array([1, 2, 3, 4, 5])  # Education level values\n",
    "\n",
    "# Create a matrix with Age, Income, and Education level as columns\n",
    "data = np.column_stack((age, income, education_level))\n",
    "\n",
    "# Calculate the covariance matrix\n",
    "covariance_matrix = np.cov(data, rowvar=False)\n",
    "\n",
    "print(\"Covariance Matrix:\")\n",
    "print(covariance_matrix)\n"
   ]
  },
  {
   "cell_type": "markdown",
   "id": "52ef578b-8f73-4540-8734-d1ff0ae73482",
   "metadata": {},
   "source": [
    "## Q6. You are working on a machine learning project with a dataset containing several categorical variables, including \"Gender\" (Male/Female), \"Education Level\" (High School/Bachelor's/Master's/PhD) and \"Employment Status\" (Unemployed/Part-Time/Full-Time). Which encoding method would you use for each variable, and why?"
   ]
  },
  {
   "cell_type": "markdown",
   "id": "15ec501f-8372-4665-81cd-0d70faf69761",
   "metadata": {},
   "source": [
    "For the categorical variables \"Gender\", \"Education Level\", and \"Employment Status\", different encoding methods can be used based on the nature of the data and the machine learning algorithm being used.\n",
    "\n",
    "- \"Gender\" (Male/Female): Binary encoding can be used where Male can be encoded as 0 and Female as 1, as there are only two categories.\n",
    "- \"Education Level\" (High School/Bachelor's/Master's/PhD): Ordinal encoding can be used where the categories can be assigned ordinal numbers based on their rank or level, such as High School as 1, Bachelor's as 2, Master's as 3, and PhD as 4. This encoding method captures the ordinal relationship between the categories.\n",
    "- \"Employment Status\" (Unemployed/Part-Time/Full-Time): One-Hot encoding can be used where each category is encoded as a binary feature (0 or 1), creating separate columns for each category. For example, Unemployed can be encoded as [1, 0, 0], Part-Time as [0, 1, 0], and Full-Time as [0, 0, 1]. This encoding method treats each category as independent, without assuming any ordinal relationship between them."
   ]
  },
  {
   "cell_type": "markdown",
   "id": "b7be5eba-40f4-494a-9104-75a3b35bdf7a",
   "metadata": {},
   "source": [
    "## Q7. You are analyzing a dataset with two continuous variables, \"Temperature\" and \"Humidity\", and two categorical variables, \"Weather Condition\" (Sunny/Cloudy/Rainy) and \"Wind Direction\" (North/South/East/West). Calculate the covariance between each pair of variables and interpret the results.\n"
   ]
  },
  {
   "cell_type": "code",
   "execution_count": 5,
   "id": "3b03bd1f-066c-4834-baf6-90fc2f91e289",
   "metadata": {},
   "outputs": [
    {
     "name": "stdout",
     "output_type": "stream",
     "text": [
      "Covariance between Temperature and Humidity: 16.400000000000002\n"
     ]
    }
   ],
   "source": [
    "import numpy as np\n",
    "\n",
    "# Create sample data for Temperature and Humidity\n",
    "temperature = np.array([30, 32, 35, 28, 29])  # Temperature values\n",
    "humidity = np.array([50, 55, 60, 45, 48])  # Humidity values\n",
    "\n",
    "# Calculate covariance between Temperature and Humidity\n",
    "covariance = np.cov(temperature, humidity)[0, 1]\n",
    "\n",
    "print(\"Covariance between Temperature and Humidity:\", covariance)\n"
   ]
  },
  {
   "cell_type": "code",
   "execution_count": null,
   "id": "20bc259f-47cc-415c-b7b6-08a3c84068d7",
   "metadata": {},
   "outputs": [],
   "source": []
  }
 ],
 "metadata": {
  "kernelspec": {
   "display_name": "Python 3 (ipykernel)",
   "language": "python",
   "name": "python3"
  },
  "language_info": {
   "codemirror_mode": {
    "name": "ipython",
    "version": 3
   },
   "file_extension": ".py",
   "mimetype": "text/x-python",
   "name": "python",
   "nbconvert_exporter": "python",
   "pygments_lexer": "ipython3",
   "version": "3.10.8"
  }
 },
 "nbformat": 4,
 "nbformat_minor": 5
}
