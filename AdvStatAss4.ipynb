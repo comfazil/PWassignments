{
 "cells": [
  {
   "cell_type": "markdown",
   "id": "2b6c8714-269e-40ee-a6e5-7247c2610215",
   "metadata": {},
   "source": [
    "## Q1. Calculate the 95% confidence interval for a sample of data with a mean of 50 and a standard deviation of 5 using Python. Interpret the results."
   ]
  },
  {
   "cell_type": "code",
   "execution_count": 12,
   "id": "46a51f2c-7a21-4664-8797-f350610d64da",
   "metadata": {},
   "outputs": [
    {
     "name": "stdout",
     "output_type": "stream",
     "text": [
      "95% Confidence Interval: (49.02001800772997, 50.97998199227003)\n"
     ]
    }
   ],
   "source": [
    "from scipy import stats\n",
    "\n",
    "# set the parameters\n",
    "mean = 50\n",
    "std_dev = 5\n",
    "n = 100 # sample size\n",
    "\n",
    "# calculate the standard error\n",
    "std_err = std_dev / (n ** 0.5)\n",
    "\n",
    "# calculate the confidence interval\n",
    "conf_int = stats.norm.interval(0.95, loc=mean, scale=std_err)\n",
    "\n",
    "# print the results\n",
    "print(\"95% Confidence Interval:\", conf_int)\n"
   ]
  },
  {
   "cell_type": "markdown",
   "id": "1add81aa-9897-4cca-8ff4-df00ac12fa4d",
   "metadata": {},
   "source": [
    "## Q2. Conduct a chi-square goodness of fit test to determine if the distribution of colors of M&Ms in a bag matches the expected distribution of 20% blue, 20% orange, 20% green, 10% yellow, 10% red, and 20% brown. Use Python to perform the test with a significance level of 0.05."
   ]
  },
  {
   "cell_type": "code",
   "execution_count": null,
   "id": "b0dc3b1c-47a6-4dd9-bf81-ed36c22f1646",
   "metadata": {},
   "outputs": [],
   "source": [
    "import numpy as np\n",
    "from scipy.stats import chi2\n",
    "\n",
    "# Define the observed frequencies for each color category\n",
    "observed_freq = [18, 22, 15, 10, 8, 27]  # blue, orange, green, yellow, red, brown\n",
    "\n",
    "# Define the expected frequencies for each color category\n",
    "expected_freq = [0.2*80, 0.2*80, 0.2*80, 0.1*80, 0.1*80, 0.2*80]\n",
    "\n",
    "# Calculate the chi-square test statistic\n",
    "chi2_statistic = np.sum((observed_freq - expected_freq)**2 / expected_freq)\n",
    "\n",
    "# Calculate the degrees of freedom\n",
    "df = len(observed_freq) - 1\n",
    "\n",
    "# Calculate the p-value\n",
    "p_value = 1 - chi2.cdf(chi2_statistic, df)\n",
    "\n",
    "# Print the results\n",
    "print(f\"Chi-square statistic: {chi2_statistic:.3f}\")\n",
    "print(f\"p-value: {p_value:.3f}\")\n",
    "\n",
    "# Compare the p-value to the level of significance\n",
    "alpha = 0.05\n",
    "if p_value < alpha:\n",
    "    print(\"The distribution of colors of M&Ms in the bag is different from the expected distribution.\")\n",
    "else:\n",
    "    print(\"The distribution of colors of M&Ms in the bag matches the expected distribution.\")\n"
   ]
  },
  {
   "cell_type": "markdown",
   "id": "106441ba-c530-4837-ace1-5b1fd08afe84",
   "metadata": {},
   "source": [
    "## Q3. Use Python to calculate the chi-square statistic and p-value for a contingency table with the following data:\n",
    "\n",
    "## Interpret the results of the test."
   ]
  },
  {
   "cell_type": "markdown",
   "id": "37c86bd5-c537-4d56-9b70-cb850d8da613",
   "metadata": {},
   "source": [
    "\t   \tGroup A                 Group B    \n",
    "\tOutcome1   20                      15\n",
    "\tOutcome2   10                      25\n",
    "\tOutcome3   15                      20"
   ]
  },
  {
   "cell_type": "code",
   "execution_count": 11,
   "id": "52bb6089-24e6-493e-b625-130390dd1056",
   "metadata": {},
   "outputs": [
    {
     "name": "stdout",
     "output_type": "stream",
     "text": [
      "Degree of freedom : 2\n",
      "Critical Value : 5.991464547107979\n",
      "Chi-Square Statistics : 5.833333333333334\n",
      "P_Value : 0.05411376622282158\n",
      "\n",
      "Conclusion : Accept the Null Hypothesis.\n"
     ]
    }
   ],
   "source": [
    "import numpy as np\n",
    "import scipy.stats as stat\n",
    "\n",
    "observed = np.array([[20,15],[10,25],[15,20]])\n",
    "\n",
    "chi2_statistic, p_value, dof, expected = chi2_contingency(observed)\n",
    "significance_value = 0.05\n",
    "dof = len(expected)-1\n",
    "\n",
    "print(\"Degree of freedom :\",dof)\n",
    "\n",
    "critical_value = stat.chi2.ppf(1-significance_value,dof)\n",
    "\n",
    "print(\"Critical Value :\", critical_value)\n",
    "print(\"Chi-Square Statistics :\", chi2_statistic)\n",
    "print(\"P_Value :\", p_value)\n",
    "\n",
    "if chi2_statistic > critical_value:\n",
    "    print(\"Reject the Null Hypothesis\")\n",
    "else:\n",
    "    print(\"\\nConclusion : Accept the Null Hypothesis.\")"
   ]
  },
  {
   "cell_type": "markdown",
   "id": "dc84ad82-3b3c-4801-bd64-790c11f0e345",
   "metadata": {},
   "source": [
    "## Q4. A study of the prevalence of smoking in a population of 500 individuals found that 60 individuals smoked. Use Python to calculate the 95% confidence interval for the true proportion of individuals in the population who smoke."
   ]
  },
  {
   "cell_type": "code",
   "execution_count": 29,
   "id": "57b15338-fb32-476b-bcc4-c822a90b038c",
   "metadata": {},
   "outputs": [
    {
     "name": "stdout",
     "output_type": "stream",
     "text": [
      "95% Confidence Interval: (0.092, 0.148)\n"
     ]
    }
   ],
   "source": [
    "import math\n",
    "\n",
    "p = 60/500\n",
    "n = 500\n",
    "z = 1.96 # z-score corresponding to 95% confidence interval\n",
    "\n",
    "# Calculate the standard error\n",
    "se = math.sqrt(p*(1-p)/n)\n",
    "\n",
    "# Calculate the lower and upper bounds of the confidence interval\n",
    "lower_bound = p - z*se\n",
    "upper_bound = p + z*se\n",
    "\n",
    "# Print the results\n",
    "print(f\"95% Confidence Interval: ({lower_bound:.3f}, {upper_bound:.3f})\")\n"
   ]
  },
  {
   "cell_type": "markdown",
   "id": "8b1cd3e2-d15b-4b05-8e45-42dc55968b04",
   "metadata": {},
   "source": [
    "## Q5. Calculate the 90% confidence interval for a sample of data with a mean of 75 and a standard deviation of 12 using Python. Interpret the results."
   ]
  },
  {
   "cell_type": "code",
   "execution_count": 30,
   "id": "45631444-f148-492d-a1d9-5501cdb3dafe",
   "metadata": {},
   "outputs": [
    {
     "name": "stdout",
     "output_type": "stream",
     "text": [
      "90% Confidence Interval: (72.155, 77.845)\n"
     ]
    }
   ],
   "source": [
    "import math\n",
    "from scipy.stats import t\n",
    "\n",
    "x_bar = 75\n",
    "s = 12\n",
    "n = 50  # sample size assumed to be 50\n",
    "t_value = t.ppf(0.95, n-1)\n",
    "\n",
    "# Calculate the standard error\n",
    "se = s / math.sqrt(n)\n",
    "\n",
    "# Calculate the lower and upper bounds of the confidence interval\n",
    "lower_bound = x_bar - t_value*se\n",
    "upper_bound = x_bar + t_value*se\n",
    "\n",
    "# Print the results\n",
    "print(f\"90% Confidence Interval: ({lower_bound:.3f}, {upper_bound:.3f})\")\n"
   ]
  },
  {
   "cell_type": "markdown",
   "id": "b9d39210-7d5c-46fd-9826-d2c056032e12",
   "metadata": {},
   "source": [
    "## Q6. Use Python to plot the chi-square distribution with 10 degrees of freedom. Label the axes and shade the area corresponding to a chi-square statistic of 15.\n"
   ]
  },
  {
   "cell_type": "code",
   "execution_count": 31,
   "id": "48098b27-3716-4289-866b-d6ae7f84ba64",
   "metadata": {},
   "outputs": [
    {
     "data": {
      "image/png": "[encoded data removed]",
      "text/plain": [
       "<Figure size 640x480 with 1 Axes>"
      ]
     },
     "metadata": {},
     "output_type": "display_data"
    }
   ],
   "source": [
    "import numpy as np\n",
    "import matplotlib.pyplot as plt\n",
    "from scipy.stats import chi2\n",
    "\n",
    "# Define the degrees of freedom\n",
    "df = 10\n",
    "\n",
    "# Create a range of values for the x-axis\n",
    "x = np.linspace(0, 25, 500)\n",
    "\n",
    "# Calculate the y-values for the chi-square distribution\n",
    "y = chi2.pdf(x, df)\n",
    "\n",
    "# Create a plot of the chi-square distribution\n",
    "fig, ax = plt.subplots()\n",
    "ax.plot(x, y)\n",
    "\n",
    "# Shade the area corresponding to a chi-square statistic of 15\n",
    "x_shade = np.linspace(15, 25, 100)\n",
    "y_shade = chi2.pdf(x_shade, df)\n",
    "ax.fill_between(x_shade, y_shade, color='gray', alpha=0.5)\n",
    "\n",
    "# Label the axes\n",
    "ax.set_xlabel('Chi-Square Statistic')\n",
    "ax.set_ylabel('Probability Density')\n",
    "ax.set_title(f'Chi-Square Distribution with {df} Degrees of Freedom')\n",
    "\n",
    "# Show the plot\n",
    "plt.show()\n"
   ]
  },
  {
   "cell_type": "markdown",
   "id": "5d6519f9-32a0-4d07-8f70-2bfb278ed60e",
   "metadata": {},
   "source": [
    "## Q7. A random sample of 1000 people was asked if they preferred Coke or Pepsi. Of the sample, 520 preferred Coke. Calculate a 99% confidence interval for the true proportion of people in the population who prefer Coke."
   ]
  },
  {
   "cell_type": "markdown",
   "id": "0a4be162-7bdc-4f34-b442-36ca6bf8f4f6",
   "metadata": {},
   "source": [
    "First, we need to calculate the sample proportion:\n",
    "\n",
    "\tp = 520/1000 = 0.52\n",
    "\n",
    "Next, we can plug in the values into the formula:\n",
    "\n",
    "\tCI = 0.52 ± 2.576*(sqrt(0.52*(1-0.52)/1000))\n",
    "\n",
    "Calculating this expression, we get:\n",
    "\n",
    "\tCI = 0.52 ± 0.032\n",
    "\n",
    "So the 99% confidence interval for the true proportion of people in the population who prefer Coke is (0.488, 0.552).\n",
    "\n",
    "This means that we can be 99% confident that the true proportion of people in the population who prefer Coke is between 0.488 and 0.552, based on the sample of 1000 people.\n",
    "\n",
    "\n",
    "\n",
    "\n",
    "\n"
   ]
  },
  {
   "cell_type": "markdown",
   "id": "64d58663-f743-4dba-8c24-2cea3443c2c3",
   "metadata": {},
   "source": [
    "## Q8. A researcher hypothesizes that a coin is biased towards tails. They flip the coin 100 times and observe 45 tails. Conduct a chi-square goodness of fit test to determine if the observed frequencies match the expected frequencies of a fair coin. Use a significance level of 0.05."
   ]
  },
  {
   "cell_type": "markdown",
   "id": "a61a205e-f580-4ce2-9aec-46eabfd4ba40",
   "metadata": {},
   "source": [
    "First, let's calculate the expected frequencies assuming a fair coin:\n",
    "\n",
    "\tThe expected frequency of getting tails is 0.5 * 100 = 50.\n",
    "\tThe expected frequency of getting heads is 0.5 * 100 = 50.\n",
    "\n",
    "Next, we can calculate the chi-square statistic:\n",
    "\n",
    "\tchi-square = sum((observed - expected)^2 / expected) = ((45 - 50)^2 / 50) + ((55 - 50)^2 / 50) = 1\n",
    "\n",
    "To determine the degrees of freedom, we subtract 1 from the number of categories (tails and heads) to get \n",
    "\t\tdf = 2 - 1 = 1.\n",
    "\n",
    "Using a chi-square distribution table with 1 degree of freedom and a significance level of 0.05, we find that the critical value is 3.84.\n",
    "\n",
    "Since the calculated chi-square statistic (1) is less than the critical value (3.84), we fail to reject the null hypothesis that the coin is fair. "
   ]
  },
  {
   "cell_type": "markdown",
   "id": "062837f6-f23e-4879-aa3b-747059c6e1a4",
   "metadata": {},
   "source": [
    "## Q9. A study was conducted to determine if there is an association between smoking status (smoker or non-smoker) and lung cancer diagnosis (yes or no). The results are shown in the contingency table below. Conduct a chi-square test for independence to determine if there is a significant association between smoking status and lung cancer diagnosis."
   ]
  },
  {
   "cell_type": "markdown",
   "id": "cafea120-39f6-4e8c-9654-90c0b29bcbc7",
   "metadata": {},
   "source": [
    "\tLung Cancer: Yes  Lung Cancer: No\n",
    "\n",
    "\tSmoker        60      140\n",
    "\tNon-smoker    30      170\n",
    "    \n",
    "## Use a significance level of 0.05."
   ]
  },
  {
   "cell_type": "markdown",
   "id": "0587b54d-2e40-4913-b619-236884cf747c",
   "metadata": {},
   "source": [
    "First, let's calculate the expected frequencies assuming independence:\n",
    "\n",
    "\tThe expected frequency of smokers with lung cancer is (60+140)*(60+30)/200 = 75\n",
    "\t\n",
    "    The expected frequency of smokers without lung cancer is (60+140)*(140+170)/200 = 125\n",
    "\t\n",
    "    The expected frequency of non-smokers with lung cancer is (30+170)*(60+30)/200 = 45\n",
    "\t\n",
    "    The expected frequency of non-smokers without lung cancer is (30+170)*(140+170)/200 = 155\n",
    "\n",
    "Next, we can calculate the chi-square statistic:\n",
    "\n",
    "\tchi-square = sum((observed - expected)^2 / expected) = ((60-75)^2/75 + (140-125)^2/125 + (30-45)^2/45 + (170-155)^2/155) = 14.99\n",
    "\n",
    "To determine the degrees of freedom, we multiply the number of rows minus 1 by the number of columns minus 1, which gives us (2-1)*(2-1) = 1.\n",
    "\n",
    "Using a chi-square distribution table with 1 degree of freedom and a significance level of 0.05, we find that the critical value is 3.84.\n",
    "\n",
    "Since the calculated chi-square statistic (14.99) is greater than the critical value (3.84), we reject the null hypothesis that smoking status and lung cancer diagnosis are independent. "
   ]
  },
  {
   "cell_type": "markdown",
   "id": "da46852a-072c-4941-a66f-969e3467ff84",
   "metadata": {},
   "source": [
    "## Q10. A study was conducted to determine if the proportion of people who prefer milk chocolate, dark chocolate, or white chocolate is different in the U.S. versus the U.K. A random sample of 500 people from the U.S. and a random sample of 500 people from the U.K. were surveyed. The results are shown in the contingency table below. Conduct a chi-square test for independence to determine if there is a significant association between chocolate preference and country of origin.\n",
    "\n",
    "\n",
    "\t\t\tMilk Chocolate  Dark Chocolate  White Chocolate\n",
    "\n",
    "\tU.S. (n=500)      200         150        150\n",
    "\tU.K. (n=500)      225         175        100\n",
    "    \n",
    "## Use a significance level of 0.01.\n"
   ]
  },
  {
   "cell_type": "markdown",
   "id": "bc772fc5-db76-45a9-b5e2-ee6d2123f90f",
   "metadata": {},
   "source": [
    "To conduct a chi-square test for independence to determine if there is a significant association between chocolate preference and country of origin, we can follow these steps:\n",
    "\n",
    "Step 1: State the null and alternative hypotheses.\n",
    "\n",
    "Null hypothesis: There is no association between chocolate preference and country of origin.\n",
    "Alternative hypothesis: There is an association between chocolate preference and country of origin.\n",
    "\n",
    "Step 2: Set the significance level.\n",
    "\n",
    "The significance level is given as 0.01.\n",
    "\n",
    "Step 3: Create a contingency table.\n",
    "\n",
    "We can create a contingency table using the given data as follows:\n",
    "\n",
    "\t\t\t\tMilk Chocolate  Dark Chocolate  White Chocolate   Total\n",
    "\n",
    "\tU.S. (n=500)      200         150        150                  500\n",
    "\tU.K. (n=500)      225         175        100                  500\n",
    "\tTotal             425         325        250                 1000\n",
    "    \n",
    "Step 4: Calculate the expected frequencies.\n",
    "\n",
    "We can calculate the expected frequencies using the formula:\n",
    "\n",
    "Expected frequency = (row total * column total) / grand total\n",
    "\n",
    "The expected frequencies are as follows:\n",
    "\n",
    "\t\tMilk Chocolate  Dark Chocolate  White Chocolate          Total\n",
    "\n",
    "\tU.S. (n=500)      212.5       162.5      125                 500\n",
    "\tU.K. (n=500)      212.5       162.5      125                 500\n",
    "\tTotal             425         325        250                1000\n",
    "\n",
    "Step 5: Calculate the chi-square statistic.\n",
    "\n",
    "We can calculate the chi-square statistic using the formula:\n",
    "\n",
    "chi-square = Σ [(O - E)^2 / E]\n",
    "\n",
    "where O is the observed frequency and E is the expected frequency.\n",
    "\n",
    "The chi-square statistic is calculated as follows:\n",
    "\n",
    "chi-square = [(200 - 212.5)^2 / 212.5] + [(150 - 162.5)^2 / 162.5] + [(150 - 125)^2 / 125] + [(225 - 212.5)^2 / 212.5] + [(175 - 162.5)^2 / 162.5] + [(100 - 125)^2 / 125]\n",
    "= 14.71\n",
    "\n",
    "Step 6: Find the degrees of freedom.\n",
    "\n",
    "The degrees of freedom for a chi-square test for independence with a contingency table of size r x c are given by:\n",
    "\n",
    "df = (r - 1) * (c - 1)\n",
    "\n",
    "In this case, we have a contingency table of size 2 x 3, so the degrees of freedom are:\n",
    "\n",
    "df = (2 - 1) * (3 - 1) = 2\n",
    "\n",
    "Step 7: Determine the critical value.\n",
    "\n",
    "We can determine the critical value from a chi-square distribution table with 2 degrees of freedom and a significance level of 0.01. The critical value is 9.21.\n",
    "\n",
    "Step 8: Compare the chi-square statistic to the critical value.\n",
    "\n",
    "The chi-square statistic (14.71) is greater than the critical value (9.21), so we reject the null hypothesis.\n",
    "\n",
    "Step 9: Interpret the results.\n",
    "\n",
    "Since we rejected the null hypothesis, we can conclude that there is a significant association between chocolate preference and country of origin at a significance level of 0.01."
   ]
  },
  {
   "cell_type": "markdown",
   "id": "e01bac29-eb3b-4970-870d-d9ddfb481288",
   "metadata": {},
   "source": [
    "## Q11. A random sample of 30 people was selected from a population with an unknown mean and standard deviation. The sample mean was found to be 72 and the sample standard deviation was found to be 10. Conduct a hypothesis test to determine if the population mean is significantly different from 70. Use a significance level of 0.05."
   ]
  },
  {
   "cell_type": "code",
   "execution_count": 32,
   "id": "e9534b74-414c-4d1c-8abf-a7098b9aa55f",
   "metadata": {},
   "outputs": [
    {
     "name": "stdout",
     "output_type": "stream",
     "text": [
      "t-test statistic: 1.0954451150103321\n",
      "p-value: 0.28233623728606977\n"
     ]
    }
   ],
   "source": [
    "import math\n",
    "from scipy.stats import t\n",
    "\n",
    "sample_mean = 72\n",
    "pop_mean = 70\n",
    "sample_std = 10\n",
    "sample_size = 30\n",
    "\n",
    "# calculate the sample standard error\n",
    "se = sample_std / math.sqrt(sample_size)\n",
    "\n",
    "# calculate the t-test statistic\n",
    "t_stat = (sample_mean - pop_mean) / se\n",
    "\n",
    "# calculate the p-value\n",
    "p_value = 2 * t.cdf(-abs(t_stat), df=29)\n",
    "\n",
    "print(\"t-test statistic:\", t_stat)\n",
    "print(\"p-value:\", p_value)\n"
   ]
  },
  {
   "cell_type": "code",
   "execution_count": null,
   "id": "ff7faf3d-051c-4aeb-bbe1-39484d86f6f4",
   "metadata": {},
   "outputs": [],
   "source": []
  }
 ],
 "metadata": {
  "kernelspec": {
   "display_name": "Python 3 (ipykernel)",
   "language": "python",
   "name": "python3"
  },
  "language_info": {
   "codemirror_mode": {
    "name": "ipython",
    "version": 3
   },
   "file_extension": ".py",
   "mimetype": "text/x-python",
   "name": "python",
   "nbconvert_exporter": "python",
   "pygments_lexer": "ipython3",
   "version": "3.10.8"
  }
 },
 "nbformat": 4,
 "nbformat_minor": 5
}
