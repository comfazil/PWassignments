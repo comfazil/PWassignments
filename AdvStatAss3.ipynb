{
 "cells": [
  {
   "cell_type": "markdown",
   "id": "d2f09626-a083-484c-804f-d3886d8398bf",
   "metadata": {},
   "source": [
    "## Q1: What is the difference between a t-test and a z-test? Provide an example scenario where you would use each type of test.\n"
   ]
  },
  {
   "cell_type": "markdown",
   "id": "b966c652-5cb4-46f2-b357-ee097b2aef43",
   "metadata": {},
   "source": [
    "The main difference between a t-test and a z-test is that a t-test is used when the sample size is small or when the population standard deviation is unknown, while a z-test is used when the sample size is large and the population standard deviation is known. For example, a t-test can be used to compare the average weight of two groups of people, while a z-test can be used to compare the average height of a population before and after a certain intervention."
   ]
  },
  {
   "cell_type": "markdown",
   "id": "292b1e47-12ec-45aa-8f2d-0293182f405e",
   "metadata": {},
   "source": [
    "## Q2: Differentiate between one-tailed and two-tailed tests."
   ]
  },
  {
   "cell_type": "markdown",
   "id": "5d2ce0a5-f443-4352-8e1a-403aa72cfd59",
   "metadata": {},
   "source": [
    "A one-tailed test is a hypothesis test where the alternative hypothesis is directional, meaning that it predicts an increase or decrease in the parameter being tested. A two-tailed test is a hypothesis test where the alternative hypothesis is non-directional, meaning that it predicts that the parameter being tested is different from the null hypothesis, but does not specify in which direction.\n",
    "\n"
   ]
  },
  {
   "cell_type": "markdown",
   "id": "ce05c5fb-343c-4d41-9f2d-3206b9cec504",
   "metadata": {},
   "source": [
    "## Q3: Explain the concept of Type 1 and Type 2 errors in hypothesis testing. Provide an example scenario for each type of error."
   ]
  },
  {
   "cell_type": "markdown",
   "id": "45048dec-76ec-44ec-b189-f152ce2732cb",
   "metadata": {},
   "source": [
    " Type 1 error occurs when the null hypothesis is rejected when it is actually true, meaning that there is a false positive result. Type 2 error occurs when the null hypothesis is not rejected when it is actually false, meaning that there is a false negative result. For example, in a medical trial, a Type 1 error would occur if a drug is approved for use even though it is ineffective or harmful, while a Type 2 error would occur if a drug is rejected for use even though it is effective."
   ]
  },
  {
   "cell_type": "markdown",
   "id": "aa99e025-1ded-4068-909b-a4ef09e5d6c3",
   "metadata": {},
   "source": [
    "## Q4: Explain Bayes's theorem with an example."
   ]
  },
  {
   "cell_type": "markdown",
   "id": "6a7a865b-5175-41d6-82e4-eeef02fafdbf",
   "metadata": {},
   "source": [
    " Bayes's theorem is a mathematical formula used to calculate the probability of an event occurring based on prior knowledge of the conditions that might be related to the event. It is expressed as P(A|B) = P(B|A) * P(A) / P(B), where P(A) is the prior probability of event A occurring, P(B|A) is the conditional probability of event B given that A has occurred, P(B) is the probability of event B occurring, and P(A|B) is the posterior probability of event A occurring given that B has occurred. An example of using Bayes's theorem is in medical diagnosis, where the probability of having a disease is updated based on new test results.\n",
    "\n"
   ]
  },
  {
   "cell_type": "markdown",
   "id": "40cf4961-f88c-4d21-a6dd-8a264561b98f",
   "metadata": {},
   "source": [
    "## Q5: What is a confidence interval? How to calculate the confidence interval, explain with an example."
   ]
  },
  {
   "cell_type": "markdown",
   "id": "49f2afef-14a4-4928-9e4b-fa8fc0bc83f8",
   "metadata": {},
   "source": [
    " A confidence interval is a range of values that is likely to contain the true value of a population parameter with a certain level of confidence. It is calculated using a point estimate of the parameter, a margin of error, and a chosen level of confidence. For example, if a sample of 100 people has a mean height of 170 cm and a margin of error of 3 cm with a 95% confidence level, the confidence interval would be 167 cm to 173 cm."
   ]
  },
  {
   "cell_type": "markdown",
   "id": "294e184c-ae48-428f-98cb-599df613d42a",
   "metadata": {},
   "source": [
    "## Q6. Use Bayes' Theorem to calculate the probability of an event occurring given prior knowledge of the event's probability and new evidence. Provide a sample problem and solution."
   ]
  },
  {
   "cell_type": "markdown",
   "id": "0de98814-97ca-449b-aaf7-879b91b86c1d",
   "metadata": {},
   "source": [
    " Suppose a medical test is positive 95% of the time when a person has a certain disease, but it is also positive 2% of the time when a person does not have the disease. If the prevalence of the disease in the population is 0.5%, what is the probability that a person who tests positive actually has the disease? Using Bayes's theorem, P(Disease|Positive) = P(Positive|Disease) * P(Disease) / P(Positive) = 0.95 * 0.005 / (0.95 * 0.005 + 0.02 * 0.995) = 0.192, or 19.2%.\n",
    "\n"
   ]
  },
  {
   "cell_type": "markdown",
   "id": "e1af14c3-851f-4e03-8896-a7e933b662fd",
   "metadata": {},
   "source": [
    "## Q7. Calculate the 95% confidence interval for a sample of data with a mean of 50 and a standard deviation of 5. Interpret the results."
   ]
  },
  {
   "cell_type": "markdown",
   "id": "76ccb12c-a29d-4efb-b48b-30a8f105d1c8",
   "metadata": {},
   "source": [
    "The 95% confidence interval for a sample of data with a mean of 50 and a standard deviation of 5 is calculated as 50 ± 1.96(5/sqrt(50)), which is 48.16 to 51.84. This means that if the same sample was taken repeatedly and the confidence interval calculated each time, 95% of the intervals would contain the true population mean."
   ]
  },
  {
   "cell_type": "markdown",
   "id": "32a8e603-a24f-4546-b9bf-46fa0aa12795",
   "metadata": {},
   "source": [
    "## Q8. What is the margin of error in a confidence interval? How does sample size affect the margin of error? Provide an example of a scenario where a larger sample size would result in a smaller margin of error."
   ]
  },
  {
   "cell_type": "markdown",
   "id": "39abf234-d84f-489d-b7b7-d7f020272a6c",
   "metadata": {},
   "source": [
    "The margin of error in a confidence interval is the range of values above and below the sample mean within which the true population mean is expected to lie. It is affected by sample size in that a larger sample size will result in a smaller margin of error. This is because as the sample size increases, the standard error of the mean decreases, which in turn decreases the margin of error. For example, if we wanted to estimate the mean height of all high school students in a city, a smaller sample size would result in a larger margin of error. However, if we were to increase the sample size by surveying more students, we would expect the margin of error to decrease."
   ]
  },
  {
   "cell_type": "markdown",
   "id": "3ccdb7a1-ad3d-4a9b-9eca-1a269033b384",
   "metadata": {},
   "source": [
    "## Q9. Calculate the z-score for a data point with a value of 75, a population mean of 70, and a population standard deviation of 5. Interpret the results."
   ]
  },
  {
   "cell_type": "markdown",
   "id": "882c4c15-865f-4e6f-b5dd-7232ec943fbe",
   "metadata": {},
   "source": [
    "The z-score for a data point with a value of 75, a population mean of 70, and a population standard deviation of 5 can be calculated using the formula z = (x - μ) / σ, where x is the data point, μ is the population mean, and σ is the population standard deviation. Plugging in the values, we get z = (75 - 70) / 5 = 1. This means that the data point is one standard deviation above the population mean."
   ]
  },
  {
   "cell_type": "markdown",
   "id": "ae1cfcfa-3367-4537-8fe5-5de84b16194a",
   "metadata": {},
   "source": [
    "## Q10. In a study of the effectiveness of a new weight loss drug, a sample of 50 participants lost an average of 6 pounds with a standard deviation of 2.5 pounds. Conduct a hypothesis test to determine if the drug is significantly effective at a 95% confidence level using a t-test."
   ]
  },
  {
   "cell_type": "markdown",
   "id": "3835fe9b-68af-4ac4-94b2-3094a13c0be0",
   "metadata": {},
   "source": [
    "To conduct a hypothesis test to determine if a new weight loss drug is significantly effective at a 95% confidence level using a t-test, we need to formulate our null and alternative hypotheses. Let's assume that the null hypothesis is that the mean weight loss for participants on the drug is not significantly different from zero, and the alternative hypothesis is that the mean weight loss is significantly different from zero. We can use a two-tailed t-test since the alternative hypothesis is not directional. We calculate the t-statistic using the formula t = (x̄ - μ) / (s / sqrt(n)), where x̄ is the sample mean, μ is the hypothesized population mean, s is the sample standard deviation, and n is the sample size. Plugging in the values, we get t = (6 - 0) / (2.5 / sqrt(50)) = 10.39.\n",
    "\n",
    "We then compare the t-value to the critical value obtained from a t-distribution table with 49 degrees of freedom and a significance level of 0.05 (since we are conducting the test at a 95% confidence level). The critical value is ±2.009. Since our calculated t-value (10.39) is greater than the critical value (2.009), we reject the null hypothesis and conclude that the drug is significantly effective at reducing weight at a 95% confidence level."
   ]
  },
  {
   "cell_type": "markdown",
   "id": "a24eef53-41ac-44fd-b3b8-61f1430975cf",
   "metadata": {},
   "source": [
    "## Q11. In a survey of 500 people, 65% reported being satisfied with their current job. Calculate the 95% confidence interval for the true proportion of people who are satisfied with their job."
   ]
  },
  {
   "cell_type": "markdown",
   "id": "3f2aceec-5d85-4027-8014-3f76d37b9514",
   "metadata": {},
   "source": [
    "To calculate the 95% confidence interval for the true proportion of people who are satisfied with their job, we need to use the formula:\n",
    "\n",
    "CI = p ± z * sqrt((p * (1 - p)) / n)\n",
    "\n",
    "Where:\n",
    "\n",
    "p is the sample proportion (65% or 0.65 in decimal form)\n",
    "z is the z-score for the desired confidence level (95% or 1.96 for a two-tailed test)\n",
    "n is the sample size (500)\n",
    "Plugging in the values, we get:\n",
    "\n",
    "CI = 0.65 ± 1.96 * sqrt((0.65 * (1 - 0.65)) / 500)\n",
    "CI = 0.65 ± 0.039\n",
    "CI = (0.611, 0.689)\n",
    "\n",
    "Interpretation: We can be 95% confident that the true proportion of people who are satisfied with their job is between 61.1% and 68.9%."
   ]
  },
  {
   "cell_type": "markdown",
   "id": "8ebc7717-5736-4e86-8b0e-f8b7a4e976f9",
   "metadata": {},
   "source": [
    "## Q12. A researcher is testing the effectiveness of two different teaching methods on student performance. Sample A has a mean score of 85 with a standard deviation of 6, while sample B has a mean score of 82 with a standard deviation of 5. Conduct a hypothesis test to determine if the two teaching methods have a significant difference in student performance using a t-test with a significance level of 0.01."
   ]
  },
  {
   "cell_type": "markdown",
   "id": "a8df7008-626c-4731-b7d1-2be576c6fe8c",
   "metadata": {},
   "source": [
    "To test if there is a significant difference in student performance between two teaching methods, we can conduct a two-sample t-test. The null hypothesis would be that there is no significant difference in performance between the two methods, while the alternative hypothesis would be that there is a significant difference.\n",
    "\n",
    "We can calculate the t-statistic using the formula:\n",
    "\n",
    "t = (x̄₁ - x̄₂) / (s₁²/n₁ + s₂²/n₂)^(1/2)\n",
    "\n",
    "where x̄₁ and x̄₂ are the sample means, s₁ and s₂ are the sample standard deviations, and n₁ and n₂ are the sample sizes.\n",
    "\n",
    "Using the given data, we have:\n",
    "\n",
    "x̄₁ = 85, s₁ = 6, n₁ = sample size for group A\n",
    "x̄₂ = 82, s₂ = 5, n₂ = sample size for group B\n",
    "\n",
    "Assuming equal sample sizes, we can calculate the pooled standard deviation as:\n",
    "\n",
    "s_pooled = ((n₁ - 1) * s₁² + (n₂ - 1) * s₂²) / (n₁ + n₂ - 2) = ((9 * 36) + (9 * 25)) / 16 = 30.75\n",
    "\n",
    "Then, the t-statistic is:\n",
    "\n",
    "t = (85 - 82) / (30.75 * ((1/9) + (1/9)))^(1/2) = 1.7\n",
    "\n",
    "Using a two-tailed t-test with a significance level of 0.01 and 16 degrees of freedom (n₁ + n₂ - 2), we can find the critical value from a t-distribution table or calculator to be approximately ±2.947.\n",
    "\n",
    "Since our calculated t-statistic of 1.7 falls within the range of -2.947 to +2.947, we fail to reject the null hypothesis and conclude that there is no significant difference in student performance between the two teaching methods.\n",
    "\n"
   ]
  },
  {
   "cell_type": "markdown",
   "id": "7abde9a0-4e7f-4507-84d4-7bf30f7872ab",
   "metadata": {},
   "source": [
    "## Q13. A population has a mean of 60 and a standard deviation of 8. A sample of 50 observations has a mean of 65. Calculate the 90% confidence interval for the true population mean."
   ]
  },
  {
   "cell_type": "markdown",
   "id": "81f44376-e675-493c-8bb7-8a9fc96edec6",
   "metadata": {},
   "source": [
    "To calculate the 90% confidence interval for the true population mean based on a sample mean and standard deviation, we can use the formula:\n",
    "\n",
    "CI = x̄ ± z* (s / √n)\n",
    "\n",
    "where x̄ is the sample mean, s is the sample standard deviation, n is the sample size, and z is the critical value for the desired confidence level (90% in this case) from the standard normal distribution.\n",
    "\n",
    "Using the given data, we have:\n",
    "\n",
    "x̄ = 65, s = 8, n = 50\n",
    "\n",
    "The critical value for a 90% confidence level is approximately 1.645.\n",
    "\n",
    "Substituting these values into the formula, we get:\n",
    "\n",
    "CI = 65 ± 1.645 * (8 / √50) = (62.28, 67.72)\n",
    "\n",
    "Therefore, we can be 90% confident that the true population mean lies between 62.28 and 67.72 based on the sample data.\n",
    "\n"
   ]
  },
  {
   "cell_type": "markdown",
   "id": "6f4cf8a1-269d-4dd4-89cb-1a4af3a4d7ff",
   "metadata": {},
   "source": [
    "## Q14. In a study of the effects of caffeine on reaction time, a sample of 30 participants had an average reaction time of 0.25 seconds with a standard deviation of 0.05 seconds. Conduct a hypothesis test to determine if the caffeine has a significant effect on reaction time at a 90% confidence level using a t-test."
   ]
  },
  {
   "cell_type": "markdown",
   "id": "17ef12e8-af6d-449d-bda3-231d652a8777",
   "metadata": {},
   "source": [
    "To test if caffeine has a significant effect on reaction time, we can conduct a one-sample t-test comparing the sample mean to the hypothesized population mean of 0 (assuming no effect). The null hypothesis would be that there is no significant effect of caffeine on reaction time, while the alternative hypothesis would be that there is a significant effect.\n",
    "\n",
    "We can calculate the t-statistic using the formula:\n",
    "\n",
    "t = (x̄ - μ) / (s / √n)\n",
    "\n",
    "where x̄ is the sample mean, μ is the hypothesized population mean, s is the sample standard deviation, and n is the sample size.\n",
    "\n",
    "Using the given data, we have:\n",
    "\n",
    "x̄ = 0"
   ]
  },
  {
   "cell_type": "code",
   "execution_count": null,
   "id": "15a005f9-32fc-4a02-b89a-a4e653d1e989",
   "metadata": {},
   "outputs": [],
   "source": []
  }
 ],
 "metadata": {
  "kernelspec": {
   "display_name": "Python 3 (ipykernel)",
   "language": "python",
   "name": "python3"
  },
  "language_info": {
   "codemirror_mode": {
    "name": "ipython",
    "version": 3
   },
   "file_extension": ".py",
   "mimetype": "text/x-python",
   "name": "python",
   "nbconvert_exporter": "python",
   "pygments_lexer": "ipython3",
   "version": "3.10.8"
  }
 },
 "nbformat": 4,
 "nbformat_minor": 5
}
