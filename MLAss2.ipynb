{
 "cells": [
  {
   "cell_type": "markdown",
   "id": "79688d12-e3ec-4d99-85ed-9bb1b2e871ae",
   "metadata": {},
   "source": [
    "## Q1: Define overfitting and underfitting in machine learning. What are the consequences of each, and how can they be mitigated?"
   ]
  },
  {
   "cell_type": "markdown",
   "id": "c4e04ab1-7ac6-44f5-9693-938e13080e9f",
   "metadata": {},
   "source": [
    "Overfitting occurs when a machine learning model is trained too well on a particular dataset, to the point where it begins to memorize the training data rather than learning the underlying patterns. This causes the model to perform poorly on new, unseen data, as it has essentially \"overfit\" to the training data. On the other hand, underfitting occurs when a model is too simple and cannot capture the underlying patterns in the data, resulting in poor performance on both the training and test data. To mitigate overfitting, techniques such as regularization, early stopping, and cross-validation can be used. To mitigate underfitting, more complex models or feature engineering may be necessary."
   ]
  },
  {
   "cell_type": "markdown",
   "id": "19b39013-9435-4b76-8882-19a254d374b3",
   "metadata": {},
   "source": [
    "## Q2: How can we reduce overfitting? Explain in brief."
   ]
  },
  {
   "cell_type": "markdown",
   "id": "974ee8a3-e4c5-4403-8f4f-3d912488c361",
   "metadata": {},
   "source": [
    "One way to reduce overfitting is through regularization, which adds a penalty term to the model's objective function that discourages overly complex models. Other techniques include early stopping, which stops training the model once the validation error starts increasing, and cross-validation, which helps to identify the optimal hyperparameters for the model."
   ]
  },
  {
   "cell_type": "markdown",
   "id": "97a76021-72e4-4f3c-9b75-7b1f3e5bb488",
   "metadata": {},
   "source": [
    "## Q3: Explain underfitting. List scenarios where underfitting can occur in ML."
   ]
  },
  {
   "cell_type": "markdown",
   "id": "adc41541-2cf6-491a-93e3-7efbd417396e",
   "metadata": {},
   "source": [
    "Underfitting occurs when a model is too simple and cannot capture the underlying patterns in the data, resulting in poor performance on both the training and test data. This can occur in scenarios where the model is too basic, the dataset is too small, or the feature engineering is insufficient."
   ]
  },
  {
   "cell_type": "markdown",
   "id": "f5b2731b-839a-4445-98aa-27f8057c8e49",
   "metadata": {},
   "source": [
    "## Q4: Explain the bias-variance tradeoff in machine learning. What is the relationship between bias and variance, and how do they affect model performance?"
   ]
  },
  {
   "cell_type": "markdown",
   "id": "f00fbc92-05fb-49f2-a3e8-9d5190553fce",
   "metadata": {},
   "source": [
    "The bias-variance tradeoff refers to the balance between a model's ability to fit the training data (bias) and its ability to generalize to new, unseen data (variance). A model with high bias is too simple and may underfit the data, while a model with high variance is too complex and may overfit the data. The goal is to find a balance between the two that results in optimal model performance."
   ]
  },
  {
   "cell_type": "markdown",
   "id": "316aac62-06e2-4be3-bb3d-6dfb75a5289a",
   "metadata": {},
   "source": [
    "## Q5: Discuss some common methods for detecting overfitting and underfitting in machine learning models.How can you determine whether your model is overfitting or underfitting?"
   ]
  },
  {
   "cell_type": "markdown",
   "id": "e3f13682-43a2-4191-8722-63d6a3516043",
   "metadata": {},
   "source": [
    "Common methods for detecting overfitting and underfitting include looking at the difference between the training and test error, examining learning curves, and performing cross-validation. To determine whether a model is overfitting or underfitting, one can look at the model's performance on both the training and test data. If the training error is low but the test error is high, the model may be overfitting. If both the training and test error are high, the model may be underfitting."
   ]
  },
  {
   "cell_type": "markdown",
   "id": "d0291b69-13b1-4527-a024-cdf3ccb4a216",
   "metadata": {},
   "source": [
    "## Q6: Compare and contrast bias and variance in machine learning. What are some examples of high bias and high variance models, and how do they differ in terms of their performance?"
   ]
  },
  {
   "cell_type": "markdown",
   "id": "60a5e3f3-c942-4f9b-8311-dec486750306",
   "metadata": {},
   "source": [
    "Bias refers to the difference between a model's predictions and the true values, while variance refers to the variability of a model's predictions for different training sets. An example of a high bias model is a linear regression model with few features, while an example of a high variance model is a decision tree with many layers. High bias models may underfit the data, while high variance models may overfit the data."
   ]
  },
  {
   "cell_type": "markdown",
   "id": "31a463ef-2967-4ec5-b0ac-68ec3a5a4780",
   "metadata": {},
   "source": [
    "## Q7: What is regularization in machine learning, and how can it be used to prevent overfitting? Describe some common regularization techniques and how they work."
   ]
  },
  {
   "cell_type": "markdown",
   "id": "feb717e8-0ed8-4ed7-8b97-5f62b0a9e5eb",
   "metadata": {},
   "source": [
    "Regularization is a technique used in machine learning to prevent overfitting by adding a penalty term to the model's objective function that discourages overly complex models. Common regularization techniques include L1 and L2 regularization, which add a penalty term to the objective function based on the magnitude of the model's coefficients, and dropout regularization, which randomly drops out some of the nodes in a neural network during training to prevent over-reliance on specific features."
   ]
  },
  {
   "cell_type": "code",
   "execution_count": null,
   "id": "1285e06b-3cc3-48c8-b4f3-c55fd6b01288",
   "metadata": {},
   "outputs": [],
   "source": []
  }
 ],
 "metadata": {
  "kernelspec": {
   "display_name": "Python 3 (ipykernel)",
   "language": "python",
   "name": "python3"
  },
  "language_info": {
   "codemirror_mode": {
    "name": "ipython",
    "version": 3
   },
   "file_extension": ".py",
   "mimetype": "text/x-python",
   "name": "python",
   "nbconvert_exporter": "python",
   "pygments_lexer": "ipython3",
   "version": "3.10.8"
  }
 },
 "nbformat": 4,
 "nbformat_minor": 5
}
