{
 "cells": [
  {
   "cell_type": "code",
   "execution_count": 2,
   "id": "6d0fac83-f152-4ccf-bd8c-240c5fc994d6",
   "metadata": {},
   "outputs": [],
   "source": [
    "import numpy as np\n",
    "list_ = [ '1' , '2' , '3' , '4' , '5' ]\n",
    "array_list = np.array(object = list_)"
   ]
  },
  {
   "cell_type": "markdown",
   "id": "49250c25-b9e5-490c-83ac-a679bdc3596a",
   "metadata": {},
   "source": [
    "## Q1. Is there any difference in the data type of variables list_ and array_list? If there is then write a code to print the data types of both the variables."
   ]
  },
  {
   "cell_type": "code",
   "execution_count": 22,
   "id": "78e804ee-833b-4ebf-8ff4-8f9d51044f26",
   "metadata": {},
   "outputs": [
    {
     "data": {
      "text/plain": [
       "list"
      ]
     },
     "execution_count": 22,
     "metadata": {},
     "output_type": "execute_result"
    }
   ],
   "source": [
    "type(list_)"
   ]
  },
  {
   "cell_type": "code",
   "execution_count": 24,
   "id": "48b9f66a-0743-4b9b-9e41-9c62cb6a9699",
   "metadata": {},
   "outputs": [
    {
     "data": {
      "text/plain": [
       "numpy.ndarray"
      ]
     },
     "execution_count": 24,
     "metadata": {},
     "output_type": "execute_result"
    }
   ],
   "source": [
    "type(array_list)"
   ]
  },
  {
   "cell_type": "markdown",
   "id": "e8463b8e-5a5b-4a77-86c4-ce7f1cae7ba8",
   "metadata": {},
   "source": [
    "Yes, there is a difference in the data type of list_ and array_list. list_ is a Python list of strings, while array_list is a NumPy array of strings."
   ]
  },
  {
   "cell_type": "markdown",
   "id": "aba871c2-fbb9-41a2-9813-c08e470b3bce",
   "metadata": {},
   "source": [
    "## Q2. Write a code to print the data type of each and every element of both the variables list_ and arra_list."
   ]
  },
  {
   "cell_type": "code",
   "execution_count": 33,
   "id": "24605129-6bd8-49a7-b339-a10b41705061",
   "metadata": {},
   "outputs": [
    {
     "name": "stdout",
     "output_type": "stream",
     "text": [
      "DataType of list_ :\n",
      "\n",
      "<class 'str'>\n",
      "<class 'str'>\n",
      "<class 'str'>\n",
      "<class 'str'>\n",
      "<class 'str'>\n",
      "\n",
      "DataType of array_list :\n",
      "\n",
      "<class 'numpy.int64'>\n",
      "<class 'numpy.int64'>\n",
      "<class 'numpy.int64'>\n",
      "<class 'numpy.int64'>\n",
      "<class 'numpy.int64'>\n"
     ]
    }
   ],
   "source": [
    "print('DataType of list_ :\\n')\n",
    "for i in list_:\n",
    "    print(type(i))\n",
    "\n",
    "print('\\nDataType of array_list :\\n')\n",
    "for j in array_list:\n",
    "    print(type(j))\n",
    "    "
   ]
  },
  {
   "cell_type": "markdown",
   "id": "1082a99c-2c22-41b9-b209-2817a6192bee",
   "metadata": {},
   "source": [
    "## Q3. Considering the following changes in the variable, array_list:\n",
    "## array_list = np.array(object = list_, dtype = int)\n",
    "## Will there be any difference in the data type of the elements present in both the variables, list_ and arra_list? If so then print the data types of each and every element present in both the variables, list_ and arra_list."
   ]
  },
  {
   "cell_type": "code",
   "execution_count": 36,
   "id": "f4ce1e36-fe6e-4444-8157-33bfb23f4fe4",
   "metadata": {},
   "outputs": [],
   "source": [
    "array_list = np.array(list_,dtype=int)"
   ]
  },
  {
   "cell_type": "markdown",
   "id": "cef1fd1e-148a-4045-a2f5-f7ccb2a2cc6d",
   "metadata": {},
   "source": [
    "Yes, there will be a difference in the data types of the elements present in list_ and array_list if you change the data type of the elements in array_list using the dtype parameter."
   ]
  },
  {
   "cell_type": "code",
   "execution_count": 37,
   "id": "4b45c9db-2edc-4bc3-9c91-31e30b38ce18",
   "metadata": {},
   "outputs": [
    {
     "name": "stdout",
     "output_type": "stream",
     "text": [
      "DataType of list_ :\n",
      "\n",
      "<class 'str'>\n",
      "<class 'str'>\n",
      "<class 'str'>\n",
      "<class 'str'>\n",
      "<class 'str'>\n",
      "\n",
      "DataType of array_list :\n",
      "\n",
      "<class 'numpy.int64'>\n",
      "<class 'numpy.int64'>\n",
      "<class 'numpy.int64'>\n",
      "<class 'numpy.int64'>\n",
      "<class 'numpy.int64'>\n"
     ]
    }
   ],
   "source": [
    "print('DataType of list_ :\\n')\n",
    "for i in list_:\n",
    "    print(type(i))\n",
    "\n",
    "print('\\nDataType of array_list :\\n')\n",
    "for j in array_list:\n",
    "    print(type(j))\n",
    "    "
   ]
  },
  {
   "cell_type": "markdown",
   "id": "6d274011-a408-4afb-8c36-5751a290869f",
   "metadata": {},
   "source": [
    "## Consider the below code to answer further questions:\n",
    "## import numpy as np\n",
    "## num_list = [ [ 1 , 2 , 3 ] , [ 4 , 5 , 6 ] ]\n",
    "## num_array = np.array(object = num_list)\n"
   ]
  },
  {
   "cell_type": "markdown",
   "id": "3723e352-1cd1-4c29-b308-42912c25386d",
   "metadata": {},
   "source": [
    "## Q4. Write a code to find the following characteristics of variable, num_array:\n",
    " - (i) shape\n",
    " - (ii) size"
   ]
  },
  {
   "cell_type": "code",
   "execution_count": 17,
   "id": "aba552bb-2720-4f7b-bfe0-fc8444234e4c",
   "metadata": {},
   "outputs": [],
   "source": [
    "import numpy as np\n",
    "num_list = [[1,2,3],[4,5,6]]\n",
    "num_array = np.array(object = num_list)"
   ]
  },
  {
   "cell_type": "code",
   "execution_count": 18,
   "id": "a6a2190b-f844-4a9f-8717-d57301418949",
   "metadata": {},
   "outputs": [
    {
     "data": {
      "text/plain": [
       "(2, 3)"
      ]
     },
     "execution_count": 18,
     "metadata": {},
     "output_type": "execute_result"
    }
   ],
   "source": [
    "num_array.shape"
   ]
  },
  {
   "cell_type": "code",
   "execution_count": 19,
   "id": "0eada250-69ef-413a-8734-8cb36e69e245",
   "metadata": {},
   "outputs": [
    {
     "data": {
      "text/plain": [
       "6"
      ]
     },
     "execution_count": 19,
     "metadata": {},
     "output_type": "execute_result"
    }
   ],
   "source": [
    "num_array.size"
   ]
  },
  {
   "cell_type": "markdown",
   "id": "a706ccfd-a5a4-4188-9154-e9499d556ff3",
   "metadata": {},
   "source": [
    "## Q5. Write a code to create numpy array of 3*3 matrix containing zeros only, using a numpy array creation function.\n",
    "[Hint: The size of the array will be 9 and the shape will be (3,3).]"
   ]
  },
  {
   "cell_type": "code",
   "execution_count": 39,
   "id": "d4e40697-3e32-4d18-8852-5be8716edcac",
   "metadata": {},
   "outputs": [
    {
     "data": {
      "text/plain": [
       "array([[0., 0., 0.],\n",
       "       [0., 0., 0.],\n",
       "       [0., 0., 0.]])"
      ]
     },
     "execution_count": 39,
     "metadata": {},
     "output_type": "execute_result"
    }
   ],
   "source": [
    "np.zeros((3,3))"
   ]
  },
  {
   "cell_type": "markdown",
   "id": "e120351e-ade9-40f4-ae41-0aba809cde5a",
   "metadata": {},
   "source": [
    "## Q6. Create an identity matrix of shape (5,5) using numpy functions?\n",
    "[Hint: An identity matrix is a matrix containing 1 diagonally and other elements will be 0.]"
   ]
  },
  {
   "cell_type": "code",
   "execution_count": 10,
   "id": "fc9d95ab-29e1-45d5-bf20-6d1bf8449124",
   "metadata": {},
   "outputs": [
    {
     "data": {
      "text/plain": [
       "array([[1., 0., 0., 0., 0.],\n",
       "       [0., 1., 0., 0., 0.],\n",
       "       [0., 0., 1., 0., 0.],\n",
       "       [0., 0., 0., 1., 0.],\n",
       "       [0., 0., 0., 0., 1.]])"
      ]
     },
     "execution_count": 10,
     "metadata": {},
     "output_type": "execute_result"
    }
   ],
   "source": [
    "np.eye(5,5)"
   ]
  },
  {
   "cell_type": "code",
   "execution_count": null,
   "id": "0cbbf838-a7b8-4bcc-a33a-ab390fc122d9",
   "metadata": {},
   "outputs": [],
   "source": []
  }
 ],
 "metadata": {
  "kernelspec": {
   "display_name": "Python 3 (ipykernel)",
   "language": "python",
   "name": "python3"
  },
  "language_info": {
   "codemirror_mode": {
    "name": "ipython",
    "version": 3
   },
   "file_extension": ".py",
   "mimetype": "text/x-python",
   "name": "python",
   "nbconvert_exporter": "python",
   "pygments_lexer": "ipython3",
   "version": "3.10.8"
  }
 },
 "nbformat": 4,
 "nbformat_minor": 5
}
