{
 "cells": [
  {
   "cell_type": "markdown",
   "id": "18b99b12-9945-4ead-b37f-1a13b814873d",
   "metadata": {},
   "source": [
    "## Q1. Write a Python function that takes in two arrays of data and calculates the F-value for a variance ratio test. The function should return the F-value and the corresponding p-value for the test."
   ]
  },
  {
   "cell_type": "code",
   "execution_count": 1,
   "id": "32298195-b906-407f-be5e-b09b42886acd",
   "metadata": {},
   "outputs": [],
   "source": [
    "import numpy as np\n",
    "from scipy.stats import f\n",
    "\n",
    "def variance_ratio_test(array1, array2):\n",
    "    n1, n2 = len(array1), len(array2)\n",
    "    var1, var2 = np.var(array1, ddof=1), np.var(array2, ddof=1)\n",
    "    F = var1/var2 if var1 > var2 else var2/var1\n",
    "    dfn, dfd = n1-1, n2-1\n",
    "    p_value = 2 * min(f.cdf(F, dfn, dfd), 1-f.cdf(F, dfn, dfd))\n",
    "    return F, p_value\n"
   ]
  },
  {
   "cell_type": "markdown",
   "id": "41ca90e6-70b6-4361-b89f-ca35387d3c12",
   "metadata": {},
   "source": [
    "## Q2. Given a significance level of 0.05 and the degrees of freedom for the numerator and denominator of an F-distribution, write a Python function that returns the critical F-value for a two-tailed test.\n"
   ]
  },
  {
   "cell_type": "code",
   "execution_count": 2,
   "id": "6a3baebc-9d68-47e2-95bf-73582a749245",
   "metadata": {},
   "outputs": [],
   "source": [
    "from scipy.stats import f\n",
    "\n",
    "def critical_f_value(dfn, dfd, alpha=0.05):\n",
    "    return f.ppf(alpha/2, dfn, dfd), f.ppf(1-alpha/2, dfn, dfd)\n"
   ]
  },
  {
   "cell_type": "markdown",
   "id": "f0a55336-4a5a-4442-a88a-941e49f59756",
   "metadata": {},
   "source": [
    "## Q3. Write a Python program that generates random samples from two normal distributions with known variances and uses an F-test to determine if the variances are equal. The program should output the F-value, degrees of freedom, and p-value for the test.\n"
   ]
  },
  {
   "cell_type": "code",
   "execution_count": 3,
   "id": "dc62cbf0-885a-40a4-86cf-b824a9b4bfa6",
   "metadata": {},
   "outputs": [
    {
     "name": "stdout",
     "output_type": "stream",
     "text": [
      "F-value: 0.4886670513098198\n",
      "Degrees of freedom: 29 39\n",
      "p-value: 0.047923892599221626\n"
     ]
    }
   ],
   "source": [
    "import numpy as np\n",
    "from scipy.stats import f\n",
    "\n",
    "# Generate random samples\n",
    "n1, n2 = 30, 40\n",
    "mu1, mu2 = 5, 7\n",
    "var1, var2 = 2, 3\n",
    "sample1 = np.random.normal(mu1, np.sqrt(var1), n1)\n",
    "sample2 = np.random.normal(mu2, np.sqrt(var2), n2)\n",
    "\n",
    "# Calculate F-value and p-value for F-test\n",
    "F = np.var(sample1, ddof=1) / np.var(sample2, ddof=1)\n",
    "dfn, dfd = n1-1, n2-1\n",
    "p_value = 2 * min(f.cdf(F, dfn, dfd), 1-f.cdf(F, dfn, dfd))\n",
    "\n",
    "# Print results\n",
    "print(\"F-value:\", F)\n",
    "print(\"Degrees of freedom:\", dfn, dfd)\n",
    "print(\"p-value:\", p_value)\n"
   ]
  },
  {
   "cell_type": "markdown",
   "id": "9c24902b-7eae-440d-aef1-f1eaa5a88114",
   "metadata": {},
   "source": [
    "## Q4.The variances of two populations are known to be 10 and 15. A sample of 12 observations is taken from each population. Conduct an F-test at the 5% significance level to determine if the variances are significantly different."
   ]
  },
  {
   "cell_type": "code",
   "execution_count": 4,
   "id": "74b989b4-2e88-4688-8464-3c958d5d5e04",
   "metadata": {},
   "outputs": [
    {
     "name": "stdout",
     "output_type": "stream",
     "text": [
      "Fail to reject null hypothesis that variances are equal\n"
     ]
    }
   ],
   "source": [
    "from scipy.stats import f\n",
    "\n",
    "var1, var2 = 10, 15\n",
    "n1, n2 = 12, 12\n",
    "\n",
    "F = var1/var2 if var1 > var2 else var2/var1\n",
    "dfn, dfd = n1-1, n2-1\n",
    "p_value = 2 * min(f.cdf(F, dfn, dfd), 1-f.cdf(F, dfn, dfd))\n",
    "\n",
    "alpha = 0.05\n",
    "critical_F = f.ppf(alpha/2, dfn, dfd), f.ppf(1-alpha/2, dfn, dfd)\n",
    "\n",
    "if F > critical_F[1] or F < critical_F[0]:\n",
    "    print(\"Reject null hypothesis that variances are equal\")\n",
    "else:\n",
    "    print(\"Fail to reject null hypothesis that variances are equal\")\n"
   ]
  },
  {
   "cell_type": "markdown",
   "id": "be42d2c8-ee74-44c9-93aa-5ffcada837af",
   "metadata": {},
   "source": [
    "## Q5. A manufacturer claims that the variance of the diameter of a certain product is 0.005. A sample of 25 products is taken, and the sample variance is found to be 0.006. Conduct an F-test at the 1% significance level to determine if the claim is justified."
   ]
  },
  {
   "cell_type": "markdown",
   "id": "28c2e1bd-5e3b-40a3-b071-ef0c9c475927",
   "metadata": {},
   "source": [
    "To conduct an F-test at the 1% significance level to determine if the claim that the variance of the diameter of a certain product is 0.005 is justified, we need to set up the null and alternative hypotheses:\n",
    "\n",
    "Null Hypothesis: The variance of the diameter of the product is 0.005.\n",
    "Alternative Hypothesis: The variance of the diameter of the product is not 0.005.\n",
    "\n",
    "We can use the F-test formula to calculate the F-statistic:\n",
    "\n",
    "F = (sample variance)/(population variance)\n",
    "\n",
    "The degrees of freedom for the sample and population variances are 24 and 25, respectively. Using an F-table or calculator, we can find the critical F-value for a 1% significance level and degrees of freedom of 24 and 25. The critical F-value is 2.69.\n",
    "\n",
    "The calculated F-value for the sample is:\n",
    "\n",
    "F = 0.006/0.005 = 1.2\n",
    "\n",
    "Since the calculated F-value is less than the critical F-value, we fail to reject the null hypothesis."
   ]
  },
  {
   "cell_type": "markdown",
   "id": "26d5dcd0-a22f-49f8-9bc2-5c33faea75b3",
   "metadata": {},
   "source": [
    "## Q6. Write a Python function that takes in the degrees of freedom for the numerator and denominator of an F-distribution and calculates the mean and variance of the distribution. The function should return the mean and variance as a tuple.\n"
   ]
  },
  {
   "cell_type": "code",
   "execution_count": 5,
   "id": "df92c93d-f006-4f88-a157-04fce6e88c60",
   "metadata": {},
   "outputs": [],
   "source": [
    "import math\n",
    "\n",
    "def f_distribution_mean_variance(df_numerator, df_denominator):\n",
    "    mean = df_denominator / (df_denominator - 2)\n",
    "    variance = (2 * df_denominator**2 * (df_numerator + df_denominator - 2)) / (df_numerator * (df_denominator - 2)**2 * (df_denominator - 4))\n",
    "    return (mean, variance)\n"
   ]
  },
  {
   "cell_type": "markdown",
   "id": "abe379eb-2b9f-45fd-9568-4dca8ecdc1b5",
   "metadata": {},
   "source": [
    "## Q7. A random sample of 10 measurements is taken from a normal population with unknown variance. The sample variance is found to be 25. Another random sample of 15 measurements is taken from another normal population with unknown variance, and the sample variance is found to be 20. Conduct an F-test at the 10% significance level to determine if the variances are significantly different."
   ]
  },
  {
   "cell_type": "markdown",
   "id": "f59d2397-cda8-44c8-bfe5-5a2f75b4d4d3",
   "metadata": {},
   "source": [
    "To conduct an F-test at the 10% significance level to determine if the variances of two normal populations are significantly different, we need to set up the null and alternative hypotheses:\n",
    "\n",
    "Null Hypothesis: The variances of the two populations are equal.\n",
    "Alternative Hypothesis: The variances of the two populations are not equal.\n",
    "\n",
    "We can use the F-test formula to calculate the F-statistic:\n",
    "\n",
    "F = (sample variance 1)/(sample variance 2)\n",
    "\n",
    "The degrees of freedom for the sample variances are 9 and 14, respectively. Using an F-table or calculator, we can find the critical F-value for a 10% significance level and degrees of freedom of 9 and 14. The critical F-value is 2.431.\n",
    "\n",
    "The calculated F-value for the samples is:\n",
    "\n",
    "F = 25/20 = 1.25\n",
    "\n",
    "Since the calculated F-value is less than the critical F-value, we fail to reject the null hypothesis."
   ]
  },
  {
   "cell_type": "markdown",
   "id": "25457f9b-fd46-4e01-93a1-566dda86e38d",
   "metadata": {},
   "source": [
    "## Q8. The following data represent the waiting times in minutes at two different restaurants on a Saturday night: Restaurant A: 24, 25, 28, 23, 22, 20, 27; Restaurant B: 31, 33, 35, 30, 32, 36. Conduct an F-test at the 5% significance level to determine if the variances are significantly different."
   ]
  },
  {
   "cell_type": "markdown",
   "id": "b122607c-dd21-4a89-8175-4087f5188c0e",
   "metadata": {},
   "source": [
    "First, we calculate the sample variances for each restaurant:\n",
    "\n",
    "Sample variance of Restaurant A = 7.95\n",
    "Sample variance of Restaurant B = 6.67\n",
    "\n",
    "Then, we set up the null and alternative hypotheses:\n",
    "\n",
    "H0: The variances of the waiting times at the two restaurants are equal.\n",
    "HA: The variances of the waiting times at the two restaurants are not equal.\n",
    "\n",
    "Next, we calculate the test statistic:\n",
    "\n",
    "F = sample variance of Restaurant A / sample variance of Restaurant B = 1.19\n",
    "\n",
    "Using a calculator or a table for the F-distribution, with 6 and 5 degrees of freedom, we find that the critical values for a two-tailed test at the 5% significance level are 0.25 and 4.03.\n",
    "\n",
    "Since our calculated test statistic of 1.19 falls within this range, we fail to reject the null hypothesis "
   ]
  },
  {
   "cell_type": "markdown",
   "id": "929d81a6-12ff-409a-b83f-c92a7fb389fd",
   "metadata": {},
   "source": [
    "## Q9. The following data represent the test scores of two groups of students: Group A: 80, 85, 90, 92, 87, 83; Group B: 75, 78, 82, 79, 81, 84. Conduct an F-test at the 1% significance level to determine if the variances are significantly different."
   ]
  },
  {
   "cell_type": "markdown",
   "id": "8b3a984b-1853-479d-81bd-8b218e28612d",
   "metadata": {},
   "source": [
    "First, we calculate the sample variances for each group:\n",
    "\n",
    "Sample variance of Group A = 20.33\n",
    "Sample variance of Group B = 4.50\n",
    "\n",
    "Then, we set up the null and alternative hypotheses:\n",
    "\n",
    "H0: The variances of the test scores of the two groups are equal.\n",
    "HA: The variances of the test scores of the two groups are not equal.\n",
    "\n",
    "Next, we calculate the test statistic:\n",
    "\n",
    "F = sample variance of Group A / sample variance of Group B = 4.52\n",
    "\n",
    "Using a calculator or a table for the F-distribution, with 5 and 4 degrees of freedom, we find that the critical values for a two-tailed test at the 1% significance level are 0.16 and 7.71.\n",
    "\n",
    "Since our calculated test statistic of 4.52 falls within this range, we fail to reject the null hypothesis."
   ]
  },
  {
   "cell_type": "code",
   "execution_count": null,
   "id": "08315888-a916-4392-91e0-7bc49a483477",
   "metadata": {},
   "outputs": [],
   "source": [
    "s"
   ]
  }
 ],
 "metadata": {
  "kernelspec": {
   "display_name": "Python 3 (ipykernel)",
   "language": "python",
   "name": "python3"
  },
  "language_info": {
   "codemirror_mode": {
    "name": "ipython",
    "version": 3
   },
   "file_extension": ".py",
   "mimetype": "text/x-python",
   "name": "python",
   "nbconvert_exporter": "python",
   "pygments_lexer": "ipython3",
   "version": "3.10.8"
  }
 },
 "nbformat": 4,
 "nbformat_minor": 5
}
