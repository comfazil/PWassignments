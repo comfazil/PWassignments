{
 "cells": [
  {
   "cell_type": "markdown",
   "id": "9cc35551-3415-47f1-ad1a-1b14af81560d",
   "metadata": {},
   "source": [
    "## Q1. List any five functions of the pandas library with execution.\n"
   ]
  },
  {
   "cell_type": "code",
   "execution_count": 4,
   "id": "1cd20c48-db0f-46d8-a989-335fdbb4fac1",
   "metadata": {},
   "outputs": [
    {
     "data": {
      "text/html": [
       "<div>\n",
       "<style scoped>\n",
       "    .dataframe tbody tr th:only-of-type {\n",
       "        vertical-align: middle;\n",
       "    }\n",
       "\n",
       "    .dataframe tbody tr th {\n",
       "        vertical-align: top;\n",
       "    }\n",
       "\n",
       "    .dataframe thead th {\n",
       "        text-align: right;\n",
       "    }\n",
       "</style>\n",
       "<table border=\"1\" class=\"dataframe\">\n",
       "  <thead>\n",
       "    <tr style=\"text-align: right;\">\n",
       "      <th></th>\n",
       "      <th>PassengerId</th>\n",
       "      <th>Survived</th>\n",
       "      <th>Pclass</th>\n",
       "      <th>Name</th>\n",
       "      <th>Sex</th>\n",
       "      <th>Age</th>\n",
       "      <th>SibSp</th>\n",
       "      <th>Parch</th>\n",
       "      <th>Ticket</th>\n",
       "      <th>Fare</th>\n",
       "      <th>Cabin</th>\n",
       "      <th>Embarked</th>\n",
       "    </tr>\n",
       "  </thead>\n",
       "  <tbody>\n",
       "    <tr>\n",
       "      <th>0</th>\n",
       "      <td>1</td>\n",
       "      <td>0</td>\n",
       "      <td>3</td>\n",
       "      <td>Braund, Mr. Owen Harris</td>\n",
       "      <td>male</td>\n",
       "      <td>22.0</td>\n",
       "      <td>1</td>\n",
       "      <td>0</td>\n",
       "      <td>A/5 21171</td>\n",
       "      <td>7.2500</td>\n",
       "      <td>NaN</td>\n",
       "      <td>S</td>\n",
       "    </tr>\n",
       "    <tr>\n",
       "      <th>1</th>\n",
       "      <td>2</td>\n",
       "      <td>1</td>\n",
       "      <td>1</td>\n",
       "      <td>Cumings, Mrs. John Bradley (Florence Briggs Th...</td>\n",
       "      <td>female</td>\n",
       "      <td>38.0</td>\n",
       "      <td>1</td>\n",
       "      <td>0</td>\n",
       "      <td>PC 17599</td>\n",
       "      <td>71.2833</td>\n",
       "      <td>C85</td>\n",
       "      <td>C</td>\n",
       "    </tr>\n",
       "  </tbody>\n",
       "</table>\n",
       "</div>"
      ],
      "text/plain": [
       "   PassengerId  Survived  Pclass  \\\n",
       "0            1         0       3   \n",
       "1            2         1       1   \n",
       "\n",
       "                                                Name     Sex   Age  SibSp  \\\n",
       "0                            Braund, Mr. Owen Harris    male  22.0      1   \n",
       "1  Cumings, Mrs. John Bradley (Florence Briggs Th...  female  38.0      1   \n",
       "\n",
       "   Parch     Ticket     Fare Cabin Embarked  \n",
       "0      0  A/5 21171   7.2500   NaN        S  \n",
       "1      0   PC 17599  71.2833   C85        C  "
      ]
     },
     "execution_count": 4,
     "metadata": {},
     "output_type": "execute_result"
    }
   ],
   "source": [
    "import pandas as pd\n",
    "\n",
    "df = pd.read_csv('https://raw.githubusercontent.com/datasciencedojo/datasets/master/titanic.csv')\n",
    "df.head(2)\n"
   ]
  },
  {
   "cell_type": "code",
   "execution_count": 5,
   "id": "d9fc74fa-f532-4c6e-82a8-a1ee49923d26",
   "metadata": {},
   "outputs": [
    {
     "data": {
      "text/html": [
       "<div>\n",
       "<style scoped>\n",
       "    .dataframe tbody tr th:only-of-type {\n",
       "        vertical-align: middle;\n",
       "    }\n",
       "\n",
       "    .dataframe tbody tr th {\n",
       "        vertical-align: top;\n",
       "    }\n",
       "\n",
       "    .dataframe thead th {\n",
       "        text-align: right;\n",
       "    }\n",
       "</style>\n",
       "<table border=\"1\" class=\"dataframe\">\n",
       "  <thead>\n",
       "    <tr style=\"text-align: right;\">\n",
       "      <th></th>\n",
       "      <th>PassengerId</th>\n",
       "      <th>Survived</th>\n",
       "      <th>Pclass</th>\n",
       "      <th>Name</th>\n",
       "      <th>Sex</th>\n",
       "      <th>Age</th>\n",
       "      <th>SibSp</th>\n",
       "      <th>Parch</th>\n",
       "      <th>Ticket</th>\n",
       "      <th>Fare</th>\n",
       "      <th>Cabin</th>\n",
       "      <th>Embarked</th>\n",
       "    </tr>\n",
       "  </thead>\n",
       "  <tbody>\n",
       "    <tr>\n",
       "      <th>889</th>\n",
       "      <td>890</td>\n",
       "      <td>1</td>\n",
       "      <td>1</td>\n",
       "      <td>Behr, Mr. Karl Howell</td>\n",
       "      <td>male</td>\n",
       "      <td>26.0</td>\n",
       "      <td>0</td>\n",
       "      <td>0</td>\n",
       "      <td>111369</td>\n",
       "      <td>30.00</td>\n",
       "      <td>C148</td>\n",
       "      <td>C</td>\n",
       "    </tr>\n",
       "    <tr>\n",
       "      <th>890</th>\n",
       "      <td>891</td>\n",
       "      <td>0</td>\n",
       "      <td>3</td>\n",
       "      <td>Dooley, Mr. Patrick</td>\n",
       "      <td>male</td>\n",
       "      <td>32.0</td>\n",
       "      <td>0</td>\n",
       "      <td>0</td>\n",
       "      <td>370376</td>\n",
       "      <td>7.75</td>\n",
       "      <td>NaN</td>\n",
       "      <td>Q</td>\n",
       "    </tr>\n",
       "  </tbody>\n",
       "</table>\n",
       "</div>"
      ],
      "text/plain": [
       "     PassengerId  Survived  Pclass                   Name   Sex   Age  SibSp  \\\n",
       "889          890         1       1  Behr, Mr. Karl Howell  male  26.0      0   \n",
       "890          891         0       3    Dooley, Mr. Patrick  male  32.0      0   \n",
       "\n",
       "     Parch  Ticket   Fare Cabin Embarked  \n",
       "889      0  111369  30.00  C148        C  \n",
       "890      0  370376   7.75   NaN        Q  "
      ]
     },
     "execution_count": 5,
     "metadata": {},
     "output_type": "execute_result"
    }
   ],
   "source": [
    "df.tail(2)"
   ]
  },
  {
   "cell_type": "code",
   "execution_count": 6,
   "id": "682d2212-a796-4081-8136-ad2e9c82fcf7",
   "metadata": {},
   "outputs": [
    {
     "data": {
      "text/plain": [
       "PassengerId      int64\n",
       "Survived         int64\n",
       "Pclass           int64\n",
       "Name            object\n",
       "Sex             object\n",
       "Age            float64\n",
       "SibSp            int64\n",
       "Parch            int64\n",
       "Ticket          object\n",
       "Fare           float64\n",
       "Cabin           object\n",
       "Embarked        object\n",
       "dtype: object"
      ]
     },
     "execution_count": 6,
     "metadata": {},
     "output_type": "execute_result"
    }
   ],
   "source": [
    "df.dtypes"
   ]
  },
  {
   "cell_type": "code",
   "execution_count": 7,
   "id": "fecad900-60db-476e-9be4-abc3f8df0b18",
   "metadata": {},
   "outputs": [
    {
     "name": "stdout",
     "output_type": "stream",
     "text": [
      "<class 'pandas.core.frame.DataFrame'>\n",
      "RangeIndex: 891 entries, 0 to 890\n",
      "Data columns (total 12 columns):\n",
      " #   Column       Non-Null Count  Dtype  \n",
      "---  ------       --------------  -----  \n",
      " 0   PassengerId  891 non-null    int64  \n",
      " 1   Survived     891 non-null    int64  \n",
      " 2   Pclass       891 non-null    int64  \n",
      " 3   Name         891 non-null    object \n",
      " 4   Sex          891 non-null    object \n",
      " 5   Age          714 non-null    float64\n",
      " 6   SibSp        891 non-null    int64  \n",
      " 7   Parch        891 non-null    int64  \n",
      " 8   Ticket       891 non-null    object \n",
      " 9   Fare         891 non-null    float64\n",
      " 10  Cabin        204 non-null    object \n",
      " 11  Embarked     889 non-null    object \n",
      "dtypes: float64(2), int64(5), object(5)\n",
      "memory usage: 83.7+ KB\n"
     ]
    }
   ],
   "source": [
    "df.info()"
   ]
  },
  {
   "cell_type": "markdown",
   "id": "397ff6e6-d2d5-4575-ab50-72650126bbc6",
   "metadata": {},
   "source": [
    "## Q2. Given a Pandas DataFrame df with columns 'A', 'B', and 'C', write a Python function to re-index the DataFrame with a new index that starts from 1 and increments by 2 for each row.\n"
   ]
  },
  {
   "cell_type": "code",
   "execution_count": 20,
   "id": "ff1ebfb6-6012-4da6-927f-35341e9558ba",
   "metadata": {},
   "outputs": [
    {
     "name": "stdout",
     "output_type": "stream",
     "text": [
      "   A  B  C\n",
      "1  1  4  7\n",
      "3  2  5  8\n",
      "5  3  6  9\n"
     ]
    }
   ],
   "source": [
    "def reindex_df(df):\n",
    "    new_index = range(1,2*len(df)+1,2)\n",
    "    df_reindexed = df.set_index(pd.Index(new_index))\n",
    "    return df_reindexed\n",
    "\n",
    "df = pd.DataFrame({'A':[1,2,3],'B':[4,5,6],'C':[7,8,9]})\n",
    "df_reindexed = reindex_df(df)\n",
    "print(df_reindexed)\n",
    "\n"
   ]
  },
  {
   "cell_type": "markdown",
   "id": "30344d58-f5ec-4937-9555-302f59f92669",
   "metadata": {},
   "source": [
    "## Q3. You have a Pandas DataFrame df with a column named 'Values'. Write a Python function that iterates over the DataFrame and calculates the sum of the first three values in the 'Values' column. The function should print the sum to the console.For example, if the 'Values' column of df contains the values [10, 20, 30, 40, 50], your function should calculate and print the sum of the first three values, which is 60."
   ]
  },
  {
   "cell_type": "code",
   "execution_count": 11,
   "id": "a23a12eb-b9a6-4297-8815-d8584562ed6d",
   "metadata": {},
   "outputs": [
    {
     "name": "stdout",
     "output_type": "stream",
     "text": [
      "Sum of first three values is : 6\n"
     ]
    }
   ],
   "source": [
    "df = pd.DataFrame({'Values': [1, 2, 3, 4, 5, 6, 7, 8, 9]})\n",
    "\n",
    "def sumtv(df):\n",
    "    first3val = df['Values'].iloc[:3]\n",
    "    sum3v = first3val.sum()\n",
    "    print(\"Sum of first three values is :\",sum3v)\n",
    "\n",
    "sumtv(df)"
   ]
  },
  {
   "cell_type": "markdown",
   "id": "176ab706-b034-41d1-820d-c61e63224ba3",
   "metadata": {},
   "source": [
    "## Q4. Given a Pandas DataFrame df with a column 'Text', write a Python function to create a new column 'Word_Count' that contains the number of words in each row of the 'Text' column."
   ]
  },
  {
   "cell_type": "code",
   "execution_count": 15,
   "id": "91f9d0ca-ee73-445a-9da2-9977d3290062",
   "metadata": {},
   "outputs": [
    {
     "data": {
      "text/html": [
       "<div>\n",
       "<style scoped>\n",
       "    .dataframe tbody tr th:only-of-type {\n",
       "        vertical-align: middle;\n",
       "    }\n",
       "\n",
       "    .dataframe tbody tr th {\n",
       "        vertical-align: top;\n",
       "    }\n",
       "\n",
       "    .dataframe thead th {\n",
       "        text-align: right;\n",
       "    }\n",
       "</style>\n",
       "<table border=\"1\" class=\"dataframe\">\n",
       "  <thead>\n",
       "    <tr style=\"text-align: right;\">\n",
       "      <th></th>\n",
       "      <th>Text</th>\n",
       "      <th>Word_Count</th>\n",
       "    </tr>\n",
       "  </thead>\n",
       "  <tbody>\n",
       "    <tr>\n",
       "      <th>0</th>\n",
       "      <td>This is the first row</td>\n",
       "      <td>5</td>\n",
       "    </tr>\n",
       "    <tr>\n",
       "      <th>1</th>\n",
       "      <td>This is the second row</td>\n",
       "      <td>5</td>\n",
       "    </tr>\n",
       "    <tr>\n",
       "      <th>2</th>\n",
       "      <td>And this is the third</td>\n",
       "      <td>5</td>\n",
       "    </tr>\n",
       "  </tbody>\n",
       "</table>\n",
       "</div>"
      ],
      "text/plain": [
       "                     Text  Word_Count\n",
       "0   This is the first row           5\n",
       "1  This is the second row           5\n",
       "2   And this is the third           5"
      ]
     },
     "execution_count": 15,
     "metadata": {},
     "output_type": "execute_result"
    }
   ],
   "source": [
    "df = pd.DataFrame({'Text': ['This is the first row', 'This is the second row', 'And this is the third']})\n",
    "\n",
    "def func(df):\n",
    "    df['Word_Count'] = df['Text'].apply(lambda x: len(str(x).split()))\n",
    "    return df\n",
    "\n",
    "func(df)"
   ]
  },
  {
   "cell_type": "markdown",
   "id": "03b07805-5cd1-4164-84c3-b1a91ffcf3f6",
   "metadata": {},
   "source": [
    "## Q5. How are DataFrame.size() and DataFrame.shape() different?"
   ]
  },
  {
   "cell_type": "markdown",
   "id": "868c2332-ecc8-4e8c-8b92-70c5bb13211c",
   "metadata": {},
   "source": [
    "DataFrame.shape returns a tuple containing the number of rows and columns in the DataFrame.\n",
    "\n",
    "DataFrame.size, on the other hand, returns the total number of elements in the DataFrame. This is simply the product of the number of rows and columns in the DataFrame. "
   ]
  },
  {
   "cell_type": "markdown",
   "id": "2a29939f-98e7-4eb5-9044-ee78d631a4e5",
   "metadata": {},
   "source": [
    "## Q6. Which function of pandas do we use to read an excel file?\n"
   ]
  },
  {
   "cell_type": "markdown",
   "id": "e6597167-f3bb-488b-86cf-5488f976d374",
   "metadata": {},
   "source": [
    "\"read_excel('file.xlsx')\"  function is used to read an excel file."
   ]
  },
  {
   "cell_type": "markdown",
   "id": "9626e9fa-3637-44a5-8966-839f53eea85a",
   "metadata": {},
   "source": [
    "## Q7. You have a Pandas DataFrame df that contains a column named 'Email' that contains email addresses in the format 'username@domain.com'. Write a Python function that creates a new column 'Username' in df that contains only the username part of each email address.The username is the part of the email address that appears before the '@' symbol. For example, if the email address is 'john.doe@example.com', the 'Username' column should contain 'john.doe'. Your function should extract the username from each email address and store it in the new 'Username' column.\n"
   ]
  },
  {
   "cell_type": "code",
   "execution_count": 18,
   "id": "7a4cf9e1-cb7a-4e95-b143-1f7f97b0adb8",
   "metadata": {},
   "outputs": [
    {
     "name": "stdout",
     "output_type": "stream",
     "text": [
      "               Email Username       Domain\n",
      "0  user1@example.com    user1  example.com\n",
      "1  user2@example.com    user2  example.com\n",
      "2  user3@example.com    user3  example.com\n"
     ]
    }
   ],
   "source": [
    "data = {'Email': ['user1@example.com', 'user2@example.com', 'user3@example.com']}\n",
    "df = pd.DataFrame(data)\n",
    "\n",
    "def foo(df):\n",
    "    df[['Username','Domain']] = df['Email'].str.split('@', expand =True)\n",
    "    return df\n",
    "\n",
    "df = foo(df)\n",
    "print(df)"
   ]
  },
  {
   "cell_type": "markdown",
   "id": "65e3b1d3-9e64-4199-a5af-f2171fd78c18",
   "metadata": {},
   "source": [
    "## Q8. You have a Pandas DataFrame df with columns 'A', 'B', and 'C'. Write a Python function that selects all rows where the value in column 'A' is greater than 5 and the value in column 'B' is less than 10. The function should return a new DataFrame that contains only the selected rows.For example, if df contains the following values: \n",
    "\t\t  A B C \n",
    "\t\t0 3 5 1\n",
    "\t\t1 8 2 7\n",
    "\t\t2 6 9 4\n",
    "\t\t3 2 3 5\n",
    "\t\t4 9 1 2\n",
    "        \n",
    "## Your function should select the following rows:\n",
    "\t\t  A B C\n",
    "\t\t1 8 2 7\n",
    "\t\t4 9 1 2\n",
    "## The function should return a new DataFrame that contains only the selected rows."
   ]
  },
  {
   "cell_type": "code",
   "execution_count": 26,
   "id": "85c11949-65da-44a1-a6bf-70f7e614c387",
   "metadata": {},
   "outputs": [
    {
     "name": "stdout",
     "output_type": "stream",
     "text": [
      "   A  B  C\n",
      "1  8  2  7\n",
      "2  6  9  4\n",
      "4  9  1  2\n"
     ]
    }
   ],
   "source": [
    "data = {'A': [3, 8, 6, 2, 9], 'B': [5, 2, 9, 3, 1], 'C': [1, 7, 4, 5, 2]}\n",
    "df = pd.DataFrame(data)\n",
    "\n",
    "\n",
    "def foo1(df):\n",
    "\tdf1 = df[(df['A' ]> 5) & (df['B'] <10)]\n",
    "\tprint(df1)\n",
    "foo1(df)"
   ]
  },
  {
   "cell_type": "markdown",
   "id": "08c7e65c-911f-4a9f-8151-46af3981e4e5",
   "metadata": {},
   "source": [
    "## Q9. Given a Pandas DataFrame df with a column 'Values', write a Python function to calculate the mean, median, and standard deviation of the values in the 'Values' column.\n"
   ]
  },
  {
   "cell_type": "code",
   "execution_count": null,
   "id": "0bdc9495-4fb7-4659-825e-763aeaad5cd1",
   "metadata": {},
   "outputs": [],
   "source": [
    "import numpy as np\n",
    "\n",
    "def calculate(df):\n",
    "   \n",
    "    mean = df['Values'].mean()\n",
    "    median = df['Values'].median()\n",
    "    std_dev = df['Values'].std()\n",
    "    \n",
    "    \n",
    "    print('Mean:', mean)\n",
    "    print('Median:', median)\n",
    "    print('Standard Deviation:', std_dev)\n",
    "calculate(df)\n"
   ]
  },
  {
   "cell_type": "markdown",
   "id": "bad7aa84-829e-401d-a246-e3dae600a735",
   "metadata": {},
   "source": [
    "## Q10. Given a Pandas DataFrame df with a column 'Sales' and a column 'Date', write a Python function to create a new column 'MovingAverage' that contains the moving average of the sales for the past 7 days for each row in the DataFrame. The moving average should be calculated using a window of size 7 and should include the current day.\n"
   ]
  },
  {
   "cell_type": "code",
   "execution_count": null,
   "id": "e46493f5-94ce-4ca5-8589-55e839036c4d",
   "metadata": {},
   "outputs": [],
   "source": [
    "def moving(df):\n",
    "    window = 7\n",
    "    df['MovingAverage'] = df['Sales'].rolling(window,min_periods=1).mean()\n",
    "    return df"
   ]
  },
  {
   "cell_type": "markdown",
   "id": "6b74baf2-63e7-4713-876f-f015a0012e3c",
   "metadata": {},
   "source": [
    "## Q11. You have a Pandas DataFrame df with a column 'Date'. Write a Python function that creates a new column 'Weekday' in the DataFrame. The 'Weekday' column should contain the weekday name (e.g. Monday, Tuesday) corresponding to each date in the 'Date' column.\n",
    "## For example, if df contains the following values:\n",
    "        Date\n",
    "    0 2023-01-01\n",
    "\t1 2023-01-02\n",
    "\t2 2023-01-03\n",
    "\t3 2023-01-04\n",
    "\t4 2023-01-05\n",
    "# Your function should create the following DataFrame:\n",
    "\n",
    "\t\tDate    Weekday\n",
    "\t0 2023-01-01 Sunday\n",
    "\t1 2023-01-02 Monday\n",
    "\t2 2023-01-03 Tuesday\n",
    "\t3 2023-01-04 Wednesday\n",
    "\t4 2023-01-05 Thursday\n",
    "## The function should return the modified DataFrame."
   ]
  },
  {
   "cell_type": "code",
   "execution_count": null,
   "id": "ddf4dae7-c78e-48ef-8024-5f5df509651f",
   "metadata": {},
   "outputs": [],
   "source": [
    "def addweekday(df):\n",
    "    df['Weekday'] = df['Date'].dt.weekday_name\n",
    "    return df"
   ]
  },
  {
   "cell_type": "markdown",
   "id": "b007759b-8d52-44f1-b04e-abd0689d9834",
   "metadata": {},
   "source": [
    "## Q12. Given a Pandas DataFrame df with a column 'Date' that contains timestamps, write a Python function to select all rows where the date is between '2023-01-01' and '2023-01-31'."
   ]
  },
  {
   "cell_type": "code",
   "execution_count": null,
   "id": "e7f5cad2-9bf5-47ec-bc89-19b8db13e79f",
   "metadata": {},
   "outputs": [],
   "source": [
    "def foo(df):\n",
    "    start = pd.to_datetime('2023-01-01')\n",
    "    end = pd.to_datetime('2023-01-31')\n",
    "    disp = () & (df[])"
   ]
  },
  {
   "cell_type": "markdown",
   "id": "103d0939-914c-44e7-8b58-d367565f848d",
   "metadata": {},
   "source": [
    "## Q13. To use the basic functions of pandas, what is the first and foremost necessary library that needs to be imported?"
   ]
  },
  {
   "cell_type": "markdown",
   "id": "f16f351e-44c1-4461-a02c-fac2b9bbdd32",
   "metadata": {},
   "source": [
    "pandas library is the first and foremost necessary library that needs to be imported."
   ]
  },
  {
   "cell_type": "code",
   "execution_count": null,
   "id": "9d8ae218-b46a-4555-9854-95d958fd3a83",
   "metadata": {},
   "outputs": [],
   "source": []
  }
 ],
 "metadata": {
  "kernelspec": {
   "display_name": "Python 3 (ipykernel)",
   "language": "python",
   "name": "python3"
  },
  "language_info": {
   "codemirror_mode": {
    "name": "ipython",
    "version": 3
   },
   "file_extension": ".py",
   "mimetype": "text/x-python",
   "name": "python",
   "nbconvert_exporter": "python",
   "pygments_lexer": "ipython3",
   "version": "3.10.8"
  }
 },
 "nbformat": 4,
 "nbformat_minor": 5
}
