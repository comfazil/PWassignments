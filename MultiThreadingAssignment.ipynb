{
 "cells": [
  {
   "cell_type": "markdown",
   "id": "47c10b8d-20d9-45fa-b48e-817b609295bd",
   "metadata": {},
   "source": [
    "# Q1. What is multithreading in python? Why is it used? Name the module used to handle threads in python."
   ]
  },
  {
   "cell_type": "markdown",
   "id": "0284be86-7f6f-486f-bb51-efe708be4998",
   "metadata": {},
   "source": [
    "## Multithreading is a concept which can be used when we want to execute the multiple programs in the same process.\n",
    "\n",
    "## Running several threads is similar to running several different programs concurrently, but with the following benefits −\n",
    "\n",
    "## - Multiple threads within a process share the same data space with the main thread and can therefore share information or communicate with each other more easily than if they were separate processes.\n",
    "\n",
    "## - Threads sometimes called light-weight processes and they do not require much memory overhead; they are cheaper than processes.\n",
    "\n",
    "## The Module which is used to handle threads is \"threading\" module."
   ]
  },
  {
   "cell_type": "markdown",
   "id": "92c33ea8-9e4c-4681-aec2-00db6e02a0ee",
   "metadata": {},
   "source": [
    "# Q2. Why threading module used? Write the use of the following functions  1. activeCount()   2. currentThread()   3. enumerate()"
   ]
  },
  {
   "cell_type": "markdown",
   "id": "180679d0-eb5b-4fcc-927a-c090f755d4c5",
   "metadata": {},
   "source": [
    "## Threading module is used to handle threads in Python. By using threading module we can implement multithreading in Python.\n",
    "\n",
    "## 1. activeCount() : return the number of active thread objects.\n",
    "##\n",
    "## 2. currentThread() : returns the number of thread objects in the caller's thread control.\n",
    "##\n",
    "## 3. enumerate() :  adds a counter to an iterable and returns it in a form of enumerating object. This enumerated object can then be used directly for loops or converted into a list of tuples using the list() function."
   ]
  },
  {
   "cell_type": "markdown",
   "id": "3c1ce102-d02a-4e77-9830-86d175d9107c",
   "metadata": {},
   "source": [
    "# 3. Explain the following functions :\n",
    "# 1. run() 2. start() 3. join() 4. isAlive()"
   ]
  },
  {
   "cell_type": "markdown",
   "id": "04d46989-5424-4c57-badc-11f853503711",
   "metadata": {},
   "source": [
    "## 1. run() :  is called if the thread was constructed using a separate Runnable object otherwise this method does nothing and returns. When the run() method calls, the code specified in the run() method is executed. You can call the run() method multiple times.\n",
    "##\n",
    "## 2. start() :  is an inbuilt method of the Thread class of the threading module in Python. It is used to start a thread's activity. This method calls the run() method internally which then executes the target method. This method must be called at most one time for one thread. If it is called more than once, it raises a RuntimeError.\n",
    "##\n",
    "## 3. join() : delays a program's flow of execution until the target thread has been completely read.\n",
    "##\n",
    "## 4. isAlive() : It uses a Thread object, and checks whether that thread is alive or not, ie, it is still running or not."
   ]
  },
  {
   "cell_type": "markdown",
   "id": "36fff84c-8873-480a-8276-4888e6684299",
   "metadata": {},
   "source": [
    "# Q4. Write a python program to create two threads. Thread one must print the list of squares and thread two must print the list of cubes."
   ]
  },
  {
   "cell_type": "code",
   "execution_count": 21,
   "id": "df5a8f54-983f-44bf-8d6e-ab53e08966bf",
   "metadata": {},
   "outputs": [
    {
     "name": "stdout",
     "output_type": "stream",
     "text": [
      "1\n",
      "4\n",
      "9\n",
      "16\n",
      "25\n",
      "36\n",
      "49\n",
      "64\n",
      "81\n",
      "100\n",
      "\n",
      "\n",
      "1\n",
      "8\n",
      "27\n",
      "64\n",
      "125\n",
      "216\n",
      "343\n",
      "512\n",
      "729\n",
      "1000\n"
     ]
    }
   ],
   "source": [
    "import threading\n",
    "\n",
    "def sq():\n",
    "    for i in range(1,11):\n",
    "        print(i*i)\n",
    "def cube():\n",
    "    for i in range(1,11):\n",
    "        print(i*i*i)\n",
    "thread1 = threading.Thread(target = sq)\n",
    "thread2 = threading.Thread(target = cube)\n",
    "\n",
    "thread1.start()\n",
    "print('\\n')\n",
    "thread2.start()\n",
    "thread1.join()\n",
    "thread2.join()\n"
   ]
  },
  {
   "cell_type": "markdown",
   "id": "b3d80880-8f94-48f9-889c-01634dafe63d",
   "metadata": {},
   "source": [
    "# Q5. State advantages and Disadvantages of multithreading."
   ]
  },
  {
   "cell_type": "markdown",
   "id": "b8852da8-75c8-4b87-8fd9-1563aaf66a7f",
   "metadata": {},
   "source": [
    "Advantages:\n",
    "\n",
    "Performance gain: By enabling many threads to run concurrently across different cores, multithreading makes it possible for Python programmes to run faster by more effectively leveraging the CPU's resources.\n",
    "\n",
    "Faster response: By allowing the main thread to continue processing user input or other activities while other threads execute other work in the background, multithreading can also enhance the response time of a software.\n",
    "\n",
    "Resource sharing: By allowing threads to share resources like memory and CPU time, multithreading can help programmes utilise less resources overall.\n",
    "\n",
    "Multithreading can sometimes simplify the code by enabling programmers to divide a difficult process into smaller, more manageable components that can each be carried out by a different thread."
   ]
  },
  {
   "cell_type": "markdown",
   "id": "5458f4b6-1294-4776-98cb-a708d4cdc06a",
   "metadata": {},
   "source": [
    "Disadvantages:\n",
    "\n",
    "Complexity: Due to the need to manage thread synchronisation, thread safety, and potential race situations, multithreaded systems can be more complex than single-threaded applications.\n",
    "\n",
    "Increased memory usage: Because each thread has its own stack and memory allocation, programmes may use more memory.\n",
    "\n",
    "GIL: Python's Global Interpreter Lock (GIL) limits the performance advantages of multithreading in some circumstances by preventing concurrent execution of Python code.\n",
    "\n",
    "Debugging: Since multithreaded programmes sometimes exhibit non-deterministic behaviour that is challenging to duplicate, debugging multithreaded programmes can be more challenging than debugging single-threaded applications."
   ]
  },
  {
   "cell_type": "markdown",
   "id": "5d688765-e45a-439f-8640-9c542075b1d4",
   "metadata": {},
   "source": [
    "# Q6. Explain deadlocks and race conditions."
   ]
  },
  {
   "cell_type": "markdown",
   "id": "7d2a30e0-500c-4892-b8fa-7265b92d859e",
   "metadata": {},
   "source": [
    "Deadlock: A deadlock is a condition in which two or more threads are stalled while awaiting the release of a resource, creating a loop of waiting. When a resource is held by one thread and requested by another thread that is also holding the resource the first thread needs, a deadlock might result. As a result, neither thread is able to proceed, and the programme becomes trapped in a stalemate.\n",
    "\n",
    "Race Conditions: When a program's output depends on the order in which its threads are scheduled to run, a race condition has occurred. In other words, the time and order of thread execution affect the outcome. Race conditions can occur when multiple threads access and modify the same shared resource simultaneously, resulting in unpredictable or incorrect results."
   ]
  },
  {
   "cell_type": "code",
   "execution_count": null,
   "id": "8c571311-6ad8-4a18-9e4c-c41ffd194b4e",
   "metadata": {},
   "outputs": [],
   "source": []
  }
 ],
 "metadata": {
  "kernelspec": {
   "display_name": "Python 3 (ipykernel)",
   "language": "python",
   "name": "python3"
  },
  "language_info": {
   "codemirror_mode": {
    "name": "ipython",
    "version": 3
   },
   "file_extension": ".py",
   "mimetype": "text/x-python",
   "name": "python",
   "nbconvert_exporter": "python",
   "pygments_lexer": "ipython3",
   "version": "3.10.8"
  }
 },
 "nbformat": 4,
 "nbformat_minor": 5
}
