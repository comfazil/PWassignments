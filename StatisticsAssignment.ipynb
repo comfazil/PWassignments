{
 "cells": [
  {
   "cell_type": "markdown",
   "id": "f196142b-f8f0-4b2c-9900-524366ea0e5a",
   "metadata": {},
   "source": [
    "## Q1. What are the three measures of central tendency?"
   ]
  },
  {
   "cell_type": "markdown",
   "id": "fbf119ae-ff22-48a1-9774-cb5bd6cee66e",
   "metadata": {},
   "source": [
    " The three measures of central tendency are mean, median, and mode."
   ]
  },
  {
   "cell_type": "markdown",
   "id": "bcc1a45a-8b9f-4b89-89c0-d490225be14d",
   "metadata": {},
   "source": [
    "## Q2. What is the difference between the mean, median, and mode? How are they used to measure the central tendency of a dataset?"
   ]
  },
  {
   "cell_type": "markdown",
   "id": "9fbf68dc-3d4d-4884-8418-732118f823f5",
   "metadata": {},
   "source": [
    "Mean is the sum of all values in a dataset divided by the number of values. Median is the middle value of a dataset when arranged in ascending or descending order. Mode is the value that appears most frequently in a dataset. They are used to measure the central tendency of a dataset by providing a single value that represents the typical or central value of the dataset."
   ]
  },
  {
   "cell_type": "markdown",
   "id": "1a29442c-b4e3-4a58-94cd-8e24b8630a55",
   "metadata": {},
   "source": [
    "## Q3. Measure the three measures of central tendency for the given height data:\n",
    "[178,177,176,177,178.2,178,175,179,180,175,178.9,176.2,177,172.5,178,176.5]"
   ]
  },
  {
   "cell_type": "markdown",
   "id": "8a0e823d-aa52-4fc1-871e-2cb85f8a0010",
   "metadata": {},
   "source": [
    "Mean = 177.68, Median = 177.5, Mode = 178"
   ]
  },
  {
   "cell_type": "markdown",
   "id": "5f837160-ac9d-493e-b41f-46d42af4a239",
   "metadata": {},
   "source": [
    "## Q4. Find the standard deviation for the given data:\n",
    "[178,177,176,177,178.2,178,175,179,180,175,178.9,176.2,177,172.5,178,176.5]"
   ]
  },
  {
   "cell_type": "markdown",
   "id": "74c311a9-0368-4a80-9629-9fd7717fac3a",
   "metadata": {},
   "source": [
    "Standard deviation = 2.116"
   ]
  },
  {
   "cell_type": "markdown",
   "id": "dbcb33e3-e2ac-436d-b55f-9f576a0a26f9",
   "metadata": {},
   "source": [
    "## Q5. How are measures of dispersion such as range, variance, and standard deviation used to describe the spread of a dataset? Provide an example."
   ]
  },
  {
   "cell_type": "markdown",
   "id": "e9789539-8234-47a8-b92b-a8525ce55498",
   "metadata": {},
   "source": [
    " Measures of dispersion are used to describe the spread or variability of a dataset. Range is the difference between the maximum and minimum values of a dataset. Variance is a measure of how spread out the values in a dataset are from the mean. Standard deviation is the square root of variance and provides a measure of how much the values in a dataset vary from the mean. For example, if two datasets have the same mean but different standard deviations, the dataset with the larger standard deviation is more spread out."
   ]
  },
  {
   "cell_type": "markdown",
   "id": "781ca1b8-647c-4952-a5f9-fc835b427f34",
   "metadata": {},
   "source": [
    "## Q6. What is a Venn diagram?"
   ]
  },
  {
   "cell_type": "markdown",
   "id": "fe6be159-efcb-42ac-a0f3-958ca60d871e",
   "metadata": {},
   "source": [
    " A Venn diagram is a visual tool used to represent the relationship between two or more sets. It consists of overlapping circles or other shapes that represent the sets, with the overlapping regions representing the elements that are common to the sets."
   ]
  },
  {
   "cell_type": "markdown",
   "id": "57a23efb-49e4-4536-b077-a787f8f52830",
   "metadata": {},
   "source": [
    "## Q7. For the two given sets A = (2,3,4,5,6,7) & B = (0,2,6,8,10). Find:\n",
    "\t- (i) A B\n",
    "\t- (ii) A ⋃ B"
   ]
  },
  {
   "cell_type": "markdown",
   "id": "236def1a-bddb-4590-9c75-448d3b88ad6a",
   "metadata": {},
   "source": [
    "(i) A B = {2, 6} (elements common to both A and B)\n",
    "(ii) A ⋃ B = {0, 2, 3, 4, 5, 6, 7, 8, 10} (elements in either A or B or both)\n",
    "\n"
   ]
  },
  {
   "cell_type": "markdown",
   "id": "b310e654-900c-4f0b-a7d4-10cadfbbc953",
   "metadata": {},
   "source": [
    "## Q8. What do you understand about skewness in data?"
   ]
  },
  {
   "cell_type": "markdown",
   "id": "04de03ce-d1e3-4720-a600-064c37320d27",
   "metadata": {},
   "source": [
    " Skewness in data refers to the asymmetry of the distribution. It can be either positively skewed (tail is longer on the right side) or negatively skewed (tail is longer on the left side)."
   ]
  },
  {
   "cell_type": "markdown",
   "id": "e5cffc1d-5c7e-422d-a8fb-42e7c3c47f42",
   "metadata": {},
   "source": [
    "## Q9. If a data is right skewed then what will be the position of median with respect to mean?"
   ]
  },
  {
   "cell_type": "markdown",
   "id": "e04d36a0-20db-42aa-818e-a7e7f48df06c",
   "metadata": {},
   "source": [
    "If a data is right skewed, then the median will be less than the mean."
   ]
  },
  {
   "cell_type": "markdown",
   "id": "4c65a2e7-939b-4639-8a5c-4c892da0d9dd",
   "metadata": {},
   "source": [
    "## Q10. Explain the difference between covariance and correlation. How are these measures used in statistical analysis?"
   ]
  },
  {
   "cell_type": "markdown",
   "id": "8410e829-8098-4678-8859-ef99798fee33",
   "metadata": {},
   "source": [
    "Covariance measures the direction of the linear relationship between two variables, while correlation measures the strength and direction of the linear relationship between two variables. Covariance can take any value, while correlation is a standardized measure that ranges from -1 to 1. These measures are used in statistical analysis to determine the degree of relationship between two variables and to make predictions based on that relationship."
   ]
  },
  {
   "cell_type": "markdown",
   "id": "c9240b74-2961-46ae-a97d-3ebc5d87c0e1",
   "metadata": {},
   "source": [
    "## Q11. What is the formula for calculating the sample mean? Provide an example calculation for a dataset.\n"
   ]
  },
  {
   "cell_type": "markdown",
   "id": "83c3a732-810c-48ec-a660-9cb7313ada99",
   "metadata": {},
   "source": [
    "The formula for calculating the sample mean is:\n",
    " - mean = (sum of all values in the dataset) / (number of values in the dataset).\n",
    " \n",
    "For example, if a dataset has values of 2, 4, 6, and 8, the mean would be (2+4+6+8)/4 = 5"
   ]
  },
  {
   "cell_type": "markdown",
   "id": "aaae5225-d4ba-4b77-a3e0-7d433166c88a",
   "metadata": {},
   "source": [
    "## Q12. For a normal distribution data what is the relationship between its measure of central tendency?"
   ]
  },
  {
   "cell_type": "markdown",
   "id": "dce4e24d-880d-40a1-8710-266218e1c12d",
   "metadata": {},
   "source": [
    "For a normal distribution, the mean, median, and mode are all equal.\n",
    "\n"
   ]
  },
  {
   "cell_type": "markdown",
   "id": "5a34451b-2d75-46bf-879d-cf1571ed8177",
   "metadata": {},
   "source": [
    "## Q13. How is covariance different from correlation?"
   ]
  },
  {
   "cell_type": "markdown",
   "id": "e82eba74-81a7-48fd-88a6-fd1e368eaa47",
   "metadata": {},
   "source": [
    " Covariance measures the direction of the linear relationship between two variables, while correlation measures the strength and direction of the linear relationship between two variables. Covariance can take any value, while correlation is a standardized measure that ranges from -1 to 1."
   ]
  },
  {
   "cell_type": "markdown",
   "id": "3cf43e97-e746-4a35-b23f-2a7334af06d4",
   "metadata": {},
   "source": [
    "## Q14. How do outliers affect measures of central tendency and dispersion? Provide an example."
   ]
  },
  {
   "cell_type": "markdown",
   "id": "ce967bd0-aae4-4add-8137-8bbc1a13b4f3",
   "metadata": {},
   "source": [
    "Outliers can significantly affect measures of central tendency and dispersion. For example, if a dataset has a single outlier that is much larger or smaller than the other values, the mean will be skewed and may not represent the typical value of the dataset. Similarly, the presence of outliers can increase the range, variance, and standard deviation, making them less accurate measures of the spread of the data."
   ]
  },
  {
   "cell_type": "code",
   "execution_count": null,
   "id": "fd6f9eab-26ca-4912-bf6a-2bd96a524a34",
   "metadata": {},
   "outputs": [],
   "source": []
  }
 ],
 "metadata": {
  "kernelspec": {
   "display_name": "Python 3 (ipykernel)",
   "language": "python",
   "name": "python3"
  },
  "language_info": {
   "codemirror_mode": {
    "name": "ipython",
    "version": 3
   },
   "file_extension": ".py",
   "mimetype": "text/x-python",
   "name": "python",
   "nbconvert_exporter": "python",
   "pygments_lexer": "ipython3",
   "version": "3.10.8"
  }
 },
 "nbformat": 4,
 "nbformat_minor": 5
}
