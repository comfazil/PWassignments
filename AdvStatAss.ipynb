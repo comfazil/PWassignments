{
 "cells": [
  {
   "cell_type": "markdown",
   "id": "1cf52d00-53c6-4797-805a-8d292c398467",
   "metadata": {},
   "source": [
    "## Q1: What are the Probability Mass Function (PMF) and Probability Density Function (PDF)? Explain with an example."
   ]
  },
  {
   "cell_type": "markdown",
   "id": "d7a3d520-dd5d-4bea-be5b-df675fa22066",
   "metadata": {},
   "source": [
    "The Probability Mass Function (PMF) is a function that gives the probability of a discrete random variable taking a specific value. It maps each possible value of the random variable to the probability of that value occurring. The Probability Density Function (PDF), on the other hand, is a function that gives the probability density of a continuous random variable at a particular value. It is the derivative of the Cumulative Distribution Function (CDF).\n",
    "\n",
    "For example, consider flipping a fair coin. The possible outcomes are heads and tails, with equal probabilities of 0.5. The PMF for this case would be: P(X=heads) = 0.5 and P(X=tails) = 0.5."
   ]
  },
  {
   "cell_type": "markdown",
   "id": "d79a70cb-69e6-4cb9-96ba-f82d6a2b27b4",
   "metadata": {},
   "source": [
    "## Q2: What is Cumulative Density Function (CDF)? Explain with an example. Why CDF is used?"
   ]
  },
  {
   "cell_type": "markdown",
   "id": "431478c8-f89e-47ee-a837-83d1b5242062",
   "metadata": {},
   "source": [
    "The Cumulative Density Function (CDF) is the probability that a random variable X takes on a value less than or equal to x. It gives the cumulative probability distribution of a random variable. The CDF is the integral of the Probability Density Function (PDF). The CDF is useful because it allows us to calculate the probability of a range of values of a random variable.\n",
    "\n",
    "For example, consider the standard normal distribution with mean 0 and standard deviation 1. The CDF gives the probability that a random variable X is less than or equal to a particular value x. This can be represented as P(X <= x)."
   ]
  },
  {
   "cell_type": "markdown",
   "id": "bd195305-6a3b-4d93-a344-37c1bf9697b3",
   "metadata": {},
   "source": [
    "## Q3: What are some examples of situations where the normal distribution might be used as a model? Explain how the parameters of the normal distribution relate to the shape of the distribution."
   ]
  },
  {
   "cell_type": "markdown",
   "id": "c0927b62-473c-4b8a-9c73-b8cfcf1ff63b",
   "metadata": {},
   "source": [
    "The normal distribution is used as a model in situations where the data follows a bell-shaped curve, where most of the observations cluster around the mean. The normal distribution is also used in situations where we want to approximate the distribution of a sum or average of a large number of independent and identically distributed random variables.\n",
    "\n",
    "Examples of situations where the normal distribution might be used include the heights of a large population of individuals, the scores on a standardized test, or the errors in a measurement. The parameters of the normal distribution are the mean and standard deviation. The mean determines the location of the peak of the curve, while the standard deviation determines the spread of the curve."
   ]
  },
  {
   "cell_type": "markdown",
   "id": "70e0fa8b-b858-4941-a9f5-4171a79da668",
   "metadata": {},
   "source": [
    "## Q4: Explain the importance of Normal Distribution. Give a few real-life examples of Normal Distribution."
   ]
  },
  {
   "cell_type": "markdown",
   "id": "dd1b02be-fcd6-402e-b85a-f1fcf68e2f78",
   "metadata": {},
   "source": [
    "The Normal Distribution is important because it is widely used in statistics and probability theory. It is a key model for many natural phenomena and can be used to approximate many real-world situations. The Normal Distribution is also important because of its role in the Central Limit Theorem, which states that the sum or average of a large number of independent and identically distributed random variables will be approximately normally distributed.\n",
    "\n",
    "Real-life examples of Normal Distribution include the heights of a population, the IQ scores of a group of people, and the distribution of errors in scientific measurements."
   ]
  },
  {
   "cell_type": "markdown",
   "id": "9be4d954-d5d6-4757-a5a7-6c792379121b",
   "metadata": {},
   "source": [
    "## Q5: What is Bernaulli Distribution? Give an Example. What is the difference between Bernoulli Distribution and Binomial Distribution?"
   ]
  },
  {
   "cell_type": "markdown",
   "id": "f60b2ecf-80b2-401d-a4e9-22bf6cb41045",
   "metadata": {},
   "source": [
    "The Bernoulli Distribution is a discrete probability distribution that describes the probability of a single binary event, such as flipping a coin or rolling a dice. It has only two possible outcomes: success (with probability p) or failure (with probability 1-p).\n",
    "\n",
    "An example of the Bernoulli Distribution is the probability of getting heads when flipping a fair coin. The Bernoulli Distribution is a special case of the Binomial Distribution, which describes the probability of a certain number of successes in a fixed number of independent Bernoulli trials. The main difference between the Bernoulli Distribution and the Binomial Distribution is that the Bernoulli Distribution describes a single trial, while the Binomial Distribution describes the number of successes in a fixed number of trials."
   ]
  },
  {
   "cell_type": "markdown",
   "id": "5a83cb4f-3cfa-406e-8543-f5876d31fd13",
   "metadata": {},
   "source": [
    "## Q6. Consider a dataset with a mean of 50 and a standard deviation of 10. If we assume that the dataset is normally distributed, what is the probability that a randomly selected observation will be greater than 60? Use the appropriate formula and show your calculations."
   ]
  },
  {
   "cell_type": "markdown",
   "id": "1e166e93-1f31-4ca7-9e0d-6da74077edac",
   "metadata": {},
   "source": [
    "We can use the standard normal distribution to answer this question. If a dataset has a mean of 50 and a standard deviation of 10, we can standardize the dataset to obtain a z-score:\n",
    "\n",
    "z = (60 - 50) / 10 = 1\n",
    "\n",
    "We can then use a standard normal distribution table or calculator to find the probability that a z-score is greater than 1. In this case, the probability is approximately 0.1587 or 15.87%."
   ]
  },
  {
   "cell_type": "markdown",
   "id": "59372da5-65f8-4478-8a27-40d49cf1733e",
   "metadata": {},
   "source": [
    "## Q7: Explain uniform Distribution with an example."
   ]
  },
  {
   "cell_type": "markdown",
   "id": "c430d812-c5e1-4bf7-92d1-eb39556be4c8",
   "metadata": {},
   "source": [
    " The Uniform Distribution is a continuous probability distribution where all values within a specific range are equally likely to occur. It is often used to model situations where every outcome in a given range is equally likely.\n",
    "\n",
    "An example of a Uniform Distribution is rolling a fair dice. The possible outcomes are numbers 1 through 6, and each outcome has an equal probability of occurring."
   ]
  },
  {
   "cell_type": "markdown",
   "id": "3cef0018-7ede-4705-8903-41518256f51d",
   "metadata": {},
   "source": [
    "## Q8: What is the z score? State the importance of the z score."
   ]
  },
  {
   "cell_type": "markdown",
   "id": "bf743005-6943-4419-bbb4-b3298a8c04c3",
   "metadata": {},
   "source": [
    "A z-score is a standardized value that measures the distance of a given data point from the mean in units of standard deviation. It is calculated by subtracting the mean from the data point and dividing by the standard deviation. The z-score allows us to compare data points from different distributions and helps us to understand how unusual or typical a particular observation is relative to the rest of the data.\n",
    "\n",
    "The importance of the z-score is that it allows us to standardize different data sets and compare them in a meaningful way. It also helps us to identify outliers and understand the variability of the data."
   ]
  },
  {
   "cell_type": "markdown",
   "id": "81dbe7ab-4795-496c-8abc-38595682370c",
   "metadata": {},
   "source": [
    "## Q9: What is Central Limit Theorem? State the significance of the Central Limit Theorem."
   ]
  },
  {
   "cell_type": "markdown",
   "id": "4b3a4cab-8c88-42a9-be0b-002aa312510f",
   "metadata": {},
   "source": [
    "The Central Limit Theorem (CLT) states that the sampling distribution of the mean of any independent and identically distributed random variable will approach a normal distribution as the sample size increases, regardless of the shape of the original distribution. The significance of the Central Limit Theorem is that it provides a framework for understanding the behavior of sample means. It allows us to use the normal distribution to make inferences about population parameters, even if the population distribution is unknown or non-normal. The CLT also helps us to understand the role of sample size in statistical analysis and the importance of random sampling."
   ]
  },
  {
   "cell_type": "markdown",
   "id": "c15f40af-c147-4fd1-a204-2f8faf5fd533",
   "metadata": {},
   "source": [
    "## Q10: State the assumptions of the Central Limit Theorem."
   ]
  },
  {
   "cell_type": "markdown",
   "id": "8427242b-4e02-4875-8726-7ff270c0e325",
   "metadata": {},
   "source": [
    "The assumptions of the Central Limit Theorem are:\n",
    "\n",
    " - The sample is a random sample.\n",
    " - The sample size is large enough (usually greater than 30).\n",
    " - The observations are independent of each other.\n",
    " - The population from which the sample is drawn has a finite variance."
   ]
  },
  {
   "cell_type": "code",
   "execution_count": null,
   "id": "bbd8b2a2-9568-4e4a-afc3-15f65a185972",
   "metadata": {},
   "outputs": [],
   "source": []
  }
 ],
 "metadata": {
  "kernelspec": {
   "display_name": "Python 3 (ipykernel)",
   "language": "python",
   "name": "python3"
  },
  "language_info": {
   "codemirror_mode": {
    "name": "ipython",
    "version": 3
   },
   "file_extension": ".py",
   "mimetype": "text/x-python",
   "name": "python",
   "nbconvert_exporter": "python",
   "pygments_lexer": "ipython3",
   "version": "3.10.8"
  }
 },
 "nbformat": 4,
 "nbformat_minor": 5
}
