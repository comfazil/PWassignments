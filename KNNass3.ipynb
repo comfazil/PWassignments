{
 "cells": [
  {
   "cell_type": "markdown",
   "id": "7edba89c-4453-4574-81de-6b04325c7c95",
   "metadata": {},
   "source": [
    "## Q1. Write a Python code to implement the KNN classifier algorithm on load_iris dataset in sklearn.datasets.\n"
   ]
  },
  {
   "cell_type": "code",
   "execution_count": 1,
   "id": "4d79f522-fe60-47be-b313-d1b17d02eb1f",
   "metadata": {},
   "outputs": [
    {
     "name": "stdout",
     "output_type": "stream",
     "text": [
      "Accuracy: 1.0\n"
     ]
    }
   ],
   "source": [
    "from sklearn.datasets import load_iris\n",
    "from sklearn.neighbors import KNeighborsClassifier\n",
    "from sklearn.model_selection import train_test_split\n",
    "\n",
    "# Load iris dataset\n",
    "iris = load_iris()\n",
    "\n",
    "# Split dataset into train and test sets\n",
    "X_train, X_test, y_train, y_test = train_test_split(iris.data, iris.target, test_size=0.2, random_state=42)\n",
    "\n",
    "# Create KNN classifier object with k=3\n",
    "knn = KNeighborsClassifier(n_neighbors=3)\n",
    "\n",
    "# Fit the model on the training data\n",
    "knn.fit(X_train, y_train)\n",
    "\n",
    "# Predict the classes of test data\n",
    "y_pred = knn.predict(X_test)\n",
    "\n",
    "# Evaluate the model performance on the test set\n",
    "print(\"Accuracy:\", knn.score(X_test, y_test))\n"
   ]
  },
  {
   "cell_type": "markdown",
   "id": "7c9e4164-37c0-41dd-baf4-dfa5839b3a25",
   "metadata": {},
   "source": [
    "## Q2. Write a Python code to implement the KNN regressor algorithm on load_boston dataset in sklearn.datasets.\n"
   ]
  },
  {
   "cell_type": "code",
   "execution_count": null,
   "id": "c8ede928-8510-42b9-b752-4dae423bdce4",
   "metadata": {},
   "outputs": [],
   "source": [
    "from sklearn.datasets import load_boston\n",
    "from sklearn.neighbors import KNeighborsRegressor\n",
    "from sklearn.model_selection import train_test_split\n",
    "from sklearn.preprocessing import StandardScaler\n",
    "\n",
    "# Load boston dataset\n",
    "boston = load_boston()\n",
    "\n",
    "# Split dataset into train and test sets\n",
    "X_train, X_test, y_train, y_test = train_test_split(boston.data, boston.target, test_size=0.2, random_state=42)\n",
    "\n",
    "# Scale the features using StandardScaler\n",
    "scaler = StandardScaler()\n",
    "X_train_scaled = scaler.fit_transform(X_train)\n",
    "X_test_scaled = scaler.transform(X_test)\n",
    "\n",
    "# Create KNN regressor object with k=3\n",
    "knn = KNeighborsRegressor(n_neighbors=3)\n",
    "\n",
    "# Fit the model on the scaled training data\n",
    "knn.fit(X_train_scaled, y_train)\n",
    "\n",
    "# Predict the target values of test data\n",
    "y_pred = knn.predict(X_test_scaled)\n",
    "\n",
    "# Evaluate the model performance on the test set\n",
    "print(\"MSE:\", mean_squared_error(y_test, y_pred))\n",
    "print(\"R^2 score:\", r2_score(y_test, y_pred))\n"
   ]
  },
  {
   "cell_type": "markdown",
   "id": "5130e457-273f-42df-b155-603b48949a9c",
   "metadata": {},
   "source": [
    "## Q3. Write a Python code snippet to find the optimal value of K for the KNN classifier algorithm using cross-validation on load_iris dataset in sklearn.datasets.\n"
   ]
  },
  {
   "cell_type": "code",
   "execution_count": 3,
   "id": "a83e7044-3b08-43cf-a4d4-a276a4c1b225",
   "metadata": {},
   "outputs": [
    {
     "name": "stdout",
     "output_type": "stream",
     "text": [
      "Best value of K: 6\n"
     ]
    }
   ],
   "source": [
    "from sklearn.datasets import load_iris\n",
    "from sklearn.neighbors import KNeighborsClassifier\n",
    "from sklearn.model_selection import GridSearchCV\n",
    "\n",
    "# Load iris dataset\n",
    "iris = load_iris()\n",
    "\n",
    "# Create KNN classifier object\n",
    "knn = KNeighborsClassifier()\n",
    "\n",
    "# Define grid of hyperparameters to search over\n",
    "param_grid = {'n_neighbors': range(1, 11)}\n",
    "\n",
    "# Perform a grid search over the hyperparameters using cross-validation\n",
    "grid_search = GridSearchCV(knn, param_grid, cv=5)\n",
    "grid_search.fit(iris.data, iris.target)\n",
    "\n",
    "# Print the best value of K found during the grid search\n",
    "print(\"Best value of K:\", grid_search.best_params_['n_neighbors'])\n"
   ]
  },
  {
   "cell_type": "markdown",
   "id": "ceb2f864-a678-45c0-bfd2-7491fc41a734",
   "metadata": {},
   "source": [
    "## Q4. Implement the KNN regressor algorithm with feature scaling on load_boston dataset in sklearn.datasets.\n"
   ]
  },
  {
   "cell_type": "code",
   "execution_count": null,
   "id": "9d0ab113-e10a-40d7-b37a-380d5454eea1",
   "metadata": {},
   "outputs": [],
   "source": [
    "from sklearn.datasets import load_boston\n",
    "from sklearn.model_selection import train_test_split\n",
    "from sklearn.neighbors import KNeighborsRegressor\n",
    "from sklearn.preprocessing import StandardScaler\n",
    "from sklearn.metrics import mean_squared_error\n",
    "\n",
    "# load the dataset\n",
    "data = load_boston()\n",
    "\n",
    "# split the dataset into training and testing sets\n",
    "X_train, X_test, y_train, y_test = train_test_split(data.data, data.target, test_size=0.2, random_state=42)\n",
    "\n",
    "# standardize the features\n",
    "scaler = StandardScaler()\n",
    "X_train = scaler.fit_transform(X_train)\n",
    "X_test = scaler.transform(X_test)\n",
    "\n",
    "# create the KNN regressor model\n",
    "k = 5\n",
    "knn = KNeighborsRegressor(n_neighbors=k)\n",
    "\n",
    "# fit the model on the training data\n",
    "knn.fit(X_train, y_train)\n",
    "\n",
    "# predict on the testing data\n",
    "y_pred = knn.predict(X_test)\n",
    "\n",
    "# evaluate the performance of the model\n",
    "mse = mean_squared_error(y_test, y_pred)\n",
    "print(f'Mean Squared Error: {mse}')\n"
   ]
  },
  {
   "cell_type": "markdown",
   "id": "2a303927-fd58-4e6b-b8e3-c5e1c78db0f7",
   "metadata": {},
   "source": [
    "## Q5. Write a Python code snippet to implement the KNN classifier algorithm with weighted voting on load_iris dataset in sklearn.datasets.\n"
   ]
  },
  {
   "cell_type": "code",
   "execution_count": 7,
   "id": "e83563f9-70f8-4bce-b5c4-21728b753a5f",
   "metadata": {},
   "outputs": [
    {
     "name": "stdout",
     "output_type": "stream",
     "text": [
      "Accuracy: 1.0\n"
     ]
    }
   ],
   "source": [
    "from sklearn.datasets import load_iris\n",
    "from sklearn.model_selection import train_test_split\n",
    "from sklearn.neighbors import KNeighborsClassifier\n",
    "from sklearn.metrics import accuracy_score\n",
    "\n",
    "# load the dataset\n",
    "data = load_iris()\n",
    "\n",
    "# split the dataset into training and testing sets\n",
    "X_train, X_test, y_train, y_test = train_test_split(data.data, data.target, test_size=0.2, random_state=42)\n",
    "\n",
    "# create the KNN classifier model with weighted voting\n",
    "k = 5\n",
    "knn = KNeighborsClassifier(n_neighbors=k, weights='distance')\n",
    "\n",
    "# fit the model on the training data\n",
    "knn.fit(X_train, y_train)\n",
    "\n",
    "# predict on the testing data\n",
    "y_pred = knn.predict(X_test)\n",
    "\n",
    "# evaluate the performance of the model\n",
    "accuracy = accuracy_score(y_test, y_pred)\n",
    "print(f'Accuracy: {accuracy}')\n"
   ]
  },
  {
   "cell_type": "markdown",
   "id": "fac51874-60c0-46a9-82fd-b01b08046987",
   "metadata": {},
   "source": [
    "## Q6. Implement a function to standardise the features before applying KNN classifier.\n"
   ]
  },
  {
   "cell_type": "code",
   "execution_count": 8,
   "id": "b8bf9e80-191f-4bf2-b5f0-e6ed21978d4b",
   "metadata": {},
   "outputs": [],
   "source": [
    "from sklearn.preprocessing import StandardScaler\n",
    "\n",
    "def standardize_features(X_train, X_test):\n",
    "    \"\"\"\n",
    "    Standardize the features of the training and testing sets.\n",
    "    \n",
    "    Parameters:\n",
    "    X_train (numpy array): Training data features.\n",
    "    X_test (numpy array): Testing data features.\n",
    "    \n",
    "    Returns:\n",
    "    X_train_scaled (numpy array): Standardized training data features.\n",
    "    X_test_scaled (numpy array): Standardized testing data features.\n",
    "    \"\"\"\n",
    "    scaler = StandardScaler()\n",
    "    X_train_scaled = scaler.fit_transform(X_train)\n",
    "    X_test_scaled = scaler.transform(X_test)\n",
    "    \n",
    "    return X_train_scaled, X_test_scaled\n"
   ]
  },
  {
   "cell_type": "markdown",
   "id": "6163f2a1-ba7b-4d87-9de4-996f83bca962",
   "metadata": {},
   "source": [
    "## Q7. Write a Python function to calculate the euclidean distance between two points.\n"
   ]
  },
  {
   "cell_type": "code",
   "execution_count": 4,
   "id": "0b56340a-518b-4120-b920-2d05efecb7c4",
   "metadata": {},
   "outputs": [],
   "source": [
    "import numpy as np\n",
    "\n",
    "def euclidean_distance(point1, point2):\n",
    "    \"\"\"\n",
    "    Calculates the euclidean distance between two points.\n",
    "    \"\"\"\n",
    "    return np.sqrt(np.sum((point1 - point2) ** 2))\n"
   ]
  },
  {
   "cell_type": "markdown",
   "id": "3ada5c09-a61d-4803-97ad-e89148806961",
   "metadata": {},
   "source": [
    "## Q8.Write a Python function to calculate the manhattan distance between two points."
   ]
  },
  {
   "cell_type": "code",
   "execution_count": 5,
   "id": "d1b7eea2-a82c-46cc-b6b9-e35fb1acd86a",
   "metadata": {},
   "outputs": [],
   "source": [
    "import numpy as np\n",
    "\n",
    "def manhattan_distance(point1, point2):\n",
    "    \"\"\"\n",
    "    Calculates the manhattan distance between two points.\n",
    "    \"\"\"\n",
    "    return np.sum(np.abs(point1 - point2))\n"
   ]
  },
  {
   "cell_type": "code",
   "execution_count": null,
   "id": "486e321f-a7a4-4fbb-93e8-0be5ba31cf72",
   "metadata": {},
   "outputs": [],
   "source": []
  }
 ],
 "metadata": {
  "kernelspec": {
   "display_name": "Python 3 (ipykernel)",
   "language": "python",
   "name": "python3"
  },
  "language_info": {
   "codemirror_mode": {
    "name": "ipython",
    "version": 3
   },
   "file_extension": ".py",
   "mimetype": "text/x-python",
   "name": "python",
   "nbconvert_exporter": "python",
   "pygments_lexer": "ipython3",
   "version": "3.10.8"
  }
 },
 "nbformat": 4,
 "nbformat_minor": 5
}
