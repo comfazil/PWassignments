{
 "cells": [
  {
   "cell_type": "markdown",
   "id": "a91e84f2-607e-477f-b51e-5e2b673709bf",
   "metadata": {},
   "source": [
    "## Q1. What is an API? Give an example, where an API is used in real life."
   ]
  },
  {
   "cell_type": "markdown",
   "id": "ab303a82-07f1-4d52-84d8-a56d34f7f069",
   "metadata": {},
   "source": [
    "API stands for Application Programming Interface. It is a set of protocols, tools, and routines for building software applications. APIs define how software components should interact with each other, allowing different applications to communicate and exchange data with each other.\n",
    "\n",
    "An example of an API used in real life is the Google Maps API. The Google Maps API provides developers with a way to embed Google Maps into their own applications and websites. This allows developers to build applications that leverage the functionality of Google Maps, such as displaying maps, adding markers and overlays, and getting directions. For example, the popular ride-sharing app Uber uses the Google Maps API to display maps and calculate fares and routes for their drivers and riders."
   ]
  },
  {
   "cell_type": "markdown",
   "id": "cf587dbb-9c61-423a-8f97-2629ecb599f5",
   "metadata": {},
   "source": [
    "## Q2. Give advantages and disadvantages of using API."
   ]
  },
  {
   "cell_type": "markdown",
   "id": "50680bc2-ad62-42cf-8844-6703fe7ec9fc",
   "metadata": {},
   "source": [
    "Advantages of using API:\n",
    "\n",
    "Integration: APIs allow different software applications to integrate with each other, allowing them to communicate and share data seamlessly.\n",
    "\n",
    "Efficiency: APIs can make it more efficient to build software by providing pre-built components and functionality that can be used to speed up development.\n",
    "\n",
    "Scalability: APIs can be used to build scalable applications that can handle large amounts of data and traffic.\n",
    "\n",
    "Customization: APIs can be customized to meet the specific needs of different applications and use cases.\n",
    "\n",
    "Innovation: APIs can enable developers to build innovative new applications by leveraging existing functionality and data.\n",
    "\n",
    "Disadvantages of using API:\n",
    "\n",
    "Complexity: APIs can be complex to implement and maintain, particularly when dealing with large and complex systems.\n",
    "\n",
    "Security risks: APIs can create security risks if they are not properly secured and protected, particularly when exposing sensitive data and functionality.\n",
    "\n",
    "Dependency: APIs can create a dependency on external systems and services, which can be problematic if those systems are unavailable or have downtime.\n",
    "\n",
    "Versioning: APIs may require versioning and managing backward compatibility, which can be complex and require careful planning.\n",
    "\n",
    "Cost: Some APIs may require payment or licensing fees, which can add to the cost of developing and maintaining applications that use them.\n",
    "\n",
    "\n",
    "\n"
   ]
  },
  {
   "cell_type": "markdown",
   "id": "f9fe6adc-8090-4940-927e-389a714f0d7e",
   "metadata": {},
   "source": [
    "## Q3. What is a Web API? Differentiate between API and Web API."
   ]
  },
  {
   "cell_type": "markdown",
   "id": "c214e34b-d9f8-4899-9197-e8ca17f2cf08",
   "metadata": {},
   "source": [
    "A Web API (or Web Application Programming Interface) is a specific type of API that is designed to be used over the web. It provides a way for developers to interact with web-based applications, services, or platforms by sending HTTP requests to a server and receiving responses in a standardized format, typically JSON or XML.\n",
    "\n",
    "The main difference between a general API and a Web API is that Web APIs are designed specifically to be used over the web, whereas APIs can be used in a variety of contexts, including desktop and mobile applications.\n",
    "\n",
    "Here are some other differences:\n",
    "\n",
    "Communication protocol: Web APIs use HTTP as their communication protocol, while other APIs may use other communication protocols such as TCP, UDP, or SMTP.\n",
    "\n",
    "Data format: Web APIs typically use JSON or XML as their data exchange format, while other APIs may use different formats such as binary or plain text.\n",
    "\n",
    "Accessibility: Web APIs can be accessed from anywhere with an internet connection, while other APIs may require direct access to a specific system or network.\n",
    "\n",
    "Security: Web APIs are subject to unique security concerns, such as cross-site scripting (XSS) and cross-site request forgery (CSRF), that may not be present in other types of APIs."
   ]
  },
  {
   "cell_type": "markdown",
   "id": "d2c64b9f-b851-473a-9b90-a90edab9bf00",
   "metadata": {},
   "source": [
    "## Q4. Explain REST and SOAP Architecture. Mention shortcomings of SOAP."
   ]
  },
  {
   "cell_type": "code",
   "execution_count": null,
   "id": "150faea0-a43c-4b7b-9bea-fe3e5effdb6a",
   "metadata": {},
   "outputs": [],
   "source": []
  }
 ],
 "metadata": {
  "kernelspec": {
   "display_name": "Python 3 (ipykernel)",
   "language": "python",
   "name": "python3"
  },
  "language_info": {
   "codemirror_mode": {
    "name": "ipython",
    "version": 3
   },
   "file_extension": ".py",
   "mimetype": "text/x-python",
   "name": "python",
   "nbconvert_exporter": "python",
   "pygments_lexer": "ipython3",
   "version": "3.10.8"
  }
 },
 "nbformat": 4,
 "nbformat_minor": 5
}
